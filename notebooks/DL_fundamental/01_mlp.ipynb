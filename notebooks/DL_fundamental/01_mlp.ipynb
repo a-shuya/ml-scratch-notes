{
 "cells": [
  {
   "cell_type": "markdown",
   "id": "443e9764",
   "metadata": {},
   "source": [
    "# 最小MLP（多層パーセプトロン）の実装"
   ]
  },
  {
   "cell_type": "markdown",
   "id": "88649d24",
   "metadata": {},
   "source": [
    "このノートブックでは、ディープラーニングの最も基本的なモデルである多層パーセプトロン（MLP）を、まずNumPyだけを使ってスクラッチで実装します。その後、同じモデルをPyTorchを使って実装し、両者を比較することで、フレームワークの役割や利便性を理解します。\n",
    "\n",
    "**このノートブックで学ぶこと:**\n",
    "1.  **NumPyによるMLPの実装:**\n",
    "    *   順伝播（フォワードプロパゲーション）\n",
    "    *   活性化関数（Sigmoid, ReLU）\n",
    "    *   損失関数（平均二乗誤差, 交差エントロピー損失）\n",
    "    *   逆伝播（バックプロパゲーション）の手動計算\n",
    "    *   基本的な最適化アルゴリズム（確率的勾配降下法 - SGD）\n",
    "2.  **PyTorchによるMLPの実装:**\n",
    "    *   `torch.nn.Module` を使ったモデル定義\n",
    "    *   `torch.autograd` による自動微分\n",
    "    *   `torch.optim` を使った最適化\n",
    "3.  **NumPy実装とPyTorch実装の比較:**\n",
    "    *   コードの記述量、可読性\n",
    "    *   勾配計算の自動化のメリット\n",
    "    *   デバッグのしやすさなど\n",
    "\n",
    "**前提知識:**\n",
    "*   基本的なPythonプログラミング\n",
    "*   NumPyの基本的な操作\n",
    "*   線形代数の基礎（行列演算、ベクトルなど）\n",
    "*   微分の基礎\n",
    "*   機械学習の基本的な概念（訓練データ、テストデータ、損失関数、勾配降下法など）"
   ]
  },
  {
   "cell_type": "markdown",
   "id": "81821825",
   "metadata": {},
   "source": [
    "## 1. NumPyによるMLPの実装"
   ]
  },
  {
   "cell_type": "markdown",
   "id": "8ef08ee4",
   "metadata": {},
   "source": [
    "### 1.1 必要なライブラリのインポート"
   ]
  },
  {
   "cell_type": "code",
   "execution_count": 341,
   "id": "b6d735dc",
   "metadata": {},
   "outputs": [],
   "source": [
    "import numpy as np\n",
    "import matplotlib.pyplot as plt"
   ]
  },
  {
   "cell_type": "markdown",
   "id": "a84608c7",
   "metadata": {},
   "source": [
    "### 1.2 データセットの準備 (XOR問題)"
   ]
  },
  {
   "cell_type": "markdown",
   "id": "987e545d",
   "metadata": {},
   "source": [
    "MLPの能力を示す古典的な例として、XOR問題を扱います。XORは線形分離不可能な問題であり、単層パーセプトロンでは解けませんが、隠れ層を持つMLPであれば解くことができます。\n",
    "\n",
    "*   入力: 2つのバイナリ値 (0 or 1)\n",
    "*   出力: XORの結果 (0 or 1)\n",
    "\n",
    "| X1 | X2 | Y  |\n",
    "|----|----|----|\n",
    "| 0  | 0  | 0  |\n",
    "| 0  | 1  | 1  |\n",
    "| 1  | 0  | 1  |\n",
    "| 1  | 1  | 0  |"
   ]
  },
  {
   "cell_type": "code",
   "execution_count": 342,
   "id": "e2a7d072",
   "metadata": {},
   "outputs": [
    {
     "name": "stdout",
     "output_type": "stream",
     "text": [
      "XOR入力データ (X_xor):\n",
      " [[0. 0.]\n",
      " [0. 1.]\n",
      " [1. 0.]\n",
      " [1. 1.]]\n",
      "\n",
      "XOR出力データ (y_xor):\n",
      " [[0.]\n",
      " [1.]\n",
      " [1.]\n",
      " [0.]]\n"
     ]
    }
   ],
   "source": [
    "# XORデータセット\n",
    "X_xor = np.array([[0, 0],\n",
    "                  [0, 1],\n",
    "                  [1, 0],\n",
    "                  [1, 1]], dtype=np.float32)\n",
    "\n",
    "y_xor = np.array([[0],\n",
    "                  [1],\n",
    "                  [1],\n",
    "                  [0]], dtype=np.float32)\n",
    "\n",
    "print(\"XOR入力データ (X_xor):\\n\", X_xor)\n",
    "print(\"\\nXOR出力データ (y_xor):\\n\", y_xor)"
   ]
  },
  {
   "cell_type": "markdown",
   "id": "936fcb00",
   "metadata": {},
   "source": [
    "### 1.3 MLPの構造"
   ]
  },
  {
   "cell_type": "markdown",
   "id": "251ace4e",
   "metadata": {},
   "source": [
    "今回実装するMLPは以下の構造とします。\n",
    "*   入力層: 2ユニット (XORの入力X1, X2に対応)\n",
    "*   隠れ層: 任意ユニット数（例: 2ユニット）、活性化関数はSigmoidまたはReLU\n",
    "*   出力層: 1ユニット (XORの出力Yに対応)、活性化関数はSigmoid（出力を0-1の確率として解釈するため）"
   ]
  },
  {
   "cell_type": "markdown",
   "id": "b9fcd4ae",
   "metadata": {},
   "source": [
    "### 1.4 主要コンポーネントの実装"
   ]
  },
  {
   "cell_type": "markdown",
   "id": "841af85a",
   "metadata": {},
   "source": [
    "#### 1.4.1 活性化関数 (Activation Functions)\n",
    "\n",
    "活性化関数は、ニューロンの発火を模倣し、ネットワークに非線形性をもたらします。\n",
    "\n",
    "*   **Sigmoid関数:**\n",
    "    $\\sigma(x) = \\frac{1}{1 + e^{-x}}$\n",
    "    出力は (0, 1) の範囲。主に二値分類の出力層や、古いスタイルの隠れ層で使われました。\n",
    "    微分: $\\sigma'(x) = \\sigma(x)(1 - \\sigma(x))$\n",
    "\n",
    "*   **ReLU関数 (Rectified Linear Unit):**\n",
    "    $\\text{ReLU}(x) = \\max(0, x)$\n",
    "    計算が軽く、勾配消失問題を緩和する効果があるため、現代の多くのネットワークの隠れ層で標準的に使われます。\n",
    "    微分: $\\text{ReLU}'(x) = 1 \\text{ if } x > 0 \\text{ else } 0$"
   ]
  },
  {
   "cell_type": "code",
   "execution_count": 343,
   "id": "9d4fee3c",
   "metadata": {},
   "outputs": [],
   "source": [
    "def sigmoid(x):\n",
    "    '''Sigmoid関数'''\n",
    "    return 1 / (1 + np.exp(-np.clip(x, -1000, 1000)))  # オーバーフロー対策\n",
    "\n",
    "def sigmoid_derivative(s):\n",
    "    '''Sigmoid関数の導関数（活性化後の値を引数に取る）'''\n",
    "    return s * (1 - s)\n",
    "\n",
    "def relu(x):\n",
    "    '''ReLU関数'''\n",
    "    return np.maximum(0, x)\n",
    "\n",
    "def relu_derivative(x):\n",
    "    '''Relu関数の導関数（活性化前の値を引数に取る）'''\n",
    "    return np.where(x > 0, 1, 0)"
   ]
  },
  {
   "cell_type": "code",
   "execution_count": 344,
   "id": "168bb81a",
   "metadata": {},
   "outputs": [
    {
     "name": "stdout",
     "output_type": "stream",
     "text": [
      "x: [-2 -1  0  1  2]\n",
      "Sigmoid(x): [0.11920292 0.26894142 0.5        0.73105858 0.88079708]\n",
      "Sigmoid_derivative(x): [-6 -2  0  0 -2]\n",
      "ReLU(x): [0 0 0 1 2]\n",
      "ReLU_derivative(x): [0 0 0 1 1]\n"
     ]
    }
   ],
   "source": [
    "# テスト\n",
    "test_x = np.array([-2, -1, 0, 1, 2])\n",
    "print(\"x:\", test_x)\n",
    "print(\"Sigmoid(x):\", sigmoid(test_x))\n",
    "print(\"Sigmoid_derivative(x):\", sigmoid_derivative(test_x))\n",
    "print(\"ReLU(x):\", relu(test_x))\n",
    "print(\"ReLU_derivative(x):\", relu_derivative(test_x))"
   ]
  },
  {
   "cell_type": "markdown",
   "id": "f1c106b9",
   "metadata": {},
   "source": [
    "#### 1.4.2 損失関数 (Loss Functions)\n",
    "\n",
    "損失関数は、モデルの予測と実際の値との間の誤差を測る尺度です。この損失を最小化するようにモデルのパラメータを学習します。\n",
    "\n",
    "*   **平均二乗誤差 (Mean Squared Error - MSE):**\n",
    "    $L_{MSE} = \\frac{1}{N} \\sum_{i=1}^{N} (y_i - \\hat{y}_i)^2$\n",
    "    主に回帰問題で使われます。\n",
    "    出力層の活性化関数が恒等関数の場合、この損失関数の勾配はシンプルになります。\n",
    "    今回は出力層がSigmoidなので、MSEを使う場合はそれも考慮した勾配計算が必要です。\n",
    "\n",
    "*   **交差エントロピー損失 (Binary Cross-Entropy Loss):**\n",
    "    $L_{BCE} = - \\frac{1}{N} \\sum_{i=1}^{N} [y_i \\log(\\hat{y}_i) + (1 - y_i) \\log(1 - \\hat{y}_i)]$\n",
    "    主に二値分類問題で、出力層の活性化関数がSigmoidの場合に使われます。\n",
    "    この損失関数は、Sigmoid出力との組み合わせで勾配計算がシンプルになるという利点があります ($\\hat{y} - y$)。\n",
    "\n",
    "今回はXOR問題（二値分類）で、出力層の活性化関数をSigmoidとするため、**交差エントロピー損失**を使用するのが一般的です。簡単のため、まずは**平均二乗誤差 (MSE)** で実装し、その後交差エントロピーについても触れます。"
   ]
  },
  {
   "cell_type": "code",
   "execution_count": 345,
   "id": "61bde4c4",
   "metadata": {},
   "outputs": [],
   "source": [
    "def mean_squared_error(y_true, y_pred):\n",
    "    '''平均二乗誤差'''\n",
    "    return np.mean((y_true - y_pred)**2)\n",
    "\n",
    "def binary_cross_entropy(y_true, y_pred):\n",
    "    '''バイナリ交差エントロピー'''\n",
    "    # log(0)を避けるための微小値を追加\n",
    "    epsilon = 1e-15\n",
    "    y_pred = np.clip(y_pred, epsilon, 1 - epsilon)  # 0や1にならないようにクリップ\n",
    "    return -np.mean(y_true*np.log(y_pred) + (1 - y_true)*np.log(1 - y_pred))"
   ]
  },
  {
   "cell_type": "code",
   "execution_count": 346,
   "id": "cf4d4a66",
   "metadata": {},
   "outputs": [
    {
     "name": "stdout",
     "output_type": "stream",
     "text": [
      "MSE for pred1: 0.0250\n",
      "MSE for pred2: 0.2500\n",
      "BCE for pred1: 0.1643\n",
      "BCE for pred2: 0.6931\n"
     ]
    }
   ],
   "source": [
    "# テスト\n",
    "y_true_test = np.array([0, 1, 1, 0])\n",
    "y_pred_test1 = np.array([0.1, 0.9, 0.8, 0.2])\n",
    "y_pred_test2 = np.array([0.5, 0.5, 0.5, 0.5]) # 全て0.5と予測\n",
    "print(f\"MSE for pred1: {mean_squared_error(y_true_test, y_pred_test1):.4f}\")\n",
    "print(f\"MSE for pred2: {mean_squared_error(y_true_test, y_pred_test2):.4f}\") # こちらの方が誤差が大きい\n",
    "print(f\"BCE for pred1: {binary_cross_entropy(y_true_test, y_pred_test1):.4f}\")\n",
    "print(f\"BCE for pred2: {binary_cross_entropy(y_true_test, y_pred_test2):.4f}\") # こちらの方が誤差が大きい"
   ]
  },
  {
   "cell_type": "markdown",
   "id": "c543eadc",
   "metadata": {},
   "source": [
    "#### 1.4.3 パラメータの初期化\n",
    "\n",
    "ニューラルネットワークの重み($W$)とバイアス($b$)を初期化します。\n",
    "重みの初期化は学習の成否に影響を与える重要な要素です。ここでは単純に小さな乱数で初期化します。"
   ]
  },
  {
   "cell_type": "code",
   "execution_count": 347,
   "id": "a3814041",
   "metadata": {},
   "outputs": [],
   "source": [
    "def initialize_parameters(input_size, hidden_size, output_size):\n",
    "    '''\n",
    "    MLPのパラメータを初期化する関数\n",
    "    parameters:\n",
    "        input_size: 入力層のノード数\n",
    "        hidden_size: 隠れ層のノード数\n",
    "        output_size: 出力層のノード数\n",
    "    returns:\n",
    "        dict: 初期化されたパラメータ（'W1', 'b1', 'W2', 'b2'）\n",
    "    '''\n",
    "    np.random.seed(42)  # 再現性のため\n",
    "    \n",
    "    # 入力層 -> 隠れ層\n",
    "    W1 = np.random.randn(input_size, hidden_size) * np.sqrt(1.0 / input_size) # 初期化\n",
    "    b1 = np.zeros((1, hidden_size))  # バイアスは0で初期化\n",
    "\n",
    "    # 隠れ層 -> 出力層\n",
    "    W2 = np.random.randn(hidden_size, output_size) * np.sqrt(1.0 / input_size) # 初期化\n",
    "    b2 = np.zeros((1, output_size))  # バイアスは0で初期化\n",
    "\n",
    "    parameters = {\n",
    "        'W1': W1,\n",
    "        'b1': b1,\n",
    "        'W2': W2,\n",
    "        'b2': b2\n",
    "    }\n",
    "    return parameters"
   ]
  },
  {
   "cell_type": "code",
   "execution_count": 348,
   "id": "3c053767",
   "metadata": {},
   "outputs": [
    {
     "name": "stdout",
     "output_type": "stream",
     "text": [
      "W1 shape: (2, 2)\n",
      "b1 shape: (1, 2)\n",
      "W2 shape: (2, 1)\n",
      "b2 shape: (1, 1)\n"
     ]
    }
   ],
   "source": [
    "# パラメータサイズの定義\n",
    "input_size = X_xor.shape[1]  # 入力層のノード数\n",
    "hidden_size = 2  # 隠れ層のノード数\n",
    "output_size = y_xor.shape[1]  # 出力層のノード数\n",
    "\n",
    "params = initialize_parameters(input_size, hidden_size, output_size)\n",
    "print('W1 shape:', params['W1'].shape)\n",
    "print('b1 shape:', params['b1'].shape)\n",
    "print('W2 shape:', params['W2'].shape)\n",
    "print('b2 shape:', params['b2'].shape)"
   ]
  },
  {
   "cell_type": "markdown",
   "id": "72e1684c",
   "metadata": {},
   "source": [
    "#### 1.4.4 順伝播 (Forward Propagation)\n",
    "\n",
    "入力データ $X$ と現在のパラメータ（重み $W$ とバイアス $b$）を使って、ネットワークの出力を計算します。\n",
    "\n",
    "1.  **入力層 → 隠れ層:**\n",
    "    *   線形和: $Z_1 = X \\cdot W_1 + b_1$\n",
    "    *   活性化: $A_1 = \\sigma(Z_1)$  (ここではSigmoidを使用)\n",
    "2.  **隠れ層 → 出力層:**\n",
    "    *   線形和: $Z_2 = A_1 \\cdot W_2 + b_2$\n",
    "    *   活性化: $A_2 = \\hat{y} = \\sigma(Z_2)$ (出力層もSigmoid)\n",
    "\n",
    "計算途中の値 ($Z_1, A_1, Z_2, A_2$) は、後の逆伝播（バックプロパゲーション）で勾配を計算するために必要となるため、「キャッシュ」として保存しておきます。"
   ]
  },
  {
   "cell_type": "code",
   "execution_count": 349,
   "id": "6c9cc48a",
   "metadata": {},
   "outputs": [],
   "source": [
    "def forward_propagation(X, parameters, hidden_activation_fn = sigmoid, output_activation_fn = sigmoid):\n",
    "    '''\n",
    "    MLPの順伝播を行う関数\n",
    "    parameters:\n",
    "        X: 入力データ\n",
    "        parameters: MLPのパラメータ（'W1', 'b1', 'W2', 'b2'）\n",
    "        hidden_activation_fn: 隠れ層の活性化関数\n",
    "        output_activation_fn: 出力層の活性化関数\n",
    "    returns:\n",
    "        tupleL (A2, cache)\n",
    "            A2: 出力層の活性化値\n",
    "            cache: 順伝播の中間値（後でバックプロパゲーションで使用）\n",
    "    '''\n",
    "    W1 = parameters['W1']\n",
    "    b1 = parameters['b1']\n",
    "    W2 = parameters['W2']\n",
    "    b2 = parameters['b2']\n",
    "    \n",
    "    # 入力層 -> 隠れ層\n",
    "    z1 = np.dot(X, W1) + b1  # 線形和\n",
    "    A1 = hidden_activation_fn(z1)  # 隠れ層の活性化\n",
    "\n",
    "    # 隠れ層 -> 出力層 \n",
    "    z2 = np.dot(A1, W2) + b2 # 線形和\n",
    "    A2 = output_activation_fn(z2)  # 出力層の活性化\n",
    "\n",
    "    cache = {\n",
    "        'A1': A1,\n",
    "        'z1': z1,\n",
    "        'A2': A2,\n",
    "        'z2': z2\n",
    "    }\n",
    "\n",
    "    return A2, cache"
   ]
  },
  {
   "cell_type": "code",
   "execution_count": 350,
   "id": "8ae94442",
   "metadata": {},
   "outputs": [
    {
     "name": "stdout",
     "output_type": "stream",
     "text": [
      "出力 A2:\n",
      " [[0.45870288]\n",
      " [0.44400781]\n",
      " [0.4561348 ]\n",
      " [0.44153893]]\n"
     ]
    }
   ],
   "source": [
    "# テスト\n",
    "A2_sample, cache_sample = forward_propagation(X_xor, params)\n",
    "print(\"出力 A2:\\n\", A2_sample)"
   ]
  },
  {
   "cell_type": "markdown",
   "id": "61f3cd14",
   "metadata": {},
   "source": [
    "#### 1.4.5 逆伝播 (Backward Propagation)\n",
    "\n",
    "順伝播で計算された予測値と真の値との誤差（損失）を、ネットワークのパラメータ（重みとバイアス）で微分し、各パラメータが損失にどれだけ影響を与えたか（勾配）を計算します。この勾配を使ってパラメータを更新します。\n",
    "計算は出力層から入力層に向かって、連鎖律（Chain Rule）を使いながら行われます。\n",
    "\n",
    "今回は損失関数としてMSE $L = \\frac{1}{N}\\sum(y - A_2)^2$ を、活性化関数としてSigmoid $\\sigma(x)$ を使用する場合の勾配を計算します。\n",
    "簡単のため、バッチ全体の損失に対する勾配を考えます（平均化 $1/N$ は後で学習率で調整可能）。\n",
    "$L_{sample} = (y - A_2)^2$ (1サンプルあたりの二乗誤差の主要部)\n",
    "\n",
    "1.  **出力層の勾配:**\n",
    "    *   $\\frac{\\partial L_{sample}}{\\partial A_2} = -2(y - A_2)$\n",
    "    *   $\\frac{\\partial A_2}{\\partial Z_2} = \\sigma'(Z_2) = A_2(1 - A_2)$ (Sigmoidの微分)\n",
    "    *   $dZ_2 = \\frac{\\partial L}{\\partial Z_2} = \\frac{\\partial L}{\\partial A_2} \\cdot \\frac{\\partial A_2}{\\partial Z_2} = -2(y - A_2) \\odot A_2(1 - A_2)$ (要素ごとの積 $\\odot$)\n",
    "        *   注: Binary Cross Entropy Loss と Sigmoid出力の場合、この $dZ_2$ は $(A_2 - y)$ と非常にシンプルになります。今回はMSEなのでこの形です。\n",
    "\n",
    "    *   $\\frac{\\partial L}{\\partial W_2} = A_1^T \\cdot dZ_2$\n",
    "    *   $\\frac{\\partial L}{\\partial b_2} = \\sum dZ_2$ (バッチ内の合計、または平均)\n",
    "\n",
    "2.  **隠れ層の勾配:**\n",
    "    *   $\\frac{\\partial L}{\\partial A_1} = dZ_2 \\cdot W_2^T$\n",
    "    *   $\\frac{\\partial A_1}{\\partial Z_1} = \\sigma'(Z_1) = A_1(1 - A_1)$ (隠れ層もSigmoidの場合)\n",
    "    *   $dZ_1 = \\frac{\\partial L}{\\partial Z_1} = \\frac{\\partial L}{\\partial A_1} \\cdot \\frac{\\partial A_1}{\\partial Z_1} = (dZ_2 \\cdot W_2^T) \\odot A_1(1 - A_1)$\n",
    "\n",
    "    *   $\\frac{\\partial L}{\\partial W_1} = X^T \\cdot dZ_1$\n",
    "    *   $\\frac{\\partial L}{\\partial b_1} = \\sum dZ_1$\n",
    "\n",
    "ここで、`N` はサンプル数（バッチサイズ）です。勾配は平均を取ることが多いですが、学習率で調整できるため、合計のままでも構いません。"
   ]
  },
  {
   "cell_type": "code",
   "execution_count": 351,
   "id": "ec9c0105",
   "metadata": {},
   "outputs": [],
   "source": [
    "def backward_propagation(X, y, parameters, cache,\n",
    "                         hidden_activation_derivative_fn = sigmoid_derivative,\n",
    "                         output_activation_derivative_fn = sigmoid_derivative,\n",
    "                         ):\n",
    "    '''\n",
    "    MLPの逆伝播を計算し，各パラメータの勾配を求める関数\n",
    "    parameters:\n",
    "        X: 入力データ\n",
    "        y: 正解ラベル\n",
    "        parameters: MLPのパラメータ（'W1', 'b1', 'W2', 'b2'）\n",
    "        cache: 順伝播の中間値\n",
    "        hidden_activation_derivative_fn: 隠れ層の活性化関数の導関数\n",
    "        output_activation_derivative_fn: 出力層の活性化関数の導関数\n",
    "    returns:\n",
    "        dict: 各パラメータの勾配（'dW1', 'db1', 'dW2', 'db2'）\n",
    "    '''\n",
    "    m = X.shape[0] # サンプル数（バッチサイズ）\n",
    "    \n",
    "    W1 = parameters['W1']\n",
    "    W2 = parameters['W2']\n",
    "    A1 = cache['A1']\n",
    "    A2 = cache['A2']\n",
    "    z1 = cache['z1']\n",
    "    z2 = cache['z2']\n",
    "\n",
    "    # 出力層の勾配\n",
    "    # dL/dA2 (MSEの場合: -(Y - A2) * 2 / m) (平均を取る場合)\n",
    "    # 今回は簡単のため、出力層の活性化関数の微分と組み合わせた dZ2 を直接計算\n",
    "    # dL/dZ2 = dL/dA2 * dA2/dZ2\n",
    "    # MSEの場合: dA2 = A2 - Y (実際は -2(Y-A2)/m だが、ここでは1/mを省略)\n",
    "    # dZ2 = dA2 * output_activation_derivative_fn(A2) (もしdA2がdL/dA2なら)\n",
    "    \n",
    "    # MSE損失 L = 1/2 * (A2 - Y)^2 の場合 (1/2 をつけると微分が綺麗になる)\n",
    "    # dL/dA2 = A2 - Y\n",
    "    # dZ2 = (A2 - Y) * output_activation_derivative_fn(Z2) <- Z2 を渡すのが正しい\n",
    "    # (Sigmoidの微分は σ'(z) = σ(z)(1-σ(z)) = A(1-A) なので、Aを渡しても計算できるが、\n",
    "    #  ReLUの場合は活性化前の値Zが必要になる)\n",
    "    # 多くの実装では、活性化関数の微分には活性化後の値(A)を使うことが多いのでそれに倣う\n",
    "    \n",
    "    # 今回は損失関数を L = 0.5 * sum((Y - A2)^2) / m と仮定\n",
    "    # dL/dA2 = (A2 - Y) / m\n",
    "    # dZ2 = dL/dA2 * dA2/dZ2\n",
    "    # dA2/dZ2 = sigmoid_derivative(Z2)\n",
    "    \n",
    "    # Binary Cross Entropy と Sigmoid出力の場合: dZ2 = A2 - Y (これが最もシンプル)\n",
    "    # 今回はMSEとSigmoid出力なので、少し複雑になる。\n",
    "    # L = 0.5 * (A2 - Y)^2 (サンプルごとの損失)\n",
    "    # ∂L/∂A2 = A2 - Y\n",
    "    # ∂A2/∂Z2 = A2 * (1 - A2) (A2 = sigmoid(Z2)の微分)\n",
    "    # dZ2 = (A2 - Y) * (A2 * (1 - A2))\n",
    "\n",
    "    error_output_layer = A2 - y # 予測誤差\n",
    "    dZ2 = error_output_layer * output_activation_derivative_fn(A2)  # 出力層の勾配\n",
    "\n",
    "    dW2 = (1/m) * np.dot(A1.T, dZ2)\n",
    "    db2 = (1/m) * np.sum(dZ2, axis=0, keepdims=True)\n",
    "\n",
    "    # 隠れ層の勾配\n",
    "    dA1 = np.dot(dZ2, W2.T)  # 隠れ層の出力に対する勾配\n",
    "    dZ1 = dA1 * hidden_activation_derivative_fn(A1)  # 隠れ層の勾配\n",
    "\n",
    "    dW1 = (1/m) * np.dot(X.T, dZ1)\n",
    "    db1 = (1/m) * np.sum(dZ1, axis=0, keepdims=True)\n",
    "\n",
    "    grads = {\n",
    "        'dW1': dW1,\n",
    "        'db1': db1,\n",
    "        'dW2': dW2,\n",
    "        'db2': db2\n",
    "    }\n",
    "    return grads"
   ]
  },
  {
   "cell_type": "markdown",
   "id": "c62c136b",
   "metadata": {},
   "source": [
    "#### 1.4.6 パラメータの更新 (Optimizer)\n",
    "\n",
    "計算された勾配を使って、モデルのパラメータを更新します。最も基本的な方法は確率的勾配降下法（SGD）です。\n",
    "\n",
    "$W = W - \\alpha \\frac{\\partial L}{\\partial W}$\n",
    "$b = b - \\alpha \\frac{\\partial L}{\\partial b}$\n",
    "\n",
    "ここで $\\alpha$ は学習率（learning rate）です。"
   ]
  },
  {
   "cell_type": "code",
   "execution_count": 352,
   "id": "f52f0583",
   "metadata": {},
   "outputs": [],
   "source": [
    "def update_parameters(parameters, grads, learning_rate):\n",
    "    '''\n",
    "    パラメータを更新する関数\n",
    "    parameters:\n",
    "        parameters: MLPのパラメータ（'W1', 'b1', 'W2', 'b2'）\n",
    "        grads: 各パラメータの勾配（'dW1', 'db1', 'dW2', 'db2'）\n",
    "        learning_rate: 学習率\n",
    "    returns:\n",
    "        dict: 更新されたパラメータ\n",
    "    '''\n",
    "    W1 = parameters['W1']\n",
    "    b1 = parameters['b1']\n",
    "    W2 = parameters['W2']\n",
    "    b2 = parameters['b2']\n",
    "\n",
    "    dW1 = grads['dW1']\n",
    "    db1 = grads['db1']\n",
    "    dW2 = grads['dW2']\n",
    "    db2 = grads['db2']\n",
    "\n",
    "    # パラメータの更新\n",
    "    W1 -= learning_rate * dW1\n",
    "    b1 -= learning_rate * db1\n",
    "    W2 -= learning_rate * dW2\n",
    "    b2 -= learning_rate * db2\n",
    "\n",
    "    updated_parameters = {\n",
    "        'W1': W1,\n",
    "        'b1': b1,\n",
    "        'W2': W2,\n",
    "        'b2': b2\n",
    "    }\n",
    "\n",
    "    return updated_parameters"
   ]
  },
  {
   "cell_type": "markdown",
   "id": "14f77ed4",
   "metadata": {},
   "source": [
    "### 1.5 MLPモデルの学習ループ\n",
    "\n",
    "上記のコンポーネントを組み合わせて、MLPモデルを学習させます。\n",
    "\n",
    "1.  パラメータを初期化する。\n",
    "2.  指定されたエポック（訓練回数）だけ以下を繰り返す:  \n",
    "    a.  **順伝播**: 入力データ $X$ を使って予測値 $\\hat{y}$ とキャッシュを計算する。  \n",
    "    b.  **損失計算**: 予測値 $\\hat{y}$ と真の値 $Y$ から損失を計算する（デバッグや進捗確認用）。  \n",
    "    c.  **逆伝播**: 勾配 $\\frac{\\partial L}{\\partial W}, \\frac{\\partial L}{\\partial b}$ を計算する。  \n",
    "    d.  **パラメータ更新**: 計算された勾配と学習率を使ってパラメータを更新する。  "
   ]
  },
  {
   "cell_type": "code",
   "execution_count": 353,
   "id": "226fa41f",
   "metadata": {},
   "outputs": [],
   "source": [
    "def train_mlp_np(X, y, hidden_size, num_epochs=100, learning_rate=0.01, print_cost_every=1000):\n",
    "    '''\n",
    "    NumPyでMLPを学習する関数\n",
    "    parameters:\n",
    "        X: 入力データ\n",
    "        y: 正解ラベル\n",
    "        hidden_size: 隠れ層のノード数\n",
    "        num_epochs: 学習エポック数\n",
    "        learning_rate: 学習率\n",
    "        print_cost_every: 指定したエポックごとにコストを表示する\n",
    "    returns:\n",
    "        dict: 学習後のパラメータ（'W1', 'b1', 'W2', 'b2'）\n",
    "    '''\n",
    "    input_s = X.shape[1]  # 入力層のノード数\n",
    "    output_s = y.shape[1]  # 出力層のノード数\n",
    "\n",
    "    parameters = initialize_parameters(input_s, hidden_size, output_s)\n",
    "    cost = []\n",
    "\n",
    "    for epoch in range(num_epochs+1):\n",
    "        # 順伝播\n",
    "        # xorなので隠れ層も出力層もsigmoidを使用\n",
    "        A2, cache = forward_propagation(X, parameters, hidden_activation_fn=sigmoid,\n",
    "                                        output_activation_fn=sigmoid)\n",
    "\n",
    "        # 損失計算\n",
    "        current_cost = mean_squared_error(y, A2)  # MSEを使用\n",
    "        # current_cost = binary_cross_entropy(y, A2)  # BCEを使用する場合はこちらを有効にする\n",
    "\n",
    "        # 逆伝播\n",
    "        grads = backward_propagation(X, y, parameters, cache,\n",
    "                                    hidden_activation_derivative_fn=sigmoid_derivative,\n",
    "                                    output_activation_derivative_fn=sigmoid_derivative)\n",
    "        \n",
    "        # パラメータ更新\n",
    "        parameters = update_parameters(parameters, grads, learning_rate)\n",
    "\n",
    "        if epoch % print_cost_every == 0:\n",
    "            cost.append(current_cost)\n",
    "            print(f\"Epoch {epoch}/{num_epochs}, Cost: {current_cost:.4f}\")\n",
    "\n",
    "    return parameters, cost"
   ]
  },
  {
   "cell_type": "code",
   "execution_count": 361,
   "id": "f1155442",
   "metadata": {},
   "outputs": [
    {
     "name": "stdout",
     "output_type": "stream",
     "text": [
      "NumPy MLP 学習開始 (XORデータ)...\n",
      "Epoch 0/20000, Cost: 0.2639\n",
      "Epoch 1000/20000, Cost: 0.2492\n",
      "Epoch 2000/20000, Cost: 0.2365\n",
      "Epoch 3000/20000, Cost: 0.1601\n",
      "Epoch 4000/20000, Cost: 0.0597\n",
      "Epoch 5000/20000, Cost: 0.0198\n",
      "Epoch 6000/20000, Cost: 0.0085\n",
      "Epoch 7000/20000, Cost: 0.0049\n",
      "Epoch 8000/20000, Cost: 0.0034\n",
      "Epoch 9000/20000, Cost: 0.0025\n",
      "Epoch 10000/20000, Cost: 0.0020\n",
      "Epoch 11000/20000, Cost: 0.0017\n",
      "Epoch 12000/20000, Cost: 0.0014\n",
      "Epoch 13000/20000, Cost: 0.0012\n",
      "Epoch 14000/20000, Cost: 0.0011\n",
      "Epoch 15000/20000, Cost: 0.0010\n",
      "Epoch 16000/20000, Cost: 0.0009\n",
      "Epoch 17000/20000, Cost: 0.0008\n",
      "Epoch 18000/20000, Cost: 0.0007\n",
      "Epoch 19000/20000, Cost: 0.0007\n",
      "Epoch 20000/20000, Cost: 0.0006\n"
     ]
    },
    {
     "data": {
      "image/png": "[encoded data removed]",
      "text/plain": [
       "<Figure size 400x300 with 1 Axes>"
      ]
     },
     "metadata": {},
     "output_type": "display_data"
    },
    {
     "name": "stdout",
     "output_type": "stream",
     "text": [
      "\n",
      "NumPy MLP Predictions on XOR data:\n",
      "Input: [0. 0.], True: 0.0, Predicted: 0.0280 (Rounded: 0.0)\n",
      "Input: [0. 1.], True: 1.0, Predicted: 0.9762 (Rounded: 1.0)\n",
      "Input: [1. 0.], True: 1.0, Predicted: 0.9761 (Rounded: 1.0)\n",
      "Input: [1. 1.], True: 0.0, Predicted: 0.0246 (Rounded: 0.0)\n"
     ]
    }
   ],
   "source": [
    "# 学習の実行\n",
    "print(\"NumPy MLP 学習開始 (XORデータ)...\")\n",
    "trained_params_np, costs_np = train_mlp_np(X_xor, y_xor, hidden_size=4, num_epochs=20000, learning_rate=0.5)\n",
    "# 学習曲線のプロット\n",
    "plt.figure(figsize=(4,3))\n",
    "plt.plot(costs_np)\n",
    "plt.xlabel(f\"Epochs (per {1000})\")\n",
    "plt.ylabel(\"Cost (MSE)\")\n",
    "plt.title(\"NumPy MLP Learning Curve (XOR)\")\n",
    "plt.show()\n",
    "\n",
    "# 学習済みモデルで予測\n",
    "predictions_np, _ = forward_propagation(X_xor, trained_params_np)\n",
    "print(\"\\nNumPy MLP Predictions on XOR data:\")\n",
    "for i in range(X_xor.shape[0]):\n",
    "    print(f\"Input: {X_xor[i]}, True: {y_xor[i][0]}, Predicted: {predictions_np[i][0]:.4f} (Rounded: {np.round(predictions_np[i][0])})\")"
   ]
  },
  {
   "cell_type": "markdown",
   "id": "ac1942e1",
   "metadata": {},
   "source": [
    "## 2. PyTorchによるMLPの実装\n",
    "次に、同じXOR問題をPyTorchを使って解いてみます。PyTorchのようなディープラーニングフレームワークを使うと、多くの処理が自動化・効率化されます。"
   ]
  },
  {
   "cell_type": "markdown",
   "id": "83652157",
   "metadata": {},
   "source": [
    "### 2.1 必要なライブラリのインポート"
   ]
  },
  {
   "cell_type": "code",
   "execution_count": 355,
   "id": "b69a4738",
   "metadata": {},
   "outputs": [
    {
     "name": "stdout",
     "output_type": "stream",
     "text": [
      "PyTorch Version: 2.7.0+cpu\n"
     ]
    }
   ],
   "source": [
    "import torch\n",
    "import torch.nn as nn\n",
    "import torch.optim as optim\n",
    "print(\"PyTorch Version:\", torch.__version__)"
   ]
  },
  {
   "cell_type": "markdown",
   "id": "611c10ef",
   "metadata": {},
   "source": [
    "### 2.2 データとモデルの準備\n",
    "\n",
    "PyTorchでは、データを`torch.Tensor`型で扱います。\n",
    "モデルは`torch.nn.Module`を継承して定義するのが一般的です。"
   ]
  },
  {
   "cell_type": "code",
   "execution_count": 356,
   "id": "cb41d1f3",
   "metadata": {},
   "outputs": [
    {
     "name": "stdout",
     "output_type": "stream",
     "text": [
      "\n",
      "XOR入力データ (X_xor_torch):\n",
      " tensor([[0., 0.],\n",
      "        [0., 1.],\n",
      "        [1., 0.],\n",
      "        [1., 1.]])\n",
      "\n",
      "XOR出力データ (y_xor_torch):\n",
      " tensor([[0.],\n",
      "        [1.],\n",
      "        [1.],\n",
      "        [0.]])\n"
     ]
    }
   ],
   "source": [
    "# numpy配列をPyTorchのテンソルに変換\n",
    "X_xor_torch = torch.from_numpy(X_xor).float()\n",
    "y_xor_torch = torch.from_numpy(y_xor).float()\n",
    "\n",
    "print(\"\\nXOR入力データ (X_xor_torch):\\n\", X_xor_torch)\n",
    "print(\"\\nXOR出力データ (y_xor_torch):\\n\", y_xor_torch)"
   ]
  },
  {
   "cell_type": "code",
   "execution_count": 357,
   "id": "3a43446c",
   "metadata": {},
   "outputs": [
    {
     "name": "stdout",
     "output_type": "stream",
     "text": [
      "\n",
      "PyTorch MLP Model: mlp_torch(\n",
      "  (hidden_layer): Linear(in_features=2, out_features=4, bias=True)\n",
      "  (output_layer): Linear(in_features=4, out_features=1, bias=True)\n",
      "  (sigmoid): Sigmoid()\n",
      ")\n"
     ]
    }
   ],
   "source": [
    "# MLPモデルの定義\n",
    "class mlp_torch(nn.Module):\n",
    "    def __init__(self, input_size, hidden_size, output_size):\n",
    "        super(mlp_torch, self).__init__()\n",
    "        # nn.Linearは全結合層を表す\n",
    "        self.hidden_layer = nn.Linear(input_size, hidden_size)\n",
    "        self.output_layer = nn.Linear(hidden_size, output_size)\n",
    "        self.sigmoid = nn.Sigmoid()\n",
    "        # self.relu = nn.ReLU() # ReLUを使用する場合\n",
    "    \n",
    "    def forward(self, x):\n",
    "        '''順伝播の定義'''\n",
    "        x = self.hidden_layer(x)\n",
    "        x = self.sigmoid(x)\n",
    "        x = self.output_layer(x)\n",
    "        x = self.sigmoid(x)\n",
    "        return x\n",
    "    \n",
    "# モデルのインスタンス化\n",
    "model_torch = mlp_torch(input_size=X_xor.shape[1], hidden_size=4, output_size=y_xor.shape[1])\n",
    "print('\\nPyTorch MLP Model:', model_torch)"
   ]
  },
  {
   "cell_type": "markdown",
   "id": "28abe856",
   "metadata": {},
   "source": [
    "### 2.3 損失関数とOptimizerの定義\n",
    "\n",
    "PyTorchには様々な損失関数とOptimizerが用意されています。"
   ]
  },
  {
   "cell_type": "code",
   "execution_count": 358,
   "id": "575a26bb",
   "metadata": {},
   "outputs": [],
   "source": [
    "# 損失関数（平均二乗誤差）\n",
    "criterion = nn.MSELoss()\n",
    "# criterion = nn.BCELoss()  # バイナリ交差エントロピーを使用する場合\n",
    "\n",
    "# Optimizer（確率勾配降下法 - SGD）\n",
    "# model_torch.parameters()  # モデル内の学習可能な全パラメータを取得\n",
    "learning_rate = 0.1\n",
    "optimizer = optim.SGD(model_torch.parameters(), lr=learning_rate)\n",
    "# optimizer = optim.Adam(model_torch.parameters(), lr=learning_rate)  # Adamを使用する場合"
   ]
  },
  {
   "cell_type": "markdown",
   "id": "3aeab412",
   "metadata": {},
   "source": [
    "### 2.4 PyTorchモデルの学習ループ\n",
    "\n",
    "PyTorchの学習ループは以下のようになります。\n",
    "\n",
    "1.  Optimizerの勾配をリセット (`optimizer.zero_grad()`)。\n",
    "2.  **順伝播**: モデルに入力データを通して予測値を得る (`outputs = model(inputs)`)。\n",
    "3.  **損失計算**: 予測値と真の値から損失を計算する (`loss = criterion(outputs, labels)`)。\n",
    "4.  **逆伝播**: 損失から勾配を自動計算する (`loss.backward()`)。**これがPyTorchの自動微分機能 (`autograd`) です。**\n",
    "5.  **パラメータ更新**: Optimizerを使ってパラメータを更新する (`optimizer.step()`)。"
   ]
  },
  {
   "cell_type": "code",
   "execution_count": 359,
   "id": "ca81b847",
   "metadata": {},
   "outputs": [],
   "source": [
    "def train_mlp_torch(model, criterion, optimizer, X, y, num_epochs=10000, print_cost_every=1000):\n",
    "    '''\n",
    "    PytorchでMLPを学習する関数\n",
    "    '''\n",
    "    cost = []\n",
    "    for epoch in range(num_epochs + 1):\n",
    "        # 順伝播\n",
    "        outputs = model(X)\n",
    "\n",
    "        # 損失関数\n",
    "        loss = criterion(outputs, y)\n",
    "\n",
    "        # 逆伝播とパラメータ更新\n",
    "        optimizer.zero_grad() # 前のステップの勾配をゼロにリセット\n",
    "        loss.backward() # 損失から勾配を計算\n",
    "        optimizer.step() # 計算された勾配を使ってパラメータを更新\n",
    "\n",
    "        if epoch % print_cost_every == 0:\n",
    "            cost.append(loss.item())\n",
    "            print(f\"Epoch {epoch}/{num_epochs}, Loss: {loss.item():.4f}\")\n",
    "    \n",
    "    return cost"
   ]
  },
  {
   "cell_type": "code",
   "execution_count": 360,
   "id": "adee6eb8",
   "metadata": {},
   "outputs": [
    {
     "name": "stdout",
     "output_type": "stream",
     "text": [
      "\n",
      "PyTorch MLP 学習開始 (XORデータ)...\n",
      "Epoch 0/20000, Loss: 0.2793\n",
      "Epoch 1000/20000, Loss: 0.2501\n",
      "Epoch 2000/20000, Loss: 0.2500\n",
      "Epoch 3000/20000, Loss: 0.2499\n",
      "Epoch 4000/20000, Loss: 0.2498\n",
      "Epoch 5000/20000, Loss: 0.2496\n",
      "Epoch 6000/20000, Loss: 0.2493\n",
      "Epoch 7000/20000, Loss: 0.2486\n",
      "Epoch 8000/20000, Loss: 0.2467\n",
      "Epoch 9000/20000, Loss: 0.2403\n",
      "Epoch 10000/20000, Loss: 0.2121\n",
      "Epoch 11000/20000, Loss: 0.1212\n",
      "Epoch 12000/20000, Loss: 0.0474\n",
      "Epoch 13000/20000, Loss: 0.0232\n",
      "Epoch 14000/20000, Loss: 0.0142\n",
      "Epoch 15000/20000, Loss: 0.0099\n",
      "Epoch 16000/20000, Loss: 0.0075\n",
      "Epoch 17000/20000, Loss: 0.0060\n",
      "Epoch 18000/20000, Loss: 0.0049\n",
      "Epoch 19000/20000, Loss: 0.0042\n",
      "Epoch 20000/20000, Loss: 0.0036\n"
     ]
    },
    {
     "data": {
      "image/png": "[encoded data removed]",
      "text/plain": [
       "<Figure size 400x300 with 1 Axes>"
      ]
     },
     "metadata": {},
     "output_type": "display_data"
    },
    {
     "name": "stdout",
     "output_type": "stream",
     "text": [
      "\n",
      "PyTorch MLP Predictions on XOR data:\n",
      "Input: [0. 0.], True: 0.0, Predicted: 0.0407 (Rounded: 0.0)\n",
      "Input: [0. 1.], True: 1.0, Predicted: 0.9383 (Rounded: 1.0)\n",
      "Input: [1. 0.], True: 1.0, Predicted: 0.9401 (Rounded: 1.0)\n",
      "Input: [1. 1.], True: 0.0, Predicted: 0.0738 (Rounded: 0.0)\n"
     ]
    }
   ],
   "source": [
    "# 学習の実行\n",
    "print(\"\\nPyTorch MLP 学習開始 (XORデータ)...\")\n",
    "costs_torch = train_mlp_torch(model_torch, criterion, optimizer, X_xor_torch, y_xor_torch, \n",
    "                                num_epochs=20000, print_cost_every=1000)\n",
    "\n",
    "\n",
    "# 学習曲線のプロット\n",
    "plt.figure(figsize=(4,3))\n",
    "plt.plot(costs_torch)\n",
    "plt.xlabel(f\"Epochs (per {1000})\")\n",
    "plt.ylabel(\"Cost (MSE)\")\n",
    "plt.title(\"PyTorch MLP Learning Curve (XOR)\")\n",
    "plt.show()\n",
    "\n",
    "# 学習済みモデルで予測\n",
    "with torch.no_grad(): # 勾配計算をしないモード (予測時)\n",
    "    predictions_torch = model_torch(X_xor_torch)\n",
    "    \n",
    "print(\"\\nPyTorch MLP Predictions on XOR data:\")\n",
    "for i in range(X_xor_torch.shape[0]):\n",
    "    pred_val = predictions_torch[i].item()\n",
    "    print(f\"Input: {X_xor[i]}, True: {y_xor[i][0]}, Predicted: {pred_val:.4f} (Rounded: {np.round(pred_val)})\")"
   ]
  },
  {
   "cell_type": "markdown",
   "id": "dd64aa28",
   "metadata": {},
   "source": [
    "## 3. NumPy実装とPyTorch実装の比較と考察\n",
    "\n",
    "### 3.1 コードの記述量と可読性\n",
    "\n",
    "*   **NumPy:**\n",
    "    *   順伝播、活性化関数、損失関数、逆伝播、パラメータ更新の全てを明示的に実装する必要がある。\n",
    "    *   コード量は多くなりがちだが、各ステップの計算内容が直接的にコードに現れるため、アルゴリズムの理解には役立つ。\n",
    "*   **PyTorch:**\n",
    "    *   `nn.Module` や `nn.Linear`、組み込みの活性化関数・損失関数、`optim` を使うことで、モデル定義や学習ループが非常に簡潔になる。\n",
    "    *   特に逆伝播（バックプロパゲーション）は `loss.backward()` の一行で完了するため、複雑なモデルでも勾配計算の間違いを心配する必要が少ない。\n",
    "    *   高レベルなAPIにより、コードの可読性が向上し、モデルの構造に集中できる。\n",
    "\n",
    "### 3.2 勾配計算\n",
    "\n",
    "*   **NumPy:**\n",
    "    *   手動で連鎖律に基づいて偏微分を計算し、バックプロパゲーションのロジックを実装する必要がある。\n",
    "    *   実装が複雑で、間違いやすく、デバッグも困難な場合がある（勾配チェックが重要）。\n",
    "*   **PyTorch:**\n",
    "    *   `autograd`システムにより、計算グラフを自動的に構築し、`backward()`メソッドを呼び出すだけで、全ての学習可能パラメータに対する勾配が自動的に計算される。\n",
    "    *   これにより、開発者は勾配計算の詳細を意識する必要がなくなり、新しいモデル構造や損失関数の試行が容易になる。\n",
    "\n",
    "### 3.3 柔軟性と拡張性\n",
    "\n",
    "*   **NumPy:**\n",
    "    *   全てを自分で制御できるため、非常に柔軟性が高い。特殊な演算やカスタムな学習ルールを実装しやすい。\n",
    "    *   しかし、新しい層や活性化関数、Optimizerを追加するたびに、順伝播と逆伝播の両方を手動で実装・修正する必要があり、拡張性は低い。\n",
    "*   **PyTorch:**\n",
    "    *   多くの一般的な層、活性化関数、Optimizerが提供されており、それらを組み合わせることで容易に複雑なモデルを構築できる。\n",
    "    *   カスタムな`nn.Module`を作成することで、独自のコンポーネントも容易に組み込める。自動微分機能により、新しいモジュールの勾配計算も自動で行われるため、拡張性が高い。\n",
    "\n",
    "### 3.4 GPUサポートとパフォーマンス\n",
    "\n",
    "*   **NumPy:**\n",
    "    *   基本的にCPUでの計算。GPUを使うにはCuPyのような別のライブラリが必要。\n",
    "    *   大規模なデータや複雑なモデルでは、Pythonの実行速度とNumPyのCPUバウンドな計算がボトルネックになり得る。\n",
    "*   **PyTorch:**\n",
    "    *   `.to('cuda')` のように簡単にテンソルやモデルをGPUに転送でき、GPUアクセラレーションの恩恵を容易に受けられる。\n",
    "    *   内部はC++やCUDAで最適化されており、大規模な計算でも高いパフォーマンスを発揮する。\n",
    "\n",
    "### 3.5 まとめ\n",
    "\n",
    "*   **NumPyによるスクラッチ実装**は、ディープラーニングの基本的な構成要素やアルゴリズムの内部動作を深く理解するためには非常に有益です。順伝播や逆伝播を自分の手で実装することで、何が起こっているのかを具体的に把握できます。\n",
    "*   **PyTorchのようなフレームワーク**は、これらの低レベルな詳細を抽象化し、自動微分、GPUサポート、豊富なモジュールを提供することで、研究者や開発者がより迅速かつ効率的に高度なモデルを構築・実験できるようにします。"
   ]
  }
 ],
 "metadata": {
  "kernelspec": {
   "display_name": "base",
   "language": "python",
   "name": "python3"
  },
  "language_info": {
   "codemirror_mode": {
    "name": "ipython",
    "version": 3
   },
   "file_extension": ".py",
   "mimetype": "text/x-python",
   "name": "python",
   "nbconvert_exporter": "python",
   "pygments_lexer": "ipython3",
   "version": "3.12.7"
  }
 },
 "nbformat": 4,
 "nbformat_minor": 5
}
