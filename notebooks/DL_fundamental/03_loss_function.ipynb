{
 "cells": [
  {
   "cell_type": "markdown",
   "id": "630457af",
   "metadata": {},
   "source": [
    "# 03: 損失関数 (Loss Functions)\n",
    "\n",
    "このノートブックでは、ニューラルネットワークの学習における「羅針盤」の役割を果たす「損失関数」について深く学びます。損失関数は、モデルの予測がどれだけ真の値から外れているかを測る指標であり、この値を最小化することが学習の目的となります。\n",
    "\n",
    "分類タスクと回帰タスク、それぞれの代表的な損失関数を取り上げ、その数式的な定義、特性、そしてなぜそのタスクに適しているのかを解説します。\n",
    "\n",
    "**参考論文:**\n",
    "*   (Label Smoothing) Szegedy, C., et al. (2016). Rethinking the Inception Architecture for Computer Vision.\n",
    "*   (Focal Loss) Lin, T. Y., et al. (2017). Focal Loss for Dense Object Detection.\n",
    "*   (Huber Loss) Huber, P. J. (1964). Robust Estimation of a Location Parameter.\n",
    "\n",
    "**このノートブックで学ぶこと:**\n",
    "1.  損失関数の役割と、学習におけるその重要性。\n",
    "2.  分類タスクにおける主要な損失関数：交差エントロピー誤差。\n",
    "3.  交差エントロピーの発展形：ラベルスムージングとフォーカルロス。\n",
    "4.  回帰タスクにおける主要な損失関数：平均二乗誤差（MSE）、平均絶対誤差（MAE）、Huber損失。\n",
    "5.  各損失関数がどのような状況で有効か、その使い分けの指針。\n",
    "\n",
    "**前提知識:**\n",
    "*   ニューラルネットワークの順伝播・逆伝播の基本的な理解。\n",
    "*   確率・統計の基礎知識（特に確率分布、期待値）。\n",
    "*   対数関数の基礎。\n",
    "*   NumPyとMatplotlibの基本的な使い方。"
   ]
  },
  {
   "cell_type": "markdown",
   "id": "fc4290a3",
   "metadata": {},
   "source": [
    "## 1. 必要なライブラリのインポート"
   ]
  },
  {
   "cell_type": "code",
   "execution_count": 9,
   "id": "ebe42707",
   "metadata": {},
   "outputs": [],
   "source": [
    "import numpy as np\n",
    "import matplotlib.pyplot as plt"
   ]
  },
  {
   "cell_type": "markdown",
   "id": "ab1a86ba",
   "metadata": {},
   "source": [
    "## 2. 損失関数とは何か？\n",
    "\n",
    "損失関数（または目的関数、コスト関数）は、モデルの予測値と正解値との間の「隔たり」を定量化する関数です。ニューラルネットワークの学習は、この損失関数の値を最小化するようなパラメータ（重みとバイアス）を見つけ出す最適化問題として定式化されます。\n",
    "\n",
    "$$\n",
    "\\text{Learning} \\equiv \\min_{\\theta} L(y, \\hat{y}(\\boldsymbol{x}; \\theta))\n",
    "$$\n",
    "\n",
    "ここで、\n",
    "*   $L$ は損失関数\n",
    "*   $y$ は正解ラベル\n",
    "*   $\\hat{y}$ はモデルの予測値\n",
    "*   $\\boldsymbol{x}$ は入力データ\n",
    "*   $\\theta$ はモデルのパラメータ（重み、バイアス）\n",
    "\n",
    "です。逆伝播（Backpropagation）は、この損失 $L$ を各パラメータ $\\theta$ で微分（つまり勾配 $\\frac{\\partial L}{\\partial \\theta}$ を計算）し、勾配降下法によって損失が小さくなる方向へパラメータを更新していくプロセスです。\n",
    "\n",
    "したがって、タスクの性質に応じて適切な損失関数を選択することは、学習を成功させるための極めて重要なステップとなります。"
   ]
  },
  {
   "cell_type": "markdown",
   "id": "2c53ba08",
   "metadata": {},
   "source": [
    "## 3. 分類タスクのための損失関数\n",
    "\n",
    "分類タスクでは、モデルの出力は通常、各クラスに属する「確率」として解釈されます。この確率分布と、正解ラベルが示す確率分布（one-hotベクトルで表現される）がどれだけ近いかを測るために、情報理論に由来する尺度が用いられます。"
   ]
  },
  {
   "cell_type": "markdown",
   "id": "14e882a8",
   "metadata": {},
   "source": [
    "### 3.1 交差エントロピー誤差 (Cross-Entropy Error)\n",
    "\n",
    "交差エントロピーは、2つの確率分布間の「違い」を測るための尺度です。モデルが出力する予測確率分布 $q$ が、真の確率分布 $p$ にどれだけ近いかを表します。\n",
    "\n",
    "**数式（単一データ点に対して）:**\n",
    "$$\n",
    "L_{CE} = - \\sum_{k=1}^{K} p_k \\log(q_k)\n",
    "$$\n",
    "ここで、\n",
    "*   $K$ はクラスの総数。\n",
    "*   $p_k$ はクラス $k$ が正解である真の確率（正解クラスで1、その他で0）。\n",
    "*   $q_k$ はモデルがクラス $k$ であると予測する確率。\n",
    "\n",
    "正解ラベルが one-hot ベクトルで与えられる場合、例えば正解クラスが $c$ であれば $p_c=1$ であり、それ以外の $k$ では $p_k=0$ となります。そのため、上の式は劇的に単純化されます。\n",
    "\n",
    "**数式（one-hotラベルの場合）:**\n",
    "$$\n",
    "L_{CE} = - \\log(q_c)\n",
    "$$\n",
    "これは、モデルが**正解クラスに対して予測した確率 $q_c$ の対数をとり、負号をつけたもの**に他なりません。\n",
    "\n",
    "この損失関数を最小化することは、正解クラス $c$ に対する予測確率 $q_c$ を1に近づけることと等価です。モデルが正解クラスに対して高い確率を予測すればするほど、$-\\log(q_c)$ の値は0に近づき、損失は小さくなります。\n",
    "\n",
    "モデルの最終層の出力（ロジット）に**ソフトマックス関数**を適用して確率 $q_k$ を計算し、交差エントロピー損失を計算するのが一般的な流れです。\n",
    "\n",
    "**ソフトマックス関数:**\n",
    "$$\n",
    "q_k = \\text{softmax}(z)_k = \\frac{e^{z_k}}{\\sum_{j=1}^{K} e^{z_j}}\n",
    "$$"
   ]
  },
  {
   "cell_type": "code",
   "execution_count": 10,
   "id": "6d97e051",
   "metadata": {},
   "outputs": [
    {
     "name": "stdout",
     "output_type": "stream",
     "text": [
      "ロジット: [2.  1.  0.1]\n",
      "予測確率 (q): [0.65900114 0.24243297 0.09856589]\n",
      "正解ラベル (p): [1 0 0]\n",
      "交差エントロピー損失: 0.4170\n",
      "-log(q[0]): 0.4170\n",
      "\n",
      "--- 不正解のケース ---\n",
      "予測確率 (q_wrong): [0.09856589 0.65900114 0.24243297]\n",
      "損失 (loss_wrong): 2.3170  <-- 損失が大きくなる\n"
     ]
    }
   ],
   "source": [
    "def softmax(z):\n",
    "    # 数値的安定性のための入力の最大値を引く\n",
    "    e_z = np.exp(z - np.max(z, axis=-1, keepdims=True))\n",
    "    return e_z / np.sum(e_z, axis=-1, keepdims=True)\n",
    "\n",
    "def cross_entropy_error(q, p):\n",
    "    # ゼロ除算を避けるための微小値\n",
    "    delta = 1e-7\n",
    "    return -np.sum(p * np.log(q + delta))\n",
    "\n",
    "# --- 例 ---\n",
    "# モデルの出力（ロジット）\n",
    "logits = np.array([2.0, 1.0, 0.1])\n",
    "# ソフトマックス関数で確率に変換\n",
    "q = softmax(logits)\n",
    "# 正解ラベル（one-hotベクトル）、クラス0が正解\n",
    "p = np.array([1, 0, 0])\n",
    "\n",
    "loss = cross_entropy_error(q, p)\n",
    "\n",
    "print(f\"ロジット: {logits}\")\n",
    "print(f\"予測確率 (q): {q}\")\n",
    "print(f\"正解ラベル (p): {p}\")\n",
    "print(f\"交差エントロピー損失: {loss:.4f}\")\n",
    "# -log(q[0]) とほぼ同じ値になることを確認\n",
    "print(f\"-log(q[0]): {-np.log(q[0]):.4f}\")\n",
    "\n",
    "# 不正解の場合（予測確率が低い）\n",
    "logits_wrong = np.array([0.1, 2.0, 1.0])\n",
    "q_wrong = softmax(logits_wrong)\n",
    "loss_wrong = cross_entropy_error(q_wrong, p)\n",
    "print(\"\\n--- 不正解のケース ---\")\n",
    "print(f\"予測確率 (q_wrong): {q_wrong}\")\n",
    "print(f\"損失 (loss_wrong): {loss_wrong:.4f}  <-- 損失が大きくなる\")"
   ]
  },
  {
   "cell_type": "markdown",
   "id": "f6232dc6",
   "metadata": {},
   "source": [
    "### 3.2 ラベルスムージング (Label Smoothing)\n",
    "\n",
    "ラベルスムージングは、モデルの過学習を抑制し、汎化性能を向上させるための正則化手法です。\n",
    "通常のone-hotラベル（例：`[1, 0, 0]`）は、モデルに対して「このクラスが100%正解で、他は100%間違いだ」と断定的に教えることになります。これはモデルを過信させ、未知のデータに対して脆弱になる可能性があります。\n",
    "\n",
    "ラベルスムージングでは、この断定的な正解ラベルを少し「なまらせ」ます。\n",
    "\n",
    "**数式:**\n",
    "正解ラベル $p_k$ を以下のように修正した $p'_k$ を用います。\n",
    "$$\n",
    "p'_k = (1 - \\epsilon) p_k + \\frac{\\epsilon}{K}\n",
    "$$\n",
    "ここで、\n",
    "*   $\\epsilon$ は小さな正の定数（例：0.1）。\n",
    "*   $K$ はクラス数。\n",
    "\n",
    "例えば、3クラス分類で正解がクラス0の場合、$\\epsilon=0.1$とすると、\n",
    "*   `p = [1, 0, 0]`\n",
    "*   `p' = (1-0.1)*[1,0,0] + 0.1/3 = 0.9*[1,0,0] + 0.033... = [0.933..., 0.033..., 0.033...]`\n",
    "となります。\n",
    "\n",
    "これにより、モデルは正解クラスに過度に集中するのではなく、他のクラスの可能性もわずかに考慮するようになり、より柔軟で頑健な特徴を学習することが期待されます。"
   ]
  },
  {
   "cell_type": "code",
   "execution_count": 11,
   "id": "21c672c9",
   "metadata": {},
   "outputs": [
    {
     "name": "stdout",
     "output_type": "stream",
     "text": [
      "One-hot ラベル (p): [1 0 0]\n",
      "Smoothed ラベル (p'): [0.93333333 0.03333333 0.03333333]\n",
      "予測確率 (q): [0.9748848  0.01785564 0.00725956]\n",
      "\n",
      "通常の損失: 0.0254\n",
      "ラベルスムージング後の損失: 0.3221  <-- ペナルティが加わる\n"
     ]
    }
   ],
   "source": [
    "def label_smoothing(p_one_hot, epsilon=0.1):\n",
    "    K = p_one_hot.shape[0]\n",
    "    return (1 - epsilon) * p_one_hot + epsilon / K\n",
    "\n",
    "# --- 例 ---\n",
    "# 正解ラベル（one-hotベクトル）、クラス0が正解\n",
    "p = np.array([1, 0, 0])\n",
    "# スムージングされたラベル\n",
    "p_smooth = label_smoothing(p, epsilon=0.1)\n",
    "\n",
    "# モデルの出力\n",
    "logits = np.array([5.0, 1.0, 0.1]) # 非常に自信がある予測\n",
    "q = softmax(logits)\n",
    "\n",
    "# 損失の比較\n",
    "loss_original = cross_entropy_error(q, p)\n",
    "loss_smoothed = cross_entropy_error(q, p_smooth)\n",
    "\n",
    "print(f\"One-hot ラベル (p): {p}\")\n",
    "print(f\"Smoothed ラベル (p'): {p_smooth}\")\n",
    "print(f\"予測確率 (q): {q}\")\n",
    "print(f\"\\n通常の損失: {loss_original:.4f}\")\n",
    "print(f\"ラベルスムージング後の損失: {loss_smoothed:.4f}  <-- ペナルティが加わる\")"
   ]
  },
  {
   "cell_type": "markdown",
   "id": "5c427114",
   "metadata": {},
   "source": [
    "### 3.3 フォーカルロス (Focal Loss)\n",
    "\n",
    "フォーカルロスは、物体検出などで見られる「クラス不均衡」問題、特に「簡単なサンプル」が大量にあり、「難しいサンプル」が少数である状況に対処するために提案されました。\n",
    "\n",
    "交差エントロピーでは、簡単に分類できるサンプル（予測確率が非常に高い）でも、ある程度の損失が蓄積されていきます。多数の簡単サンプルの損失の合計が、少数の困難サンプルの損失を覆い隠してしまい、困難サンプルの学習が疎かになる可能性があります。\n",
    "\n",
    "フォーカルロスは、この簡単サンプルの損失への寄与を動的にスケールダウンさせます。\n",
    "\n",
    "**数式:**\n",
    "$$\n",
    "L_{FL} = - (1 - q_c)^\\gamma \\log(q_c)\n",
    "$$\n",
    "ここで、\n",
    "*   $q_c$ は正解クラスに対する予測確率。\n",
    "*   $\\gamma$（ガンマ）はフォーカシングパラメータで、$\\gamma \\ge 0$ です（通常 $\\gamma=2$）。\n",
    "\n",
    "$(1-q_c)^\\gamma$ という項が重要です。\n",
    "*   **簡単なサンプル**（$q_c \\to 1$）の場合、$(1-q_c) \\to 0$ となり、この項は急激に0に近づきます。これにより、損失への寄与が大きく抑制されます。\n",
    "*   **難しいサンプル**（$q_c \\to 0$）の場合、$(1-q_c) \\to 1$ となり、この項は1に近づきます。損失は通常の交差エントロピーとほぼ同じになります。\n",
    "\n",
    "結果として、モデルは自動的に「難しい、間違えやすいサンプル」に焦点を当てて学習を進めるようになります。"
   ]
  },
  {
   "cell_type": "code",
   "execution_count": 12,
   "id": "eb8d75c4",
   "metadata": {},
   "outputs": [
    {
     "name": "stdout",
     "output_type": "stream",
     "text": [
      "--- 簡単なサンプルの場合 (qc=0.99) ---\n",
      "交差エントロピー損失: 0.01005034\n",
      "フォーカルロス:       0.00000101  <-- 損失が大幅に抑制される\n",
      "\n",
      "--- 難しいサンプルの場合 (qc=0.1) ---\n",
      "交差エントロピー損失: 2.3026\n",
      "フォーカルロス:       1.8651  <-- 損失はほぼ変わらない\n"
     ]
    }
   ],
   "source": [
    "def focal_loss(q_c, gamma=2.0):\n",
    "    return -((1 - q_c)**gamma) * np.log(q_c)\n",
    "\n",
    "# --- 例 ---\n",
    "# 正解クラスに対する予測確率 (qc)\n",
    "qc_easy = 0.99  # 簡単なサンプル\n",
    "qc_hard = 0.1   # 難しいサンプル\n",
    "\n",
    "# 損失の比較\n",
    "ce_loss_easy = -np.log(qc_easy)\n",
    "fl_loss_easy = focal_loss(qc_easy, gamma=2)\n",
    "\n",
    "ce_loss_hard = -np.log(qc_hard)\n",
    "fl_loss_hard = focal_loss(qc_hard, gamma=2)\n",
    "\n",
    "print(\"--- 簡単なサンプルの場合 (qc=0.99) ---\")\n",
    "print(f\"交差エントロピー損失: {ce_loss_easy:.8f}\")\n",
    "print(f\"フォーカルロス:       {fl_loss_easy:.8f}  <-- 損失が大幅に抑制される\")\n",
    "\n",
    "print(\"\\n--- 難しいサンプルの場合 (qc=0.1) ---\")\n",
    "print(f\"交差エントロピー損失: {ce_loss_hard:.4f}\")\n",
    "print(f\"フォーカルロス:       {fl_loss_hard:.4f}  <-- 損失はほぼ変わらない\")"
   ]
  },
  {
   "cell_type": "markdown",
   "id": "ffe9312b",
   "metadata": {},
   "source": [
    "## 4. 回帰タスクのための損失関数\n",
    "\n",
    "回帰タスクは、連続値を予測する問題です。損失関数は、予測値 $\\hat{y}$ と真の値 $y$ の間の「距離」を測るものになります。"
   ]
  },
  {
   "cell_type": "markdown",
   "id": "cb0f250f",
   "metadata": {},
   "source": [
    "### 4.1 平均二乗誤差 (Mean Squared Error, MSE)\n",
    "\n",
    "MSEは、最も一般的に使用される回帰用の損失関数です。予測誤差の二乗の平均を計算します。L2損失とも呼ばれます。\n",
    "\n",
    "**数式:**\n",
    "$$\n",
    "L_{MSE} = \\frac{1}{N} \\sum_{i=1}^{N} (y_i - \\hat{y}_i)^2\n",
    "$$\n",
    "\n",
    "**特性:**\n",
    "*   数学的に扱いやすく、滑らかで微分可能。\n",
    "*   大きな誤差に対して、二乗でペナルティを科すため、外れ値に非常に敏感です。大きな外れ値が一つあるだけで、損失が跳ね上がり、学習が不安定になる可能性があります。"
   ]
  },
  {
   "cell_type": "markdown",
   "id": "5d547956",
   "metadata": {},
   "source": [
    "### 4.2 平均絶対誤差 (Mean Absolute Error, MAE)\n",
    "\n",
    "MAEは、予測誤差の絶対値の平均を計算します。L1損失とも呼ばれます。\n",
    "\n",
    "**数式:**\n",
    "$$\n",
    "L_{MAE} = \\frac{1}{N} \\sum_{i=1}^{N} |y_i - \\hat{y}_i|\n",
    "$$\n",
    "\n",
    "**特性:**\n",
    "*   MSEと比べて、外れ値に対して頑健（ロバスト）です。誤差の大きさに比例して損失が増えるため、外れ値の影響が大きくなりすぎません。\n",
    "*   $y_i = \\hat{y}_i$ の点で微分が不可能です。ただし、劣勾配を用いることで学習は可能です。"
   ]
  },
  {
   "cell_type": "markdown",
   "id": "ed97e913",
   "metadata": {},
   "source": [
    "### 4.3 Huber損失 (Huber Loss)\n",
    "\n",
    "Huber損失は、MSEとMAEの良いとこ取りをしたような損失関数です。誤差が小さいときはMSEのように振る舞い、誤差が大きいときはMAEのように振る舞います。\n",
    "\n",
    "**数式:**\n",
    "$$\n",
    "L_{\\delta}(y, \\hat{y}) =\n",
    "\\begin{cases}\n",
    "\\frac{1}{2}(y - \\hat{y})^2 & \\text{if } |y - \\hat{y}| \\le \\delta \\\\\n",
    "\\delta (|y - \\hat{y}| - \\frac{1}{2}\\delta) & \\text{if } |y - \\hat{y}| > \\delta\n",
    "\\end{cases}\n",
    "$$\n",
    "$\\delta$ は、MSEとMAEを切り替える閾値となるハイパーパラメータです。\n",
    "\n",
    "**特性:**\n",
    "*   誤差が小さい領域では二乗誤差として振る舞うため、滑らかで安定した学習が可能です。\n",
    "*   誤差が大きい領域では絶対誤差として振る舞うため、外れ値に対して頑健です。"
   ]
  },
  {
   "cell_type": "code",
   "execution_count": 15,
   "id": "b6a0f043",
   "metadata": {},
   "outputs": [
    {
     "data": {
      "image/png": "[encoded data removed]",
      "text/plain": [
       "<Figure size 800x400 with 1 Axes>"
      ]
     },
     "metadata": {},
     "output_type": "display_data"
    }
   ],
   "source": [
    "def huber_loss(error, delta=1.0):\n",
    "    is_small_error = np.abs(error) <= delta\n",
    "    squared_loss = 0.5 * error**2\n",
    "    linear_loss = delta * (np.abs(error) - 0.5 * delta)\n",
    "    return np.where(is_small_error, squared_loss, linear_loss)\n",
    "\n",
    "# プロット用のデータ\n",
    "error = np.linspace(-5, 5, 200)\n",
    "y_mse = error**2\n",
    "y_mae = np.abs(error)\n",
    "y_huber = huber_loss(error, delta=2.0)\n",
    "\n",
    "# グラフ描画\n",
    "plt.figure(figsize=(8, 4))\n",
    "plt.plot(error, y_mse, label=\"MSE (L2 Loss)\")\n",
    "plt.plot(error, y_mae, label=\"MAE (L1 Loss)\")\n",
    "plt.plot(error, y_huber, label=\"Huber Loss (δ=1.0)\", linestyle='-.', linewidth=3)\n",
    "plt.title(\"Comparison of Regression Loss Functions\")\n",
    "plt.xlabel(\"Prediction Error (y - ŷ)\")\n",
    "plt.ylabel(\"Loss\")\n",
    "plt.ylim(0, 10)\n",
    "plt.legend()\n",
    "plt.show()"
   ]
  },
  {
   "cell_type": "markdown",
   "id": "9aee7327",
   "metadata": {},
   "source": [
    "## 5. 考察\n",
    "\n",
    "このノートブックでは、分類タスクと回帰タスクにおける主要な損失関数について学びました。\n",
    "\n",
    "損失関数の選択は、解きたいタスクの性質そのものを定義する行為です。モデルが何を「良い予測」とみなし、何を「悪い予測」とみなすかを決定づけます。適切な損失関数を選ぶことで、モデルは我々が意図した方向へ効率的に学習を進めることができます。"
   ]
  }
 ],
 "metadata": {
  "kernelspec": {
   "display_name": "base",
   "language": "python",
   "name": "python3"
  },
  "language_info": {
   "codemirror_mode": {
    "name": "ipython",
    "version": 3
   },
   "file_extension": ".py",
   "mimetype": "text/x-python",
   "name": "python",
   "nbconvert_exporter": "python",
   "pygments_lexer": "ipython3",
   "version": "3.12.7"
  }
 },
 "nbformat": 4,
 "nbformat_minor": 5
}
