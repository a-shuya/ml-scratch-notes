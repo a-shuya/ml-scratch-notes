{
 "cells": [
  {
   "cell_type": "markdown",
   "id": "6a924492",
   "metadata": {},
   "source": [
    "# GRU (Gated Recurrent Unit) の実装\n",
    "\n",
    "このノートブックでは、LSTMと同様に長期依存性の問題を解決するために提案された、もう一つの主要なゲート付きリカレントニューラルネットワークであるGRU (Gated Recurrent Unit) のアーキテクチャと動作原理を学びます。\n",
    "NumPyを使ってGRUセルの主要な計算ステップを実装し、その後PyTorchの`nn.GRU`モジュールを使ってモデルを構築・学習させます。\n",
    "\n",
    "**参考論文:**\n",
    "*   Cho, K., Van Merriënboer, B., Gulcehre, C., Bahdanau, D., Bougares, F., Schwenk, H., & Bengio, Y. (2014). Learning phrase representations using RNN encoder-decoder for statistical machine translation. *arXiv preprint arXiv:1406.1078*. (GRUが提案された主要論文の一つ)\n",
    "*   Chung, J., Gulcehre, C., Cho, K., & Bengio, Y. (2014). Empirical evaluation of gated recurrent neural networks on sequence modeling. *arXiv preprint arXiv:1412.3555*. (GRUの性能評価)\n",
    "\n",
    "**このノートブックで学ぶこと:**\n",
    "1.  GRUのアーキテクチャ：更新ゲートとリセットゲート。\n",
    "2.  LSTMとの比較を通じたGRUの構造と特徴の理解。\n",
    "3.  NumPyによるGRUセルの順伝播計算の実装。\n",
    "4.  PyTorchの `nn.GRU` モジュールを使ったGRUモデルの実装と学習。\n",
    "\n",
    "**前提知識:**\n",
    "*   LSTMの基本的な構造と動作原理の理解（前のノートブック）。\n",
    "*   PyTorchの基本的な使い方。"
   ]
  },
  {
   "cell_type": "code",
   "execution_count": 8,
   "id": "de86dc4b",
   "metadata": {},
   "outputs": [
    {
     "name": "stdout",
     "output_type": "stream",
     "text": [
      "NumPy Version: 1.26.4\n",
      "PyTorch Version: 2.7.0+cpu\n",
      "Using device: cpu\n"
     ]
    }
   ],
   "source": [
    "import numpy as np\n",
    "import matplotlib.pyplot as plt\n",
    "import torch\n",
    "import torch.nn as nn\n",
    "import torch.optim as optim\n",
    "\n",
    "print(f\"NumPy Version: {np.__version__}\")\n",
    "print(f\"PyTorch Version: {torch.__version__}\")\n",
    "device = torch.device(\"cuda\" if torch.cuda.is_available() else \"cpu\")\n",
    "print(f\"Using device: {device}\")"
   ]
  },
  {
   "cell_type": "markdown",
   "id": "824245c5",
   "metadata": {},
   "source": [
    "## 2. GRU (Gated Recurrent Unit) の導入\n",
    "\n",
    "GRUは、LSTMと同様にゲート機構を用いてRNNの長期依存性問題を解決しようとするモデルですが、LSTMよりもシンプルな構造をしています。LSTMには3つのゲート（忘却、入力、出力）と独立したセル状態がありましたが、GRUは主に2つのゲート（リセットゲートと更新ゲート）を持ち、セル状態と隠れ状態を統合しています。"
   ]
  },
  {
   "cell_type": "markdown",
   "id": "138c464e",
   "metadata": {},
   "source": [
    "### 2.1 GRUセルの構造と計算ステップ\n",
    "\n",
    "時刻 $t$ におけるGRUセルの計算は、以下の主要なステップで行われます（$\\sigma$ はSigmoid関数、$\\tanh$ はハイパボリックタンジェント関数）。\n",
    "\n",
    "*   **入力 ($x_t$):** 時刻 $t$ の外部入力。\n",
    "*   **前時刻の隠れ状態 ($h_{t-1}$):** 1つ前のGRUセルからの出力。\n",
    "\n",
    "1.  **リセットゲート ($r_t$):**\n",
    "    前時刻の隠れ状態 $h_{t-1}$ のうち、どの情報を「リセット」（無視）して新しい候補隠れ状態の計算に使うかを決定します。\n",
    "    $r_t = \\sigma(W_r \\cdot [h_{t-1}, x_t] + b_r)$\n",
    "    ここで、$[h_{t-1}, x_t]$ は $h_{t-1}$ と $x_t$ を結合したベクトルです。\n",
    "\n",
    "2.  **更新ゲート ($z_t$):**\n",
    "    前時刻の隠れ状態 $h_{t-1}$ と、新しく計算される候補隠れ状態 $\\tilde{h}_t$ の情報をどの割合で混ぜ合わせて、現時刻の隠れ状態 $h_t$ を作るかを決定します。LSTMの忘却ゲートと入力ゲートの役割を一部統合したような働きをします。\n",
    "    $z_t = \\sigma(W_z \\cdot [h_{t-1}, x_t] + b_z)$\n",
    "\n",
    "3.  **候補隠れ状態 ($\\tilde{h}_t$):**\n",
    "    リセットゲート $r_t$ によって調整された前時刻の情報と、現在の入力 $x_t$ を使って、新しい隠れ状態の候補を計算します。\n",
    "    $\\tilde{h}_t = \\tanh(W_h \\cdot [r_t \\odot h_{t-1}, x_t] + b_h)$\n",
    "    ここで $\\odot$ は要素ごとの積です。リセットゲート $r_t$ が0に近い要素は、$h_{t-1}$ の対応する情報が候補計算時に無視されることになります。\n",
    "\n",
    "4.  **現時刻の隠れ状態 ($h_t$):**\n",
    "    更新ゲート $z_t$ を使って、前時刻の隠れ状態 $h_{t-1}$ と候補隠れ状態 $\\tilde{h}_t$ を線形補間のように組み合わせます。\n",
    "    $h_t = (1 - z_t) \\odot h_{t-1} + z_t \\odot \\tilde{h}_t$\n",
    "    *   $z_t$ が0に近い要素では、主に $h_{t-1}$ の情報が保持されます。\n",
    "    *   $z_t$ が1に近い要素では、主に新しい候補 $\\tilde{h}_t$ の情報が取り込まれます。\n",
    "\n",
    "**パラメータ:**\n",
    "GRUセルの学習可能なパラメータは、各ゲートと候補隠れ状態の計算に使われる重み行列 ($W_r, W_z, W_h$) とバイアスベクトル ($b_r, b_z, b_h$) です。LSTMと比較してパラメータ数が少ないことが特徴です。\n",
    "\n",
    "**LSTMとの主な違い:**\n",
    "*   **セル状態の有無:** GRUにはLSTMのような独立したセル状態がありません。隠れ状態 $h_t$ がその役割を兼ねています。\n",
    "*   **ゲートの数:** LSTMは3つ（忘却、入力、出力）、GRUは2つ（リセット、更新）。\n",
    "*   **出力ゲートの有無:** GRUには明示的な出力ゲートがありません。隠れ状態 $h_t$ がそのまま出力として使われます。"
   ]
  },
  {
   "cell_type": "markdown",
   "id": "8af7a91d",
   "metadata": {},
   "source": [
    "## 3. NumPyによるGRUセルの主要コンポーネント実装 (順伝播)\n",
    "GRUセルの1タイムステップ分の順伝播をNumPyで実装してみましょう。"
   ]
  },
  {
   "cell_type": "code",
   "execution_count": 9,
   "id": "9ce703b0",
   "metadata": {},
   "outputs": [],
   "source": [
    "# 活性化関数 (再掲)\n",
    "def sigmoid(x): \n",
    "    return 1 / (1 + np.exp(-x))\n",
    "\n",
    "def tanh(x): \n",
    "    return np.tanh(x)"
   ]
  },
  {
   "cell_type": "code",
   "execution_count": 10,
   "id": "282b9034",
   "metadata": {},
   "outputs": [],
   "source": [
    "def initialize_gru_parameters(input_size, hidden_size, random_seed=42):\n",
    "    ''' GRUのパラメータを初期化 '''\n",
    "\n",
    "    if random_seed is not None:\n",
    "        np.random.seed(random_seed)\n",
    "\n",
    "    concat_size = input_size + hidden_size\n",
    "\n",
    "    # リセットゲート\n",
    "    Wr = np.random.randn(concat_size, hidden_size) * 0.01\n",
    "    br = np.zeros((1, hidden_size))\n",
    "\n",
    "    # 更新ゲート\n",
    "    Wz = np.random.randn(concat_size, hidden_size) * 0.01\n",
    "    bz = np.zeros((1, hidden_size))\n",
    "\n",
    "    # 候補隠れ層\n",
    "    Wh = np.random.randn(concat_size, hidden_size) * 0.01\n",
    "    bh = np.zeros((1, hidden_size))\n",
    "\n",
    "    parameters = {'Wr': Wr, 'br': br,\n",
    "                  'Wz': Wz, 'bz': bz,\n",
    "                  'Wh': Wh, 'bh': bh}\n",
    "    return parameters    "
   ]
  },
  {
   "cell_type": "code",
   "execution_count": 11,
   "id": "3df73233",
   "metadata": {},
   "outputs": [],
   "source": [
    "def gru_forward_step(xt, h_prev, parameters):\n",
    "    '''\n",
    "    GRUセルの1タイムステップ分の順伝播\n",
    "    Parameters:\n",
    "        xt: 時刻tの入力 (1, input_size)\n",
    "        h_prev: 前の隠れ状態 (1, hidden_size)\n",
    "        parameters: GRUのパラメータ\n",
    "    Returns:\n",
    "        tuple: (ht, cache_t)\n",
    "            ht: 時刻tの隠れ状態\n",
    "            cache_t: 逆伝播で使う中間値\n",
    "    '''\n",
    "    Wr, br = parameters['Wr'], parameters['br']\n",
    "    Wz, bz = parameters['Wz'], parameters['bz']\n",
    "    Wh, bh = parameters['Wh'], parameters['bh']\n",
    "\n",
    "    if xt.ndim == 1: xt = xt.reshape(1, -1)\n",
    "    if h_prev.ndim == 1: h_prev = h_prev.reshape(1, -1)\n",
    "\n",
    "    # xtとh_prevを結合\n",
    "    concat_input = np.concatenate((h_prev, xt), axis=1)\n",
    "    \n",
    "    # リセットゲートの計算\n",
    "    rt = sigmoid(np.dot(concat_input, Wr) + br)\n",
    "\n",
    "    # 更新ゲートの計算\n",
    "    zt = sigmoid(np.dot(concat_input, Wz) + bz)\n",
    "\n",
    "    # 候補隠れ状態の計算\n",
    "    h_prev_reset = rt * h_prev\n",
    "    concat_input_for_h_tilde = np.concatenate((h_prev_reset, xt), axis=1)\n",
    "    h_tilde_t = tanh(np.dot(concat_input_for_h_tilde, Wh) + bh)\n",
    "\n",
    "    # 現時刻の隠れ状態の計算\n",
    "    ht = (1 - zt) * h_prev + zt * h_tilde_t\n",
    "\n",
    "    cache_t = {'xt': xt, 'h_prev': h_prev,\n",
    "               'rt': rt, 'zt': zt, 'h_tilde_t': h_tilde_t,\n",
    "               'ht': ht, 'concat_input': concat_input,\n",
    "               'concat_input_for_h_tilde': concat_input_for_h_tilde}\n",
    "    \n",
    "    return ht, cache_t"
   ]
  },
  {
   "cell_type": "code",
   "execution_count": 12,
   "id": "a5eb0b7e",
   "metadata": {},
   "outputs": [
    {
     "name": "stdout",
     "output_type": "stream",
     "text": [
      "xt_gru_test shape: (1, 3)\n",
      "h_prev_gru_test shape: (1, 5)\n",
      "\n",
      "ht_gru (現隠れ状態) shape: (1, 5)\n",
      "\n",
      "rt (リセットゲート):\n",
      " [[0.49292152 0.50725918 0.50139258 0.49848724 0.49618853]]\n",
      "zt (更新ゲート):\n",
      " [[0.50240096 0.49836036 0.50185228 0.49162676 0.48884253]]\n",
      "h_tilde_t (候補隠れ状態):\n",
      " [[-0.05602501 -0.00380308  0.01239558 -0.01486699  0.02527042]]\n"
     ]
    }
   ],
   "source": [
    "# テスト\n",
    "input_dim_gru = 3\n",
    "hidden_dim_gru = 5 \n",
    "params_gru = initialize_gru_parameters(input_dim_gru, hidden_dim_gru, random_seed=20)\n",
    "\n",
    "xt_gru_test = np.random.randn(1, input_dim_gru)\n",
    "h_prev_gru_test = np.random.randn(1, hidden_dim_gru)\n",
    "\n",
    "ht_gru, cache_gru_t = gru_forward_step(xt_gru_test, h_prev_gru_test, params_gru)\n",
    "\n",
    "print(\"xt_gru_test shape:\", xt_gru_test.shape)\n",
    "print(\"h_prev_gru_test shape:\", h_prev_gru_test.shape)\n",
    "print(\"\\nht_gru (現隠れ状態) shape:\", ht_gru.shape)\n",
    "print(\"\\nrt (リセットゲート):\\n\", cache_gru_t[\"rt\"])\n",
    "print(\"zt (更新ゲート):\\n\", cache_gru_t[\"zt\"])\n",
    "print(\"h_tilde_t (候補隠れ状態):\\n\", cache_gru_t[\"h_tilde_t\"])"
   ]
  },
  {
   "cell_type": "markdown",
   "id": "81c6a5c1",
   "metadata": {},
   "source": [
    "**BPTT for GRU:**\n",
    "GRUのBPTTも、LSTMと同様に各ゲートと状態の更新式に対して連鎖律を適用して計算されます。LSTMよりゲート数が少ないため、計算は若干シンプルになりますが、依然として複雑です。PyTorchのようなフレームワークでは自動微分によって処理されます。"
   ]
  },
  {
   "cell_type": "markdown",
   "id": "a92a316e",
   "metadata": {},
   "source": [
    "## 4. PyTorchによるGRUの実装と学習\n",
    "\n",
    "PyTorchでは、`nn.GRU` モジュールを使ってGRU層を簡単に利用できます。"
   ]
  },
  {
   "cell_type": "markdown",
   "id": "2fecba2a",
   "metadata": {},
   "source": [
    "### 4.1 PyTorch `nn.GRU` の使い方\n",
    "`nn.GRU` の基本的なインターフェースは `nn.RNN` や `nn.LSTM` と似ています。\n",
    "\n",
    "*   **`nn.GRU` の初期化:**\n",
    "    `gru_layer = nn.GRU(input_size, hidden_size, num_layers, batch_first=True)`\n",
    "    *   引数は`nn.RNN`とほぼ同じ。\n",
    "\n",
    "*   **順伝播:**\n",
    "    `outputs, h_n = gru_layer(input_sequence, h_initial)`\n",
    "    *   `input_sequence`: 形状 `(batch_size, seq_length, input_size)` の入力テンソル。\n",
    "    *   `h_initial` (オプション): 形状 `(num_layers, batch_size, hidden_size)` の初期隠れ状態テンソル。\n",
    "    *   `outputs`: 形状 `(batch_size, seq_length, hidden_size)` の、各タイムステップにおける最後のGRU層の**隠れ状態 ($h_t$)** の出力。\n",
    "    *   `h_n`: 形状 `(num_layers, batch_size, hidden_size)` の、シーケンス全体の最後のタイムステップにおける隠れ状態。\n",
    "    (LSTMと異なり、GRUはセル状態を別途返しません。)"
   ]
  },
  {
   "cell_type": "code",
   "execution_count": 13,
   "id": "887d0368",
   "metadata": {},
   "outputs": [],
   "source": [
    "class SimpleGRU(nn.Module):\n",
    "    def __init__(self, input_size, hidden_size, output_size, num_layers=1):\n",
    "        super(SimpleGRU, self).__init__()\n",
    "        self.hidden_size = hidden_size\n",
    "        self.num_layers = num_layers\n",
    "\n",
    "        self.gru = nn.GRU(input_size, hidden_size, num_layers, batch_first=True)\n",
    "        self.fc = nn.Linear(hidden_size, output_size)\n",
    "\n",
    "    def forward(self, x, h0=None):\n",
    "        if h0 is None:\n",
    "            h0 = torch.zeros(self.num_layers, x.size(0), self.hidden_size).to(x.device)\n",
    "\n",
    "        out, hn = self.gru(x, h0)\n",
    "        y_pred = self.fc(out.contiguous().view(-1, self.hidden_size))\n",
    "        y_pred = y_pred.view(out.size(0), out.size(1), -1)\n",
    "\n",
    "        return y_pred, hn"
   ]
  },
  {
   "cell_type": "code",
   "execution_count": 14,
   "id": "60a9fdb6",
   "metadata": {},
   "outputs": [
    {
     "name": "stdout",
     "output_type": "stream",
     "text": [
      "PyTorch SimpleGRU Model:\n",
      " SimpleGRU(\n",
      "  (gru): GRU(1, 10, batch_first=True)\n",
      "  (fc): Linear(in_features=10, out_features=1, bias=True)\n",
      ")\n",
      "\n",
      "PyTorch GRU Dummy Input Shape: torch.Size([5, 10, 1])\n",
      "PyTorch GRU Dummy Output Seq Shape: torch.Size([5, 10, 1])\n",
      "PyTorch GRU Dummy Last Hidden Shape: torch.Size([1, 5, 10])\n"
     ]
    }
   ],
   "source": [
    "# テスト\n",
    "input_dim_pt_gru = 1\n",
    "hidden_dim_pt_gru = 10 \n",
    "output_dim_pt_gru = 1\n",
    "num_gru_layers_pt = 1\n",
    "\n",
    "model_pt_gru = SimpleGRU(input_dim_pt_gru, hidden_dim_pt_gru, output_dim_pt_gru, num_gru_layers_pt).to(device)\n",
    "print(\"PyTorch SimpleGRU Model:\\n\", model_pt_gru)\n",
    "\n",
    "# ダミー入力でテスト\n",
    "batch_size_pt_gru = 5\n",
    "seq_len_pt_gru = 10\n",
    "dummy_x_pt_gru = torch.randn(batch_size_pt_gru, seq_len_pt_gru, input_dim_pt_gru).to(device)\n",
    "\n",
    "pred_seq_pt_gru, last_h_pt_gru = model_pt_gru(dummy_x_pt_gru)\n",
    "print(\"\\nPyTorch GRU Dummy Input Shape:\", dummy_x_pt_gru.shape)\n",
    "print(\"PyTorch GRU Dummy Output Seq Shape:\", pred_seq_pt_gru.shape)\n",
    "print(\"PyTorch GRU Dummy Last Hidden Shape:\", last_h_pt_gru.shape)"
   ]
  },
  {
   "cell_type": "markdown",
   "id": "7dc16642",
   "metadata": {},
   "source": [
    "### 4.2 簡単なシーケンス予測タスクでのPyTorch GRU学習 (Sin波予測)\n",
    "LSTMのノートブックで使ったSin波予測タスクでGRUを学習させてみます。"
   ]
  },
  {
   "cell_type": "code",
   "execution_count": 15,
   "id": "b0be10fb",
   "metadata": {},
   "outputs": [],
   "source": [
    "# sin波データセットの生成 (LSTMノートブックから再掲)\n",
    "def generate_sindata_gru(seq_length=20, num_sequences=1000, predict_steps=1):\n",
    "    X_list, y_list = [], []\n",
    "    for _ in range(num_sequences):\n",
    "        start_phase = np.random.rand() * 2 * np.pi\n",
    "        time_steps = np.linspace(start_phase, start_phase + (seq_length + predict_steps -1)*0.1, seq_length + predict_steps)\n",
    "        data = np.sin(time_steps)\n",
    "        X_list.append(data[:seq_length])\n",
    "        y_list.append(data[seq_length : seq_length + predict_steps])\n",
    "    X = np.array(X_list, dtype=np.float32).reshape(num_sequences, seq_length, 1)\n",
    "    y = np.array(y_list, dtype=np.float32).reshape(num_sequences, predict_steps, 1)\n",
    "    return X, y\n",
    "\n",
    "seq_len_sindata_gru = 30\n",
    "num_seq_sindata_gru = 2000\n",
    "X_sindata_gru, y_sindata_gru = generate_sindata_gru(seq_length=seq_len_sindata_gru, num_sequences=num_seq_sindata_gru, predict_steps=1)\n",
    "\n",
    "X_sindata_pt_gru = torch.from_numpy(X_sindata_gru).to(device)\n",
    "y_sindata_pt_gru = torch.from_numpy(y_sindata_gru).to(device)\n",
    "\n",
    "def get_batches_gru(X, y, batch_size): # (LSTMノートブックから再掲)\n",
    "    n_batches = X.shape[0] // batch_size\n",
    "    for i in range(n_batches):\n",
    "        start = i * batch_size; end = start + batch_size\n",
    "        yield X[start:end], y[start:end]"
   ]
  },
  {
   "cell_type": "code",
   "execution_count": 16,
   "id": "19f8dbde",
   "metadata": {},
   "outputs": [
    {
     "name": "stdout",
     "output_type": "stream",
     "text": [
      "\n",
      "PyTorch GRU 学習開始 (Sin波予測, 50 hidden units)...\n",
      "Epoch 0, Loss (MSE): 0.072497\n",
      "Epoch 10, Loss (MSE): 0.000001\n",
      "Epoch 20, Loss (MSE): 0.000000\n",
      "Epoch 30, Loss (MSE): 0.000000\n",
      "Epoch 40, Loss (MSE): 0.000000\n",
      "Epoch 50, Loss (MSE): 0.000027\n",
      "Epoch 60, Loss (MSE): 0.000001\n",
      "Epoch 70, Loss (MSE): 0.000000\n",
      "Epoch 80, Loss (MSE): 0.000000\n",
      "Epoch 90, Loss (MSE): 0.000004\n",
      "Epoch 100, Loss (MSE): 0.000000\n"
     ]
    }
   ],
   "source": [
    "# モデル、損失関数、Optimizer\n",
    "input_dim_sin_gru = 1\n",
    "hidden_dim_sin_gru = 50 \n",
    "output_dim_sin_gru = 1 \n",
    "num_gru_layers_sin = 1\n",
    "\n",
    "model_sindata_gru = SimpleGRU(input_dim_sin_gru, hidden_dim_sin_gru, output_dim_sin_gru, num_gru_layers_sin).to(device)\n",
    "criterion_sindata_gru = nn.MSELoss()\n",
    "optimizer_sindata_gru = optim.Adam(model_sindata_gru.parameters(), lr=0.005)\n",
    "\n",
    "num_epochs_sindata_gru = 100\n",
    "batch_size_sindata_gru = 50\n",
    "print_every_sindata_gru = num_epochs_sindata_gru // 10\n",
    "costs_sindata_gru = []\n",
    "\n",
    "print(f\"\\nPyTorch GRU 学習開始 (Sin波予測, {hidden_dim_sin_gru} hidden units)...\")\n",
    "for epoch in range(num_epochs_sindata_gru + 1):\n",
    "    model_sindata_gru.train()\n",
    "    epoch_loss = 0\n",
    "    num_batches_processed = 0\n",
    "    for x_batch, y_batch in get_batches_gru(X_sindata_pt_gru, y_sindata_pt_gru, batch_size_sindata_gru):\n",
    "        outputs_seq, _ = model_sindata_gru(x_batch)\n",
    "        loss = criterion_sindata_gru(outputs_seq[:, -1, :], y_batch.squeeze(1)) \n",
    "        optimizer_sindata_gru.zero_grad()\n",
    "        loss.backward()\n",
    "        optimizer_sindata_gru.step()\n",
    "        epoch_loss += loss.item()\n",
    "        num_batches_processed += 1\n",
    "    avg_epoch_loss = epoch_loss / num_batches_processed\n",
    "    costs_sindata_gru.append(avg_epoch_loss)\n",
    "    if epoch % print_every_sindata_gru == 0:\n",
    "        print(f\"Epoch {epoch}, Loss (MSE): {avg_epoch_loss:.6f}\")\n"
   ]
  },
  {
   "cell_type": "code",
   "execution_count": 17,
   "id": "f4e65216",
   "metadata": {},
   "outputs": [
    {
     "data": {
      "image/png": "[encoded data removed]",
      "text/plain": [
       "<Figure size 400x300 with 1 Axes>"
      ]
     },
     "metadata": {},
     "output_type": "display_data"
    },
    {
     "data": {
      "image/png": "[encoded data removed]",
      "text/plain": [
       "<Figure size 600x300 with 1 Axes>"
      ]
     },
     "metadata": {},
     "output_type": "display_data"
    }
   ],
   "source": [
    "plt.figure(figsize=(4,3))\n",
    "plt.plot(costs_sindata_gru)\n",
    "plt.xlabel(f\"Epochs\"); plt.ylabel(\"Cost (MSE)\")\n",
    "plt.title(f\"PyTorch GRU Learning Curve (Sinewave Prediction, {hidden_dim_sin_gru} hidden units)\")\n",
    "plt.grid(True); plt.show()\n",
    "\n",
    "# 学習済みモデルで予測してプロット\n",
    "model_sindata_gru.eval()\n",
    "with torch.no_grad():\n",
    "    X_test_sin_gru, y_test_sin_true_gru = generate_sindata_gru(seq_length=seq_len_sindata_gru, num_sequences=1, predict_steps=50)\n",
    "    X_test_sin_pt_gru = torch.from_numpy(X_test_sin_gru).to(device)\n",
    "    _, hn_gru = model_sindata_gru(X_test_sin_pt_gru) # 最後の隠れ状態を取得\n",
    "    current_input_val_gru = X_test_sin_pt_gru[:, -1:, :]\n",
    "    predicted_sequence_gru = []\n",
    "    for _ in range(50): # 50ステップ先まで予測\n",
    "        pred_out_gru, hn_gru = model_sindata_gru(current_input_val_gru, hn_gru)\n",
    "        predicted_val_gru = pred_out_gru.item()\n",
    "        predicted_sequence_gru.append(predicted_val_gru)\n",
    "        current_input_val_gru = torch.tensor([[[predicted_val_gru]]], dtype=torch.float32).to(device)\n",
    "\n",
    "plt.figure(figsize=(6,3))\n",
    "total_len_plot_gru = seq_len_sindata_gru + 50\n",
    "plt.plot(np.arange(seq_len_sindata_gru), X_test_sin_gru.ravel(), 'b-', label='Input Sequence (known)')\n",
    "plt.plot(np.arange(seq_len_sindata_gru, total_len_plot_gru), y_test_sin_true_gru.ravel(), 'g-', label='True Future Sequence')\n",
    "plt.plot(np.arange(seq_len_sindata_gru, total_len_plot_gru), predicted_sequence_gru, 'm--', label='Predicted Future Sequence (GRU)')\n",
    "plt.title(\"Sinewave Prediction with GRU\")\n",
    "plt.xlabel(\"Time Step\"); plt.ylabel(\"Value\"); plt.legend(); plt.grid(True); plt.show()"
   ]
  },
  {
   "cell_type": "markdown",
   "id": "170c4472",
   "metadata": {},
   "source": [
    "## 5. 考察\n",
    "\n",
    "*   **GRUの構造と計算:**\n",
    "    *   NumPyによる順伝播実装を通じて、GRUの2つの主要なゲート（リセットゲートと更新ゲート）がどのように連携し、前時刻の隠れ状態と現在の入力から新しい隠れ状態を生成するかを確認しました。\n",
    "    *   リセットゲートは過去の情報をどの程度無視するかを制御し、更新ゲートは過去の情報と新しく計算された候補情報（入力に基づいて生成）をどの割合で組み合わせるかを制御します。\n",
    "    *   LSTMと比較して、GRUは独立したセル状態を持たず、ゲートの数も少ないため、構造がよりシンプルです。\n",
    "\n",
    "*   **PyTorchによるGRU実装の利便性:**\n",
    "    *   `nn.GRU`モジュールは、LSTMと同様に、複雑な内部計算をカプセル化し、使いやすいインターフェースを提供します。BPTTも自動微分によって処理されます。\n",
    "\n",
    "*   **LSTMとGRUの比較:**\n",
    "    *   **構造の複雑さ:** GRUはLSTMよりもゲートが1つ少なく、セル状態も隠れ状態に統合されているため、パラメータ数が少なく、構造がシンプルです。\n",
    "    *   **計算効率:** 一般的に、GRUはLSTMよりも計算が若干速い傾向があります。\n",
    "    *   **性能:** 多くのタスクにおいて、LSTMとGRUは同程度の性能を示すことが多いと言われていますが、データセットやタスクの特性によってどちらが優れているかは変わることがあります。GRUの方がパラメータが少ないため、データ量が少ない場合に過学習しにくいという報告もありますが、一概には言えません。経験的には、まずLSTMを試し、計算資源や速度が問題になる場合にGRUを検討するというアプローチも取られます。\n",
    "    *   **ゲートの役割の対応（概念的）:**\n",
    "        *   GRUの**更新ゲート ($z_t$)** は、LSTMの忘却ゲート ($f_t$) と入力ゲート ($i_t$) の役割を一部組み合わせたものと見なせます。(1-$z_t$) が忘却する割合、$z_t$ が新しい情報を取り込む割合に対応します。\n",
    "        *   GRUの**リセットゲート ($r_t$)** は、LSTMには直接対応するものがありませんが、新しい候補隠れ状態 $\\tilde{h}_t$ を計算する際に、過去の隠れ状態 $h_{t-1}$ の影響をどの程度考慮するかを制御します。\n",
    "\n",
    "*   **長期依存性の学習:**\n",
    "    *   GRUもLSTMと同様に、ゲート機構によって勾配の流れを制御し、単純なRNNが苦手とする長期依存性を捉える能力が向上しています。\n",
    "\n",
    "このノートブックでは、GRUの基本的なメカニズムと、PyTorchを使ったその応用例について学びました。LSTMとGRUは、リカレントニューラルネットワークにおける重要な進歩であり、様々なシーケンスモデリングタスクで成功を収めています。\n",
    "次の段階では、これらのリカレント層をEncoder-Decoder構造に組み込んだり、さらに発展したAttention機構を持つTransformerモデルに進んでいくのが良いでしょう。"
   ]
  }
 ],
 "metadata": {
  "kernelspec": {
   "display_name": "base",
   "language": "python",
   "name": "python3"
  },
  "language_info": {
   "codemirror_mode": {
    "name": "ipython",
    "version": 3
   },
   "file_extension": ".py",
   "mimetype": "text/x-python",
   "name": "python",
   "nbconvert_exporter": "python",
   "pygments_lexer": "ipython3",
   "version": "3.12.7"
  }
 },
 "nbformat": 4,
 "nbformat_minor": 5
}
