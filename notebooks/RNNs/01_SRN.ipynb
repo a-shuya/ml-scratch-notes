{
 "cells": [
  {
   "cell_type": "markdown",
   "id": "e65ae61b",
   "metadata": {},
   "source": [
    "# Simple Recurrent Network (SRN / Elman Network) の実装\n",
    "\n",
    "このノートブックでは、時系列データを扱うための基本的なリカレントニューラルネットワーク（RNN）の一つであるSimple Recurrent Network（SRN）、または提案者であるJeffrey Elman氏の名前にちなんでエルマンネットワークとも呼ばれるモデルの概念を学び、NumPyを使ってその主要な部分をスクラッチで実装します。\n",
    "\n",
    "**参考論文:**\n",
    "*   Elman, J. L. (1990). Finding structure in time. *Cognitive science*, 14(2), 179-211.\n",
    "\n",
    "**このノートブックで学ぶこと:**\n",
    "1.  時間情報を扱う上での従来のニューラルネットワークの課題。\n",
    "2.  SRNのアーキテクチャと、コンテキストユニットを通じた「記憶」のメカニズム。\n",
    "3.  SRNの順伝播の数式表現とNumPyによる実装。\n",
    "4.  時系列データに対する逆伝播（Backpropagation Through Time - BPTT）の基本的な考え方。\n",
    "5.  簡単な時系列予測タスク（Temporal XOR）でのSRNの学習。\n",
    "\n",
    "**前提知識:**\n",
    "*   基本的なPythonプログラミングとNumPyの操作。\n",
    "*   多層パーセプトロン（MLP）の順伝播と逆伝播の理解（mlpのノートブック）。\n",
    "*   活性化関数（Sigmoidなど）と損失関数（MSEなど）の知識。"
   ]
  },
  {
   "cell_type": "markdown",
   "id": "1ef43f74",
   "metadata": {},
   "source": [
    "## 1. 必要なライブラリのインポート"
   ]
  },
  {
   "cell_type": "code",
   "execution_count": 1,
   "id": "90cf926e",
   "metadata": {},
   "outputs": [],
   "source": [
    "import numpy as np\n",
    "import matplotlib.pyplot as plt"
   ]
  },
  {
   "cell_type": "markdown",
   "id": "fd712f43",
   "metadata": {},
   "source": [
    "## 2. 時間情報を扱う上での課題\n",
    "これまで扱ってきたMLPやCNNは、基本的には固定サイズの入力を一度に処理するフィードフォワード型のネットワークでした。しかし、自然言語、音声、株価、センサーデータなど、私たちの周りには時間的な順序や文脈が重要な意味を持つ**時系列データ**が数多く存在します。\n",
    "\n",
    "Elman(1990)の論文では、従来のPDP(Parallel Distributed Processing)モデルが時間情報をどのように扱ってきたか、そしてその限界について議論しています。"
   ]
  },
  {
   "cell_type": "markdown",
   "id": "4901e3b3",
   "metadata": {},
   "source": [
    "### 2.1 時間情報を空間的な表現に変換するアプローチ (論文 \"THE PROBLEM WITH TIME\" より)\n",
    "一つの単純なアプローチは、時間的なシーケンス全体を一つの長いベクトルとして空間的に展開し、それをMLPのようなネットワークの固定長の入力として与える方法です。例えば、長さ $T$ のシーケンスがあり、各時点での入力が $D$ 次元のベクトルであれば、$T \\times D$ 次元の単一のベクトルとして扱います。\n",
    "\n",
    "**問題点:**\n",
    "1.  **固定長:** この方法では、入力シーケンスの長さをあらかじめ固定する必要があり、可変長のシーケンスを扱うのが困難です。言語のように文の長さが大きく異なるデータを扱うには不向きです。\n",
    "2.  **時間的位置の曖昧さ:** 「時間的にずれた同じパターン」を、ネットワークが本質的に「似ている」と認識するのが難しくなります。空間的には異なる入力として扱われるため、これらの類似性を学習するには多くのデータと工夫が必要です。\n",
    "    *   論文の例: `[01110000]` と `[00011100]` は同じパターンの時間シフトですが、ベクトルとしては大きく異なります。\n",
    "3.  **長期依存性の困難さ:** シーケンスが長くなると、遠く離れた時点間の依存関係を捉えるのが非常に難しくなります。\n",
    "\n",
    "これらの問題を解決するために、ネットワーク自身が過去の情報を何らかの形で「記憶」し、現在の処理に利用できるような仕組みが求められます。"
   ]
  },
  {
   "cell_type": "markdown",
   "id": "9c88a9c0",
   "metadata": {},
   "source": [
    "## 3. Simple Recurrent Network (SRN) / Elman Network\n",
    "Elman (1990) は、この「記憶」のメカニズムを導入するために、シンプルなリカレント（再帰的）接続を持つネットワーク構造を提案しました。これがSRN、またはエルマンネットワークです。\n"
   ]
  },
  {
   "cell_type": "markdown",
   "id": "5de1433d",
   "metadata": {},
   "source": [
    "### 3.1 SRNのアーキテクチャ (論文 Figure 2 を参照)\n",
    "SRNの基本的な構造は以下の通りです。\n",
    "*   **入力層 ($x_t$):** 時刻 $t$ における外部からの入力。\n",
    "*   **隠れ層 ($h_t$):** 入力層と、後述するコンテキスト層からの情報を受け取り、活性化関数を通して出力を計算します。\n",
    "*   **出力層 ($y_t$):** 隠れ層からの情報を受け取り、最終的な出力を計算します（例: 次の時点の予測など）。\n",
    "*   **コンテキスト層 ($c_t$):** これがSRNの核となる部分です。コンテキスト層は、**1つ前の時刻 $t-1$ の隠れ層の活性化状態 $h_{t-1}$ をコピーして保持**します。そして、このコンテキスト層の出力 $c_t = h_{t-1}$ が、次の時刻 $t$ での隠れ層の計算に入力の一部として使われます。\n",
    "\n",
    "**情報の流れ:**\n",
    "1.  時刻 $t$ で、入力 $x_t$ と前時刻の隠れ状態（コンテキスト $c_t = h_{t-1}$）が隠れ層に入力されます。\n",
    "2.  隠れ層はこれらの情報から現在の状態 $h_t$ を計算します。\n",
    "3.  $h_t$ は出力層に送られ、出力 $y_t$ が計算されます。\n",
    "4.  同時に、$h_t$ は次の時刻 $t+1$ のためのコンテキスト $c_{t+1}$ としてコピー（保存）されます。\n",
    "\n",
    "このように、隠れ層の状態がループ状にフィードバックされることで、ネットワークは過去の情報を保持し、時間的な文脈を考慮した処理が可能になります。コンテキストユニットの値は、ネットワークの「短期記憶」として機能します。"
   ]
  },
  {
   "cell_type": "markdown",
   "id": "e0001b76",
   "metadata": {},
   "source": [
    "### 3.2 SRNの順伝播の数式表現\n",
    "時刻 $t$ における各層の計算は以下のように表せます。\n",
    "\n",
    "*   **隠れ層の活性化前入力 $net_{h,t}$:**\n",
    "        $net_{h,t} = W_{xh} x_t + W_{hh} h_{t-1} + b_h$\n",
    "    ここで、\n",
    "    *   $x_t$: 時刻 $t$ での入力ベクトル\n",
    "    *   $h_{t-1}$: 時刻 $t-1$ での隠れ層の活性化ベクトル（コンテキスト層の出力）\n",
    "    *   $W_{xh}$: 入力層から隠れ層への重み行列\n",
    "    *   $W_{hh}$: 前時刻の隠れ層（コンテキスト層）から現時刻の隠れ層への重み行列（リカレント重み）\n",
    "    *   $b_h$: 隠れ層のバイアスベクトル\n",
    "\n",
    "*   **隠れ層の活性化 $h_t$:**\n",
    "    $h_t = \\sigma_h (net_{h,t})$\n",
    "    $\\sigma_h$ は隠れ層の活性化関数（例: Sigmoid, Tanh, ReLU）。Elmanの原論文ではSigmoidが使われています。\n",
    "\n",
    "*   **出力層の活性化前入力 $net_{y,t}$:**\n",
    "    $net_{y,t} = W_{hy} h_t + b_y$\n",
    "    ここで、\n",
    "    *   $W_{hy}$: 隠れ層から出力層への重み行列\n",
    "    *   $b_y$: 出力層のバイアスベクトル\n",
    "\n",
    "*   **出力層の活性化 $y_t$ (予測値 $\\hat{y}_t$):**\n",
    "    $\\hat{y}_t = \\sigma_y (net_{y,t})$\n",
    "    $\\sigma_y$ は出力層の活性化関数（タスクによる。回帰なら恒等関数、二値分類ならSigmoid、多クラス分類ならSoftmaxなど）。Elmanの論文の予測タスクでは、出力も入力と同様の形式（例: One-hotベクトル）で、活性化関数としてSigmoidが使われることが多いです。\n",
    "\n",
    "*   **コンテキストの更新:**\n",
    "    $c_{t+1} = h_t$ (Elman Networkの場合、論文Figure 2では固定重み1.0でのコピーと記載)\n",
    "\n",
    "時刻 $t=0$ における初期の隠れ状態 $h_{-1}$ (または $h_0$) は、通常ゼロベクトルで初期化されます。"
   ]
  },
  {
   "cell_type": "markdown",
   "id": "f9a1d691",
   "metadata": {},
   "source": [
    "## 4. NumPyによるSRNの主要コンポーネント実装"
   ]
  },
  {
   "cell_type": "markdown",
   "id": "a9b223ec",
   "metadata": {},
   "source": [
    "### 4.1 活性化関数 (再掲)\n",
    "ここでは隠れ層と出力層の両方にSigmoid関数を使用します。"
   ]
  },
  {
   "cell_type": "code",
   "execution_count": 2,
   "id": "72a788b6",
   "metadata": {},
   "outputs": [],
   "source": [
    "def sigmoid(x):\n",
    "    return 1 / (1 + np.exp(-x))\n",
    "\n",
    "def sigmoid_derivative(x):\n",
    "    return sigmoid(x) * (1 - sigmoid(x))"
   ]
  },
  {
   "cell_type": "markdown",
   "id": "10bb57be",
   "metadata": {},
   "source": [
    "### 4.2 パラメータの初期化\n",
    "SRNの学習可能なパラメータは、$W_{xh}, W_{hh}, b_h, W_{hy}, b_y$ です。"
   ]
  },
  {
   "cell_type": "code",
   "execution_count": 3,
   "id": "ade42a47",
   "metadata": {},
   "outputs": [],
   "source": [
    "def initialize_srn_parameters(input_size, hidden_size, output_size):\n",
    "    '''SRNの重みとバイアスの初期化'''\n",
    "    np.random.seed(42)\n",
    "\n",
    "    # 入力 -> 隠れ層\n",
    "    W_xh = np.random.randn(input_size, hidden_size) * 0.01\n",
    "    # 隠れ層（前時刻） -> 隠れ層（現在時刻）\n",
    "    W_hh = np.random.randn(hidden_size, hidden_size) * 0.01\n",
    "    b_h = np.zeros((1, hidden_size))\n",
    "\n",
    "    # 隠れ層 -> 出力\n",
    "    W_hy = np.random.randn(hidden_size, output_size) * 0.01\n",
    "    b_y = np.zeros((1, output_size))\n",
    "\n",
    "    parameters = {\n",
    "        'W_xh': W_xh,\n",
    "        'W_hh': W_hh,\n",
    "        'b_h': b_h,\n",
    "        'W_hy': W_hy,\n",
    "        'b_y': b_y\n",
    "    }\n",
    "    return parameters"
   ]
  },
  {
   "cell_type": "markdown",
   "id": "75965ef8",
   "metadata": {},
   "source": [
    "### 4.3 SRNの順伝播ステップ (1タイムステップ分)\n",
    "\n",
    "1つのタイムステップにおけるSRNの順伝播を計算する関数を実装します。\n",
    "この関数は、現在の入力 $x_t$ と前時刻の隠れ状態 $h_{prev}$ を受け取り、現在の出力 $\\hat{y}_t$ と現在の隠れ状態 $h_t$ を返します。"
   ]
  },
  {
   "cell_type": "code",
   "execution_count": 4,
   "id": "058abd9e",
   "metadata": {},
   "outputs": [],
   "source": [
    "def srn_forward_step(xt, h_prev, parameters, hidden_activation_fn = sigmoid, output_activation_fn = sigmoid):\n",
    "    '''\n",
    "    SRNの1ステップの順伝播計算\n",
    "    parameters:\n",
    "        xt: 時刻tの入力（1, hidden_size）\n",
    "        h_prev: 時刻t-1の隠れ状態（1, hidden_size）\n",
    "        parameters: 重みとバイアス\n",
    "        hidden_activation_fn: 隠れ層の活性化関数\n",
    "        output_activation_fn: 出力層の活性化関数\n",
    "    returns:\n",
    "        tupple: (y_hat_t, h_t, cache_t)\n",
    "            y_hat_t: 時刻tの予測出力\n",
    "            h_t: 時刻tの隠れ状態\n",
    "            cache_t: キャッシュ（逆伝播用）\n",
    "    '''\n",
    "    W_xh, W_hh, b_h = parameters['W_xh'], parameters['W_hh'], parameters['b_h']\n",
    "    W_hy, b_y = parameters['W_hy'], parameters['b_y']\n",
    "\n",
    "    # 隠れ層の計算\n",
    "    # net_h_t = xt @ W_xh + h_prev @ W_hh + b_h\n",
    "    # 入力xtが(input_size,)の場合や，(1, input_size)の場合を考慮\n",
    "    if xt.ndim == 1:\n",
    "        xt = xt.reshape(1, -1)\n",
    "    if h_prev.ndim == 1:\n",
    "        h_prev = h_prev.reshape(1, -1)\n",
    "\n",
    "    net_h_t = np.dot(xt, W_xh) + np.dot(h_prev, W_hh) + b_h\n",
    "    h_t = hidden_activation_fn(net_h_t)\n",
    "\n",
    "    # 出力層の計算\n",
    "    net_y_t = np.dot(h_t, W_hy) + b_y\n",
    "    y_hat_t = output_activation_fn(net_y_t)\n",
    "\n",
    "    cache_t = {\n",
    "        'xt': xt,\n",
    "        'h_prev': h_prev,\n",
    "        'net_h_t': net_h_t,\n",
    "        'h_t': h_t,\n",
    "        'net_y_t': net_y_t,\n",
    "        'y_hat_t': y_hat_t\n",
    "    }\n",
    "\n",
    "    return y_hat_t, h_t, cache_t"
   ]
  },
  {
   "cell_type": "code",
   "execution_count": 5,
   "id": "9be3df4c",
   "metadata": {},
   "outputs": [
    {
     "name": "stdout",
     "output_type": "stream",
     "text": [
      "xt_test:\n",
      " [[0.5]]\n",
      "h_prev_test:\n",
      " [[0. 0.]]\n",
      "y_hat_t_test (予測出力):\n",
      " [[0.5029354]]\n",
      "h_t_test (現隠れ状態):\n",
      " [[0.50062089 0.49982717]]\n"
     ]
    }
   ],
   "source": [
    "# テスト\n",
    "input_dim_srn = 1\n",
    "hidden_dim_srn = 2\n",
    "output_dim_srn = 1\n",
    "srn_params = initialize_srn_parameters(input_dim_srn, hidden_dim_srn, output_dim_srn)\n",
    "\n",
    "xt_test = np.array([[0.5]]) # 時刻tの入力\n",
    "h_prev_test = np.zeros((1, hidden_dim_srn)) # 前時刻の隠れ状態 (初期はゼロ)\n",
    "\n",
    "y_hat_t_test, h_t_test, cache_t_test = srn_forward_step(xt_test, h_prev_test, srn_params)\n",
    "print(\"xt_test:\\n\", xt_test)\n",
    "print(\"h_prev_test:\\n\", h_prev_test)\n",
    "print(\"y_hat_t_test (予測出力):\\n\", y_hat_t_test)\n",
    "print(\"h_t_test (現隠れ状態):\\n\", h_t_test)"
   ]
  },
  {
   "cell_type": "markdown",
   "id": "00dbbeba",
   "metadata": {},
   "source": [
    "### 4.4 シーケンス全体の順伝播\n",
    "\n",
    "入力シーケンス全体に対して順伝播を行います。各タイムステップで計算された隠れ状態を次のステップに渡し、各ステップの出力とキャッシュを保存します。"
   ]
  },
  {
   "cell_type": "code",
   "execution_count": 6,
   "id": "5a8f8f25",
   "metadata": {},
   "outputs": [],
   "source": [
    "def srn_forward(X_sequence, h0, parameters,\n",
    "                hidden_activation_fn=sigmoid, output_activation_fn=sigmoid):\n",
    "    '''\n",
    "    入力シーケンス全体に対するSRNの順伝播\n",
    "    parameters:\n",
    "        X_sequence: 入力シーケンス（T, input_size）, Tはシーケンスの長さ\n",
    "        h0: 初期隠れ状態（1, hidden_size）\n",
    "        parameters: 重みとバイアス\n",
    "    returns:\n",
    "        tuple(Y_hat_sequence, H_sequence, Caches_sequence)\n",
    "            Y_hat_sequence: 各時刻の予測出力のシーケンス（T, output_size）\n",
    "            H_sequence: 各時刻の隠れ状態のシーケンス（T+1, hidden_size）, H[0]=h0\n",
    "            Caches_sequence: 各時刻のキャッシュのリスト\n",
    "    '''\n",
    "    T, input_size = X_sequence.shape\n",
    "    hidden_size = parameters['W_hh'].shape[0]\n",
    "    output_size = parameters['b_y'].shape[1]\n",
    "\n",
    "    Y_hat_sequence = np.zeros((T, output_size))\n",
    "    H_sequence = np.zeros((T + 1, hidden_size)) # H[0] = h0, H[t+1] = h_t\n",
    "    Caches_sequence = []\n",
    "\n",
    "    h_prev = h0\n",
    "    H_sequence[0, :] = h_prev.flatten() # H_sequence[0]に初期隠れ状態を設定\n",
    "\n",
    "    for t in range(T):\n",
    "        xt = X_sequence[t, :].reshape(1, -1) # 現在の入力を(1, input_size)に変形\n",
    "        y_hat_t, h_t, cache_t = srn_forward_step(xt,\n",
    "                                                 h_prev,\n",
    "                                                 parameters,\n",
    "                                                 hidden_activation_fn,\n",
    "                                                    output_activation_fn)\n",
    "        Y_hat_sequence[t, :] = y_hat_t.flatten()\n",
    "        H_sequence[t + 1, :] = h_t.flatten()\n",
    "        Caches_sequence.append(cache_t)\n",
    "\n",
    "        h_prev = h_t  # 次のステップのために現在の隠れ状態を保存\n",
    "        \n",
    "    return Y_hat_sequence, H_sequence, Caches_sequence\n"
   ]
  },
  {
   "cell_type": "code",
   "execution_count": 7,
   "id": "3af6318d",
   "metadata": {},
   "outputs": [
    {
     "name": "stdout",
     "output_type": "stream",
     "text": [
      "入力シーケンス X_seq_test:\n",
      " [[0.1]\n",
      " [0.5]\n",
      " [0.9]]\n",
      "初期隠れ状態 h0_test:\n",
      " [[0. 0.]]\n",
      "\n",
      "予測出力シーケンス Y_hat_seq:\n",
      " [[0.5029337 ]\n",
      " [0.50294053]\n",
      " [0.50294223]]\n",
      "隠れ状態シーケンス H_seq (H[0]が初期状態):\n",
      " [[0.         0.        ]\n",
      " [0.50012418 0.49996543]\n",
      " [0.50113803 0.50143877]\n",
      " [0.50163552 0.50130351]]\n"
     ]
    }
   ],
   "source": [
    "# テスト\n",
    "X_seq_test = np.array([[0.1],[0.5],[0.9]]) # T=3, input_size=1\n",
    "h0_test = np.zeros((1, hidden_dim_srn))\n",
    "Y_hat_seq, H_seq, Caches_seq = srn_forward(X_seq_test, h0_test, srn_params)\n",
    "\n",
    "print(\"入力シーケンス X_seq_test:\\n\", X_seq_test)\n",
    "print(\"初期隠れ状態 h0_test:\\n\", h0_test)\n",
    "print(\"\\n予測出力シーケンス Y_hat_seq:\\n\", Y_hat_seq)\n",
    "print(\"隠れ状態シーケンス H_seq (H[0]が初期状態):\\n\", H_seq)\n",
    "# print(\"\\nキャッシュ (最初のタイムステップ):\\n\", Caches_seq[0]"
   ]
  },
  {
   "cell_type": "markdown",
   "id": "d68beccf",
   "metadata": {},
   "source": [
    "### 4.5 損失関数 (再掲)\n",
    "回帰タスクや、論文のような次のビット予測タスクでは平均二乗誤差(MSE)が使えます。"
   ]
  },
  {
   "cell_type": "code",
   "execution_count": 8,
   "id": "f6abd154",
   "metadata": {},
   "outputs": [],
   "source": [
    "def mean_squared_error_sequence(Y_true_sequence, Y_hat_sequence):\n",
    "    \"\"\" シーケンス全体の平均二乗誤差 \"\"\"\n",
    "    # Y_true_sequence, Y_hat_sequence は (T, output_size)\n",
    "    return np.mean((Y_true_sequence - Y_hat_sequence)**2)"
   ]
  },
  {
   "cell_type": "markdown",
   "id": "3fbf3fe4",
   "metadata": {},
   "source": [
    "### 4.6 逆伝播 (Backpropagation Through Time - BPTT) の概念\n",
    "\n",
    "SRNの学習では、誤差を時間に沿って逆伝播させるBPTTが用いられます。\n",
    "これは、シーケンス全体を展開したフィードフォワードネットワークに対する通常のバックプロパゲーションと考えることができますが、リカレント重み $W_{hh}$ は全てのタイムステップで共有されている点が異なります。\n",
    "\n",
    "**BPTTの基本的な考え方:**\n",
    "1.  シーケンス全体の損失 $L = \\sum_{t=1}^{T} L_t$ を計算します。$L_t$ は時刻 $t$ での損失（例: $\\frac{1}{2} \\| y_t - \\hat{y}_t \\|^2$）。\n",
    "2.  出力層から隠れ層へ、そして隠れ層から入力層へと、各タイムステップごとに逆向きに勾配を計算していきます。\n",
    "3.  **重要な点:** 時刻 $t$ の隠れ層の勾配 $\\frac{\\partial L}{\\partial h_t}$ は、2つの経路から寄与を受けます。\n",
    "    *   時刻 $t$ の出力層からの寄与: $\\frac{\\partial L_t}{\\partial h_t}$\n",
    "    *   時刻 $t+1$ の隠れ層からの寄与（リカレント接続を通じたもの）: $\\frac{\\partial L}{\\partial h_{t+1}} \\frac{\\partial h_{t+1}}{\\partial h_t}$\n",
    "4.  各パラメータ ($W_{xh}, W_{hh}, b_h, W_{hy}, b_y$) の勾配は、シーケンス全体の各タイムステップで計算された勾配を合計（または平均）したものになります。特に $W_{hh}$ の勾配は、全ての時間ステップにわたる影響を考慮して蓄積されます。\n",
    "\n",
    "**1ステップ分の勾配計算 (時刻 $t$ での出力 $y_t$ に関する損失 $L_t$ のみ考慮する場合の簡略化):**\n",
    "完全なBPTTは複雑なので、ここではまず、各タイムステップ $t$ での損失 $L_t$ が、その時刻のパラメータにどのように影響するかだけを考えます（つまり、未来の損失からの勾配伝播は一旦無視します）。これはTruncated BPTTの最も単純なケース (展開ステップ1) に近いです。Elman(1990)の論文では、学習は各タイムステップで行われ、コンテキストは前の状態を引き継ぐが、勾配計算は現在のステップのエラーのみに基づいて行われるように読めます (p.182 \"Depending upon the task, there may or may not be a learning phase in this time cycle. If so, the output is compared with a teacher input, and back propagation of error ... is used to adjust connection strengths incrementally.\")。\n",
    "\n",
    "以下は、時刻 $t$ の損失 $L_t$ に関する、その時刻の計算に関与したパラメータの勾配です。\n",
    "$\\frac{\\partial L_t}{\\partial \\text{param}}$\n",
    "\n",
    "*   **出力層の重み $W_{hy}, b_y$:**\n",
    "    *   $dnet_{y,t} = \\frac{\\partial L_t}{\\partial \\hat{y}_t} \\frac{\\partial \\hat{y}_t}{\\partial net_{y,t}}$  (例: MSEなら $(\\hat{y}_t - y_t) \\odot \\sigma_y'(net_{y,t})$)\n",
    "    *   $\\frac{\\partial L_t}{\\partial W_{hy}} = h_t^T \\cdot dnet_{y,t}$\n",
    "    *   $\\frac{\\partial L_t}{\\partial b_y} = dnet_{y,t}$\n",
    "\n",
    "*   **隠れ層の重み $W_{xh}, W_{hh}, b_h$:**\n",
    "    *   $dh_t = \\frac{\\partial L_t}{\\partial net_{y,t}} W_{hy}^T$ (出力層から隠れ層の活性化への勾配)\n",
    "    *   $dnet_{h,t} = dh_t \\odot \\sigma_h'(net_{h,t})$ (隠れ層の活性化前から活性化への勾配)\n",
    "    *   $\\frac{\\partial L_t}{\\partial W_{xh}} = x_t^T \\cdot dnet_{h,t}$\n",
    "    *   $\\frac{\\partial L_t}{\\partial W_{hh}} = h_{t-1}^T \\cdot dnet_{h,t}$\n",
    "    *   $\\frac{\\partial L_t}{\\partial b_h} = dnet_{h,t}$\n",
    "\n",
    "**完全なBPTTでは、$\\frac{\\partial L}{\\partial h_t}$ を計算し、これを $dh_{next}$ として時刻 $t-1$ に伝播させる必要があります。**\n",
    "$\\frac{\\partial L}{\\partial h_t} = \\frac{\\partial L_t}{\\partial h_t} + \\frac{\\partial L}{\\partial h_{t+1}} \\frac{\\partial h_{t+1}}{\\partial h_t}$\n",
    "$\\frac{\\partial h_{t+1}}{\\partial h_t} = \\frac{\\partial \\sigma_h(W_{xh}x_{t+1} + W_{hh}h_t + b_h)}{\\partial h_t} = \\sigma_h'(net_{h, t+1}) W_{hh}^T$\n",
    "\n",
    "今回は、Elman論文の逐次的な学習の記述に基づき、**各タイムステップで誤差を計算し、その誤差のみを使って即座にパラメータを更新する**というオンライン学習的なアプローチをまず実装してみます。これはBPTTを時間方向に展開せず、現在のエラーのみで学習する単純な方法です。"
   ]
  },
  {
   "cell_type": "code",
   "execution_count": 9,
   "id": "3ca5ea34",
   "metadata": {},
   "outputs": [],
   "source": [
    "# 1ステップ分のバックプロパゲーション\n",
    "def srn_backward_step_simplified(dy_hat_t, cache_t, parameters,\n",
    "                                 hidden_activation_derivative_fn = sigmoid_derivative):\n",
    "    '''\n",
    "    SRNの1ステップの逆伝播計算（時刻tの誤差のみ考慮）\n",
    "    parameters:\n",
    "        dy_hat_t: 時刻tの出力層の活性化後の誤差勾配（dL/dy_hat_t）\n",
    "        cache_t: 時刻tの順伝播のキャッシュ\n",
    "        parameters: 重み\n",
    "    returns:\n",
    "        dict: 時刻tの誤差に対する各パラメータの勾配\n",
    "        np.array: 時刻tの誤差に対するh_prevの勾配（dL_t/dh_prev）\n",
    "    '''\n",
    "    xt, h_prev, h_t, net_h_t, y_hat_t, net_y_t = (\n",
    "        cache_t['xt'], cache_t['h_prev'], cache_t['h_t'],\n",
    "        cache_t['net_h_t'], cache_t['y_hat_t'], cache_t['net_y_t']\n",
    "    )\n",
    "    W_hy = parameters['W_hy']\n",
    "    W_hh = parameters['W_hh']\n",
    "\n",
    "    # 出力層の勾配\n",
    "    d_net_y_t = dy_hat_t * sigmoid_derivative(net_y_t)\n",
    "    dW_hy = np.dot(h_t.T, d_net_y_t)\n",
    "    db_y = np.sum(d_net_y_t, axis=0, keepdims=True)\n",
    "\n",
    "    # 隠れ層の勾配\n",
    "    dh_t = np.dot(d_net_y_t, W_hy.T)\n",
    "    d_net_h_t = dh_t * hidden_activation_derivative_fn(net_h_t)\n",
    "\n",
    "    dW_xh = np.dot(xt.T, d_net_h_t)\n",
    "    dW_hh = np.dot(h_prev.T, d_net_h_t)\n",
    "    db_h = np.sum(d_net_h_t, axis=0, keepdims=True)\n",
    "\n",
    "    # このノートブックでは、dh_prevは実際には使われないが、BPTTの概念として計算しておく\n",
    "    dh_prev_for_bptt = np.dot(d_net_h_t, W_hh.T) \n",
    "    \n",
    "    grads_t = {\"W_xh\": dW_xh, \"W_hh\": dW_hh, \"b_h\": db_h, \n",
    "               \"W_hy\": dW_hy, \"b_y\": db_y}\n",
    "    \n",
    "    return grads_t # dh_prev_for_bpttは返さない"
   ]
  },
  {
   "cell_type": "markdown",
   "id": "6dc2bc08",
   "metadata": {},
   "source": [
    "### 4.7 パラメータ更新 (再掲)"
   ]
  },
  {
   "cell_type": "code",
   "execution_count": 10,
   "id": "1529ec18",
   "metadata": {},
   "outputs": [],
   "source": [
    "def update_srn_parameters(parameters, grads, learning_rate):\n",
    "    \"\"\" SGDでSRNのパラメータを更新 \"\"\"\n",
    "    for key in parameters.keys():\n",
    "        parameters[key] -= learning_rate * grads[key]\n",
    "    return parameters"
   ]
  },
  {
   "cell_type": "markdown",
   "id": "a353ec5b",
   "metadata": {},
   "source": [
    "## 5. 実験: Temporal XOR問題\n",
    "\n",
    "Elman(1990)の論文では、XOR問題の時間的バージョンでSRNの能力をデモンストレーションしています。\n",
    "入力は1ビットずつシーケンシャルに与えられ、ネットワークは次のビットを予測するタスクを学習します。\n",
    "\n",
    "**Temporal XORのルール:**\n",
    "入力シーケンス: `b1, b2, out, b3, b4, out, ...`\n",
    "ここで `out = b1 XOR b2`。\n",
    "ネットワークは、各時点で次のビットを予測します。\n",
    "*   `b1` を見た後、`b2` を予測 (50%の確率)\n",
    "*   `b2` を見た後、`out = b1 XOR b2` を予測 (100%の確率で予測可能であるべき)\n",
    "*   `out` を見た後、次の `b3` を予測 (50%の確率)"
   ]
  },
  {
   "cell_type": "markdown",
   "id": "09def5b6",
   "metadata": {},
   "source": [
    "### 5.1 データセットの生成"
   ]
  },
  {
   "cell_type": "code",
   "execution_count": null,
   "id": "510f1c98",
   "metadata": {},
   "outputs": [],
   "source": [
    "def generate_temporal_xor_data(num_sequences=100, noise=0.0):\n",
    "    \"\"\"\n",
    "    Temporal XORのシーケンスデータを生成する。\n",
    "    各シーケンスは [b1, b2, b1^b2, b3, b4, b3^b4, ...] となる。\n",
    "    入力Xはt番目のビット、出力Yはt+1番目のビットを予測。\n",
    "    Args:\n",
    "        num_sequences: 生成するXORパターンの繰り返し数\n",
    "    Returns:\n",
    "        tuple (X_data, Y_data)\n",
    "        X_data (np.array): (N, 1) 入力ビットのシーケンス\n",
    "        Y_data (np.array): (N, 1) 予測すべき次のビットのシーケンス\n",
    "    \"\"\"\n",
    "    full_sequence = []\n",
    "    for _ in range(num_sequences):\n",
    "        b1 = np.random.randint(0, 2)\n",
    "        b2 = np.random.randint(0, 2)\n",
    "        out = b1 ^ b2\n",
    "        full_sequence.extend([b1, b2, out])\n",
    "    \n",
    "    full_sequence = np.array(full_sequence, dtype=np.float32)\n",
    "    \n",
    "    # 入力Xはシーケンスそのもの (ただし最後の要素を除く)\n",
    "    # 出力Yは1ステップシフトしたシーケンス (最初の要素を除く)\n",
    "    X_data = full_sequence[:-1].reshape(-1, 1)\n",
    "    Y_data = full_sequence[1:].reshape(-1, 1)\n",
    "    \n",
    "    if noise > 0: # オプションでノイズ付加\n",
    "        X_data += np.random.normal(0, noise, X_data.shape)\n",
    "        # Y_data はノイズなし（ターゲットなので）\n",
    "        \n",
    "    return X_data, Y_data"
   ]
  },
  {
   "cell_type": "code",
   "execution_count": 12,
   "id": "5950d9e8",
   "metadata": {},
   "outputs": [
    {
     "name": "stdout",
     "output_type": "stream",
     "text": [
      "Temporal XORデータ X shape: (2999, 1)\n",
      "Temporal XORデータ Y shape: (2999, 1)\n",
      "最初の数サンプル:\n",
      "X[0]=1.0, Y[0] (target for X[0])=0.0\n",
      "X[1]=0.0, Y[1] (target for X[1])=1.0\n",
      "X[2]=1.0, Y[2] (target for X[2])=1.0\n",
      "X[3]=1.0, Y[3] (target for X[3])=1.0\n",
      "X[4]=1.0, Y[4] (target for X[4])=0.0\n",
      "X[5]=0.0, Y[5] (target for X[5])=1.0\n",
      "X[6]=1.0, Y[6] (target for X[6])=1.0\n",
      "X[7]=1.0, Y[7] (target for X[7])=0.0\n",
      "X[8]=0.0, Y[8] (target for X[8])=1.0\n"
     ]
    }
   ],
   "source": [
    "# データ生成\n",
    "X_temporal_xor, Y_temporal_xor = generate_temporal_xor_data(num_sequences=1000)\n",
    "print(\"Temporal XORデータ X shape:\", X_temporal_xor.shape) # (2999, 1)\n",
    "print(\"Temporal XORデータ Y shape:\", Y_temporal_xor.shape) # (2999, 1)\n",
    "print(\"最初の数サンプル:\")\n",
    "for i in range(9):\n",
    "    print(f\"X[{i}]={X_temporal_xor[i,0]}, Y[{i}] (target for X[{i}])={Y_temporal_xor[i,0]}\")\n",
    "\n",
    "# 例: X[0]=b1, Y[0]=b2\n",
    "#     X[1]=b2, Y[1]=out\n",
    "#     X[2]=out, Y[2]=b3 (次のXORの1番目のビット)"
   ]
  },
  {
   "cell_type": "markdown",
   "id": "4e98bd8f",
   "metadata": {},
   "source": [
    "### 5.2 SRNのオンライン学習ループ (Temporal XOR)\n",
    "\n",
    "Elman論文に倣い、各タイムステップで誤差を計算し、即座にパラメータを更新するオンライン学習的なアプローチで学習します。\n",
    "シーケンス全体を何回か繰り返して学習（エポック）します。"
   ]
  },
  {
   "cell_type": "code",
   "execution_count": 13,
   "id": "e77ea22c",
   "metadata": {},
   "outputs": [],
   "source": [
    "def train_srn_temporal_xor(X_seq, Y_seq, hidden_size, num_epochs=100, learning_rate=0.1, print_cost_every_epoch=10):\n",
    "    input_s = X_seq.shape[1]\n",
    "    output_s = Y_seq.shape[1]\n",
    "    sequence_len = X_seq.shape[0]\n",
    "    \n",
    "    parameters = initialize_srn_parameters(input_s, hidden_size, output_s)\n",
    "    \n",
    "    # 初期隠れ状態\n",
    "    h_prev = np.zeros((1, hidden_size))\n",
    "    \n",
    "    costs_per_epoch = []\n",
    "    \n",
    "    for epoch in range(num_epochs + 1):\n",
    "        epoch_cost = 0\n",
    "        h_prev_epoch_start = np.zeros((1, hidden_size)) # エポック開始時に隠れ状態リセット\n",
    "        h_prev_current_step = h_prev_epoch_start.copy()\n",
    "\n",
    "        predictions_epoch = [] # このエポックの予測を保存\n",
    "\n",
    "        for t in range(sequence_len):\n",
    "            xt = X_seq[t].reshape(1, -1)\n",
    "            yt_true = Y_seq[t].reshape(1, -1)\n",
    "            \n",
    "            # 順伝播 (1ステップ)\n",
    "            yt_hat, ht_current, cache_t = srn_forward_step(xt, h_prev_current_step, parameters)\n",
    "            predictions_epoch.append(yt_hat.item())\n",
    "            \n",
    "            # 損失 (このタイムステップのMSEの主要部)\n",
    "            error_t = yt_hat - yt_true # dL/dy_hat_t for L = 0.5 * (y_hat - y_true)^2\n",
    "            cost_t = 0.5 * np.sum(error_t**2)\n",
    "            epoch_cost += cost_t\n",
    "            \n",
    "            # 逆伝播 (1ステップ、オンライン版)\n",
    "            grads_t = srn_backward_step_simplified(error_t, cache_t, parameters)\n",
    "            \n",
    "            # パラメータ更新\n",
    "            parameters = update_srn_parameters(parameters, grads_t, learning_rate)\n",
    "            \n",
    "            # 次のステップのために隠れ状態を更新\n",
    "            h_prev_current_step = ht_current\n",
    "            \n",
    "        avg_epoch_cost = epoch_cost / sequence_len\n",
    "        costs_per_epoch.append(avg_epoch_cost)\n",
    "        \n",
    "        if epoch % print_cost_every_epoch == 0:\n",
    "            print(f\"Epoch {epoch}, Average Cost (MSE-like): {avg_epoch_cost:.6f}\")\n",
    "            # 予測が正しいかどうかの簡単なチェック (3ステップ目がXOR結果)\n",
    "            correct_xor_predictions = 0\n",
    "            total_xor_ops = 0\n",
    "            for i in range(2, sequence_len, 3): # 3ステップ目がXORの出力のはず\n",
    "                # X[i-2] が b1, X[i-1] が b2, Y[i-1] が out = b1^b2\n",
    "                # ネットワークは Y_hat[i-1] で out を予測する\n",
    "                b1 = X_seq[i-2, 0]\n",
    "                b2 = X_seq[i-1, 0]\n",
    "                expected_xor_out = b1_int ^ b2_int if (b1_int:=int(b1)) == b1 and (b2_int:=int(b2)) == b2 else -1 # 整数のみ\n",
    "                \n",
    "                if expected_xor_out != -1:\n",
    "                    predicted_out_for_b2 = predictions_epoch[i-1] # Y_hat[i-1] (X[i-1]=b2の時の予測)\n",
    "                    total_xor_ops +=1\n",
    "                    if np.round(predicted_out_for_b2) == expected_xor_out:\n",
    "                        correct_xor_predictions +=1\n",
    "            if total_xor_ops > 0:\n",
    "                 print(f\"  XOR prediction accuracy on this epoch (approx): {100*correct_xor_predictions/total_xor_ops:.2f}%\")\n",
    "\n",
    "\n",
    "    return parameters, costs_per_epoch"
   ]
  },
  {
   "cell_type": "code",
   "execution_count": 17,
   "id": "c7620c55",
   "metadata": {},
   "outputs": [
    {
     "name": "stdout",
     "output_type": "stream",
     "text": [
      "\n",
      "SRN 学習開始 (Temporal XORデータ, 2 hidden units)...\n",
      "Epoch 0, Average Cost (MSE-like): 0.125271\n",
      "  XOR prediction accuracy on this epoch (approx): 51.05%\n",
      "Epoch 120, Average Cost (MSE-like): 0.125023\n",
      "  XOR prediction accuracy on this epoch (approx): 53.05%\n",
      "Epoch 240, Average Cost (MSE-like): 0.123794\n",
      "  XOR prediction accuracy on this epoch (approx): 54.95%\n",
      "Epoch 360, Average Cost (MSE-like): 0.114912\n",
      "  XOR prediction accuracy on this epoch (approx): 91.09%\n",
      "Epoch 480, Average Cost (MSE-like): 0.113699\n",
      "  XOR prediction accuracy on this epoch (approx): 92.29%\n",
      "Epoch 600, Average Cost (MSE-like): 0.113272\n",
      "  XOR prediction accuracy on this epoch (approx): 92.69%\n",
      "Epoch 720, Average Cost (MSE-like): 0.114235\n",
      "  XOR prediction accuracy on this epoch (approx): 88.09%\n",
      "Epoch 840, Average Cost (MSE-like): 0.114434\n",
      "  XOR prediction accuracy on this epoch (approx): 89.39%\n",
      "Epoch 960, Average Cost (MSE-like): 0.115490\n",
      "  XOR prediction accuracy on this epoch (approx): 85.59%\n",
      "Epoch 1080, Average Cost (MSE-like): 0.113989\n",
      "  XOR prediction accuracy on this epoch (approx): 88.39%\n",
      "Epoch 1200, Average Cost (MSE-like): 0.114760\n",
      "  XOR prediction accuracy on this epoch (approx): 86.89%\n"
     ]
    },
    {
     "data": {
      "image/png": "[encoded data removed]",
      "text/plain": [
       "<Figure size 400x300 with 1 Axes>"
      ]
     },
     "metadata": {},
     "output_type": "display_data"
    }
   ],
   "source": [
    "# 学習の実行\n",
    "hidden_dim_srn_xor = 2 # Elman論文のXORでは2隠れユニット\n",
    "epochs_xor = 1200 # 論文では600パスなど\n",
    "lr_xor = 0.05\n",
    "\n",
    "print(f\"\\nSRN 学習開始 (Temporal XORデータ, {hidden_dim_srn_xor} hidden units)...\")\n",
    "trained_params_srn_xor, costs_srn_xor = train_srn_temporal_xor(\n",
    "    X_temporal_xor, Y_temporal_xor, \n",
    "    hidden_size=hidden_dim_srn_xor, \n",
    "    num_epochs=epochs_xor, \n",
    "    learning_rate=lr_xor,\n",
    "    print_cost_every_epoch = epochs_xor // 10\n",
    ")\n",
    "\n",
    "# 学習曲線のプロット\n",
    "plt.figure(figsize=(4,3))\n",
    "plt.plot(costs_srn_xor)\n",
    "plt.xlabel(\"Epochs\")\n",
    "plt.ylabel(\"Average Cost (MSE-like per epoch)\")\n",
    "plt.title(f\"SRN Learning Curve (Temporal XOR, {hidden_dim_srn_xor} hidden units)\")\n",
    "plt.grid(True)\n",
    "plt.show()"
   ]
  },
  {
   "cell_type": "code",
   "execution_count": 18,
   "id": "6208aed5",
   "metadata": {},
   "outputs": [
    {
     "name": "stdout",
     "output_type": "stream",
     "text": [
      "\n",
      "予測可能ポイント(XOR出力)での平均RMSE: 0.3895\n",
      "予測困難ポイント1(b2)での平均RMSE: 0.5204\n",
      "予測困難ポイント2(次のb1)での平均RMSE: 0.5158\n"
     ]
    },
    {
     "data": {
      "image/png": "[encoded data removed]",
      "text/plain": [
       "<Figure size 500x300 with 1 Axes>"
      ]
     },
     "metadata": {},
     "output_type": "display_data"
    }
   ],
   "source": [
    "# 学習済みモデルで予測シーケンスを生成\n",
    "Y_hat_final_xor, _, _ = srn_forward(X_temporal_xor, np.zeros((1, hidden_dim_srn_xor)), trained_params_srn_xor)\n",
    "\n",
    "# 論文Figure 3のようなエラープロット (3ステップごとのRMSE)\n",
    "errors_at_predictable_points = []\n",
    "errors_at_unpredictable_points1 = [] # b1を見た後b2を予測\n",
    "errors_at_unpredictable_points2 = [] # outを見た後b_next1を予測\n",
    "\n",
    "for t in range(len(Y_temporal_xor)):\n",
    "    true_val = Y_temporal_xor[t,0]\n",
    "    pred_val = Y_hat_final_xor[t,0]\n",
    "    error_sq = (true_val - pred_val)**2\n",
    "    \n",
    "    # t は Y_temporal_xor のインデックス。\n",
    "    # Y_temporal_xor[t] は X_temporal_xor[t] の次のビット\n",
    "    # t % 3 == 0  -> X[t]はb1, Y[t]はb2 (予測困難)\n",
    "    # t % 3 == 1  -> X[t]はb2, Y[t]はout (予測可能)\n",
    "    # t % 3 == 2  -> X[t]はout,Y[t]はb_next1 (予測困難)\n",
    "    \n",
    "    if t % 3 == 0: # b2を予測\n",
    "        errors_at_unpredictable_points1.append(error_sq)\n",
    "    elif t % 3 == 1: # out = b1^b2 を予測\n",
    "        errors_at_predictable_points.append(error_sq)\n",
    "    elif t % 3 == 2: # 次のb1を予測\n",
    "        errors_at_unpredictable_points2.append(error_sq)\n",
    "\n",
    "print(f\"\\n予測可能ポイント(XOR出力)での平均RMSE: {np.sqrt(np.mean(errors_at_predictable_points)):.4f}\")\n",
    "print(f\"予測困難ポイント1(b2)での平均RMSE: {np.sqrt(np.mean(errors_at_unpredictable_points1)):.4f}\")\n",
    "print(f\"予測困難ポイント2(次のb1)での平均RMSE: {np.sqrt(np.mean(errors_at_unpredictable_points2)):.4f}\")\n",
    "\n",
    "# 論文Figure 3に似たプロット (12サイクル分のRMSE)\n",
    "# 1サイクル = 3ビット (b1, b2, out)\n",
    "# 12サイクル = 36ビット\n",
    "if len(Y_temporal_xor) >= 36:\n",
    "    errors_per_step = (Y_temporal_xor[:36,0] - Y_hat_final_xor[:36,0])**2\n",
    "    rmse_per_step = np.sqrt(errors_per_step)\n",
    "    \n",
    "    plt.figure(figsize=(5,3))\n",
    "    plt.plot(range(1,37), rmse_per_step, marker='o', linestyle='-')\n",
    "    # 3ステップごとにエラーが小さくなるはずのポイントに印\n",
    "    predictable_indices = [i for i in range(2,36,3)] # 2, 5, 8, ... (0-indexedなら 1, 4, 7)\n",
    "    plt.plot(np.array(predictable_indices)+1, rmse_per_step[predictable_indices], 'ro', label='Predictable (XOR out)')\n",
    "\n",
    "    plt.xticks(np.arange(0, 37, 3))\n",
    "    plt.xlabel(\"Time Step in Sequence (12 XOR cycles)\")\n",
    "    plt.ylabel(\"Root Mean Squared Error (per step)\")\n",
    "    plt.title(\"SRN Error on Temporal XOR (Similar to Elman 1990, Fig. 3)\")\n",
    "    plt.grid(True)\n",
    "    plt.legend()\n",
    "    plt.ylim(0, np.max(rmse_per_step)*1.1 if np.max(rmse_per_step) > 0 else 1.0)\n",
    "    plt.show()"
   ]
  },
  {
   "cell_type": "markdown",
   "id": "da323aa0",
   "metadata": {},
   "source": [
    "## 6. 考察\n",
    "\n",
    "*   **SRNの能力:**\n",
    "    *   単純なTemporal XOR問題において、SRNは時間的な依存関係を学習し、予測可能なポイント（XORの出力）では比較的低い誤差で次のビットを予測できることが期待されます。Elman(1990)のFigure 3では、この予測可能なタイミングで誤差が周期的に低下する様子が示されています。\n",
    "    *   隠れ層の活性化（コンテキスト層を通じてフィードバックされる）が、過去の入力の情報を保持し、現在の予測に利用される「短期記憶」として機能します。論文では、この隠れ層の活性化パターンが入力シーケンスの構造（例: 単語のカテゴリなど）を反映する内部表現を形成することが示されています。\n",
    "\n",
    "*   **BPTTの重要性と複雑性:**\n",
    "    *   今回の実装では、各タイムステップの誤差のみに基づいてパラメータを更新するオンライン学習的なアプローチ（Truncated BPTTで展開ステップ1に相当、またはElman論文の記述に近い逐次更新）を試みました。\n",
    "    *   より正確に長期的な依存関係を学習するためには、シーケンス全体または一定期間（Truncation Depth）にわたって誤差を逆伝播させる完全なBPTTが必要です。しかし、BPTTは計算コストが高く、また勾配消失・爆発の問題も発生しやすいため、実装と学習がより複雑になります。\n",
    "    *   LSTMやGRUといったゲート付きRNNは、このBPTTにおける勾配消失・爆発問題を緩和するために設計されました。\n",
    "\n",
    "*   **このスクラッチ実装から得られる学び:**\n",
    "    *   リカレント接続がどのようにしてネットワークに「状態」や「記憶」の概念をもたらすか。\n",
    "    *   時間軸に沿った情報処理と、その学習の難しさ（特に長期依存性）。\n",
    "    *   より高度なRNNアーキテクチャ（LSTM, GRU）や、Transformerのような非RNNベースのシーケンスモデルの必要性への理解。\n",
    "\n",
    "このSRNの実装は、リカレントニューラルネットワークの基本的な動作原理を理解するための第一歩です。次の段階では、LSTMやGRUといったより強力なRNNセルや、完全なBPTTの概念、そしてPyTorchのようなフレームワークでの効率的な実装に進むことになるでしょう。"
   ]
  }
 ],
 "metadata": {
  "kernelspec": {
   "display_name": "base",
   "language": "python",
   "name": "python3"
  },
  "language_info": {
   "codemirror_mode": {
    "name": "ipython",
    "version": 3
   },
   "file_extension": ".py",
   "mimetype": "text/x-python",
   "name": "python",
   "nbconvert_exporter": "python",
   "pygments_lexer": "ipython3",
   "version": "3.12.7"
  }
 },
 "nbformat": 4,
 "nbformat_minor": 5
}
