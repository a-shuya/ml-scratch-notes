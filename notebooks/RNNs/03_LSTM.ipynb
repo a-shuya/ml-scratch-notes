{
 "cells": [
  {
   "cell_type": "markdown",
   "id": "e81c9bee",
   "metadata": {},
   "source": [
    "# LSTM (Long Short-Term Memory) の実装\n",
    "\n",
    "このノートブックでは、リカレントニューラルネットワーク（RNN）の重要なバリエーションであるLong Short-Term Memory (LSTM) のアーキテクチャと動作原理を学びます。\n",
    "まず、単純なRNNが抱える長期依存性の問題を概観し、次にLSTMがその問題をどのように解決しようとしているのか、その中核となるゲート機構とセル状態について解説します。\n",
    "NumPyを使ってLSTMセルの主要な計算ステップを実装し、その後PyTorchの`nn.LSTM`モジュールを使ってより簡単にLSTMモデルを構築し、学習させる方法を示します。\n",
    "\n",
    "**参考論文:**\n",
    "*   Hochreiter, S., & Schmidhuber, J. (1997). Long short-term memory. *Neural computation*, 9(8), 1735-1780.\n",
    "*   Werbos, P. J. (1990). Backpropagation through time: what it does and how to do it. *Proceedings of the IEEE*, 78(10), 1550-1560. (BPTTの背景として)\n",
    "\n",
    "**このノートブックで学ぶこと:**\n",
    "1.  単純なRNNにおける長期依存性学習の課題（勾配消失・爆発問題）。\n",
    "2.  LSTMのアーキテクチャ：セル状態、忘却ゲート、入力ゲート、出力ゲート。\n",
    "3.  NumPyによるLSTMセルの順伝播計算の実装。\n",
    "4.  PyTorchの `nn.LSTM` モジュールを使ったLSTMモデルの実装。\n",
    "5.  簡単なシーケンス予測タスクでの学習と評価。\n",
    "\n",
    "**前提知識:**\n",
    "*   Simple Recurrent Network (SRN) とBPTTの基本的な理解（前のノートブック）。\n",
    "*   PyTorchの基本的な使い方。"
   ]
  },
  {
   "cell_type": "markdown",
   "id": "db342a6f",
   "metadata": {},
   "source": [
    " ## 1. 必要なライブラリのインポート"
   ]
  },
  {
   "cell_type": "code",
   "execution_count": 52,
   "id": "42bf523d",
   "metadata": {},
   "outputs": [
    {
     "name": "stdout",
     "output_type": "stream",
     "text": [
      "NumPy Version: 1.26.4\n",
      "PyTorch Version: 2.7.0+cpu\n",
      "Using device: cpu\n"
     ]
    }
   ],
   "source": [
    "import numpy as np\n",
    "import matplotlib.pyplot as plt\n",
    "import torch\n",
    "import torch.nn as nn\n",
    "import torch.optim as optim\n",
    "\n",
    "print(f\"NumPy Version: {np.__version__}\")\n",
    "print(f\"PyTorch Version: {torch.__version__}\")\n",
    "device = torch.device(\"cuda\" if torch.cuda.is_available() else \"cpu\")\n",
    "print(f\"Using device: {device}\")"
   ]
  },
  {
   "cell_type": "markdown",
   "id": "033139cf",
   "metadata": {},
   "source": [
    "## 2. 単純なRNNの課題: 長期依存性と勾配問題\n",
    "\n",
    "前のノートブックでSRNとBPTTについて学びました。SRNは理論上、任意の長さのシーケンス情報を扱える可能性がありますが、実際には**長期依存性 (long-term dependencies)** の学習が非常に困難です。これは主に、BPTTにおける**勾配消失 (vanishing gradient)** または**勾配爆発 (exploding gradient)** 問題に起因します。\n",
    "\n",
    "*   **勾配消失:** 時間を遡って勾配を伝播させる際、活性化関数の微分値（SigmoidやTanhでは1未満になることが多い）やリカレント重みが繰り返し乗算されるため、勾配が指数関数的に小さくなり、過去の遠い情報が現在の学習にほとんど影響を与えなくなる問題。\n",
    "*   **勾配爆発:** 逆に、リカレント重みが大きい場合などに勾配が指数関数的に増大し、学習が不安定になる問題（これは勾配クリッピングである程度対処可能）。\n",
    "\n",
    "これらの問題のため、単純なRNNは数ステップ程度の短い依存関係しか捉えられないことが多いです。"
   ]
  },
  {
   "cell_type": "markdown",
   "id": "c33e5243",
   "metadata": {},
   "source": [
    "## 3. LSTM (Long Short-Term Memory) の導入\n",
    "\n",
    "LSTMは、HochreiterとSchmidhuber (1997) によって、この長期依存性問題を解決するために提案されたRNNの改良版です。その核心は、**セル状態 (cell state)** と呼ばれる情報を長期的に保持するための経路と、その情報の流れを制御するための3つの**ゲート (gate)** 機構にあります。"
   ]
  },
  {
   "cell_type": "markdown",
   "id": "ad36e507",
   "metadata": {},
   "source": [
    "### 3.1 LSTMセルの構造\n",
    "\n",
    "LSTMセルは、時刻 $t$ において以下の主要なコンポーネントを持ちます。\n",
    "\n",
    "*   **入力 ($x_t$):** 時刻 $t$ の外部入力。\n",
    "*   **前時刻の隠れ状態 ($h_{t-1}$):** 1つ前のLSTMセルからの出力（短期記憶）。\n",
    "*   **前時刻のセル状態 ($C_{t-1}$):** 1つ前のLSTMセルから引き継がれる長期記憶。\n",
    "*   **忘却ゲート ($f_t$):** 前時刻のセル状態 $C_{t-1}$ からどの情報を「忘れる」かを決定します。\n",
    "*   **入力ゲート ($i_t$):** 新しい入力 $x_t$ と前時刻の隠れ状態 $h_{t-1}$ から、どの新しい情報を現在のセル状態に追加するかを決定します。\n",
    "*   **候補セル状態 ($\\tilde{C}_t$):** 入力ゲートによって選別される前の、新しい情報の候補。\n",
    "*   **出力ゲート ($o_t$):** 更新されたセル状態 $C_t$ から、どの情報を隠れ状態 $h_t$ として出力するかを決定します。\n",
    "*   **現時刻のセル状態 ($C_t$):** 忘却ゲートと入力ゲートによって更新された長期記憶。\n",
    "*   **現時刻の隠れ状態 ($h_t$):** LSTMセルの出力であり、次のセルへの短期記憶として渡されます。"
   ]
  },
  {
   "cell_type": "markdown",
   "id": "75ecccd7",
   "metadata": {},
   "source": [
    "### 3.2 LSTMセルの計算ステップ (順伝播)\n",
    "\n",
    "時刻 $t$ におけるLSTMセルの計算は、以下のステップで行われます（$\\sigma$ はSigmoid関数、$\\tanh$ はハイパボリックタンジェント関数）。\n",
    "\n",
    "1.  **忘却ゲート ($f_t$):**  \n",
    "    $f_t = \\sigma(W_f \\cdot [h_{t-1}, x_t] + b_f)$  \n",
    "    このゲートは、$h_{t-1}$ と $x_t$ を結合したものに入力を受け、0から1の間の値を出力します。1に近いほど情報を保持し、0に近いほど情報を忘れます。\n",
    "\n",
    "2.  **入力ゲート ($i_t$) と候補セル状態 ($\\tilde{C}_t$):**  \n",
    "    $i_t = \\sigma(W_i \\cdot [h_{t-1}, x_t] + b_i)$  \n",
    "    $\\tilde{C}_t = \\tanh(W_C \\cdot [h_{t-1}, x_t] + b_C)$  \n",
    "    入力ゲート $i_t$ は、どの新しい情報をセル状態に更新するかを決定します。候補セル状態 $\\tilde{C}_t$ は、新しい情報の候補を生成します。\n",
    "\n",
    "3.  **セル状態の更新 ($C_t$):**  \n",
    "    $C_t = f_t \\odot C_{t-1} + i_t \\odot \\tilde{C}_t$  \n",
    "    ここで $\\odot$ は要素ごとの積（アダマール積）です。  \n",
    "    *   $f_t \\odot C_{t-1}$: 前のセル状態から忘却ゲートによって選ばれた情報を保持。\n",
    "    *   $i_t \\odot \\tilde{C}_t$: 入力ゲートと候補セル状態から、新しい情報をスケーリングして追加。\n",
    "    このセル状態 $C_t$ は、比較的変化が少なく、情報が長期にわたり保持されやすい構造になっています。これがLSTMの「コンスタントエラーカルーセル(CEC)」の核となる部分です。\n",
    "\n",
    "4.  **出力ゲート ($o_t$) と隠れ状態の更新 ($h_t$):**  \n",
    "    $o_t = \\sigma(W_o \\cdot [h_{t-1}, x_t] + b_o)$  \n",
    "    $h_t = o_t \\odot \\tanh(C_t)$  \n",
    "    出力ゲート $o_t$ は、更新されたセル状態 $C_t$ のうち、どの部分を隠れ状態 $h_t$ として出力するかを決定します。セル状態 $C_t$ は $\\tanh$ を通して (-1, 1) の範囲に調整されてから、出力ゲートによってフィルタリングされます。\n",
    "\n",
    "**パラメータ:**\n",
    "LSTMセルの学習可能なパラメータは、各ゲートと候補セル状態の計算に使われる重み行列 ($W_f, W_i, W_C, W_o$) とバイアスベクトル ($b_f, b_i, b_C, b_o$) です。\n",
    "\n",
    "**なぜLSTMは長期依存性を捉えやすいのか？**\n",
    "*   **セル状態:** 比較的単純な線形的な相互作用（加算と要素ごとの積）で更新されるため、勾配が消えたり爆発したりしにくい。\n",
    "*   **ゲート機構:** 必要な情報だけを選択的に通し、不要な情報を遮断することで、勾配の流れを効果的に制御します。これにより、BPTT時にエラーが過去のタイムステップまでうまく伝播しやすくなります。"
   ]
  },
  {
   "cell_type": "markdown",
   "id": "e6052215",
   "metadata": {},
   "source": [
    "## 4. NumPyによるLSTMセルの主要コンポーネント実装 (順伝播)\n",
    "LSTMセルの1タイムステップ分の順伝播をNumPyで実装してみましょう。"
   ]
  },
  {
   "cell_type": "code",
   "execution_count": 53,
   "id": "26fd7f0e",
   "metadata": {},
   "outputs": [],
   "source": [
    "# 活性化関数\n",
    "def sigmoid(x): # LSTMのゲートではSigmoidが使われる\n",
    "    return 1 / (1 + np.exp(-x))\n",
    "\n",
    "def tanh(x): # セル状態の候補値や出力ではtanhが使われる\n",
    "    return np.tanh(x)"
   ]
  },
  {
   "cell_type": "code",
   "execution_count": 54,
   "id": "dc5e4fb9",
   "metadata": {},
   "outputs": [],
   "source": [
    "def initialize_lstm_parameters(input_size, hidden_size, random_seed=42):\n",
    "    '''LSTMのパラメータを初期化する関数'''\n",
    "    if random_seed is not None:\n",
    "        np.random.seed(random_seed)\n",
    "\n",
    "    # 各ゲートとセル候補地の重みとバイアス\n",
    "    # 入力xと前時刻の隠れ状態hを結合したもののサイズ\n",
    "    concat_size = input_size + hidden_size\n",
    "\n",
    "    # 忘却ゲート\n",
    "    Wf = np.random.randn(concat_size, hidden_size) * 0.01\n",
    "    bf = np.zeros((1, hidden_size))\n",
    "\n",
    "    # 入力ゲート\n",
    "    Wi = np.random.randn(concat_size, hidden_size) * 0.01\n",
    "    bi = np.zeros((1, hidden_size))\n",
    "\n",
    "    # セル状態の候補値\n",
    "    Wc = np.random.randn(concat_size, hidden_size) * 0.01\n",
    "    bc = np.zeros((1, hidden_size))\n",
    "\n",
    "    # 出力ゲート\n",
    "    Wo = np.random.randn(concat_size, hidden_size) * 0.01\n",
    "    bo = np.zeros((1, hidden_size))\n",
    "\n",
    "    parameters = {\n",
    "        'Wf': Wf, 'bf': bf,\n",
    "        'Wi': Wi, 'bi': bi,\n",
    "        'Wc': Wc, 'bc': bc,\n",
    "        'Wo': Wo, 'bo': bo\n",
    "    }\n",
    "\n",
    "    return parameters"
   ]
  },
  {
   "cell_type": "code",
   "execution_count": 55,
   "id": "d5a8f0de",
   "metadata": {},
   "outputs": [],
   "source": [
    "def lstm_forward_step(xt, h_prev, C_prev, parameters):\n",
    "    '''\n",
    "    LSTMセルの1タイムステップ分の順伝播\n",
    "    Parameters:\n",
    "        xt: 入力データ (1, input_size)\n",
    "        h_prev: 前時刻の隠れ状態 (1, hidden_size)\n",
    "        C_prev: 前時刻のセル状態 (1, hidden_size)\n",
    "        parameters: LSTMのパラメータ\n",
    "    Returns:\n",
    "        tuple: (ht, Ct, cache_t)\n",
    "            ht: 現在の隠れ状態\n",
    "            Ct: 現在のセル状態\n",
    "            cache_t: キャッシュ\n",
    "    '''\n",
    "    Wf, bf =parameters['Wf'], parameters['bf']\n",
    "    Wi, bi = parameters['Wi'], parameters['bi']\n",
    "    Wc, bc = parameters['Wc'], parameters['bc']\n",
    "    Wo, bo = parameters['Wo'], parameters['bo']\n",
    "\n",
    "    if xt.ndim == 1: xt = xt.reshape(1, -1)\n",
    "    if h_prev.ndim == 1: h_prev = h_prev.reshape(1, -1)\n",
    "    if C_prev.ndim == 1: C_prev = C_prev.reshape(1, -1)\n",
    "\n",
    "    # xtとh_prevを結合\n",
    "    concat_input = np.concatenate((xt, h_prev), axis=1)\n",
    "\n",
    "    # 忘却ゲートの計算\n",
    "    ft = sigmoid(np.dot(concat_input, Wf) + bf)\n",
    "\n",
    "    # 入力ゲートの計算\n",
    "    it = sigmoid(np.dot(concat_input, Wi) + bi)\n",
    "    # 候補セル状態の計算\n",
    "    C_tilde_t = tanh(np.dot(concat_input, Wc) + bc)\n",
    "\n",
    "    # 現時刻のセル状態の計算\n",
    "    Ct = ft * C_prev + it * C_tilde_t\n",
    "\n",
    "    # 出力ゲートの計算\n",
    "    ot = sigmoid(np.dot(concat_input, Wo) + bo)\n",
    "    # 現時刻の隠れ状態の計算\n",
    "    ht = ot * tanh(Ct)\n",
    "\n",
    "    cache_t = {\n",
    "        'xt': xt, 'h_prev': h_prev, 'C_prev': C_prev,\n",
    "        'ft': ft, 'it': it, 'C_tilde_t': C_tilde_t, \n",
    "        'ot': ot, 'Ct': Ct, 'ht': ht, 'concat_input': concat_input\n",
    "    }\n",
    "\n",
    "    return ht, Ct, cache_t"
   ]
  },
  {
   "cell_type": "code",
   "execution_count": 56,
   "id": "f2c14b9a",
   "metadata": {},
   "outputs": [
    {
     "name": "stdout",
     "output_type": "stream",
     "text": [
      "xt_lstm_test shape: (1, 3)\n",
      "h_prev_lstm_test shape: (1, 5)\n",
      "C_prev_lstm_test shape: (1, 5)\n",
      "\n",
      "ht_lstm (現隠れ状態) shape: (1, 5)\n",
      "Ct_lstm (現セル状態) shape: (1, 5)\n",
      "\n",
      "ft (忘却ゲート):\n",
      " [[0.51157458 0.51101526 0.48924289 0.48865613 0.49247049]]\n",
      "it (入力ゲート):\n",
      " [[0.50011454 0.50562898 0.49470875 0.50539155 0.5000879 ]]\n",
      "ot (出力ゲート):\n",
      " [[0.49385873 0.50896184 0.50228891 0.51041078 0.50563343]]\n"
     ]
    }
   ],
   "source": [
    "# テスト\n",
    "input_dim_lstm = 3\n",
    "hidden_dim_lstm = 5 # LSTMセルの隠れ状態/セル状態の次元\n",
    "params_lstm = initialize_lstm_parameters(input_dim_lstm, hidden_dim_lstm, random_seed=10)\n",
    "\n",
    "xt_lstm_test = np.random.randn(1, input_dim_lstm)\n",
    "h_prev_lstm_test = np.random.randn(1, hidden_dim_lstm)\n",
    "C_prev_lstm_test = np.random.randn(1, hidden_dim_lstm)\n",
    "\n",
    "ht_lstm, Ct_lstm, cache_lstm_t = lstm_forward_step(xt_lstm_test, h_prev_lstm_test, C_prev_lstm_test, params_lstm)\n",
    "\n",
    "print(\"xt_lstm_test shape:\", xt_lstm_test.shape)\n",
    "print(\"h_prev_lstm_test shape:\", h_prev_lstm_test.shape)\n",
    "print(\"C_prev_lstm_test shape:\", C_prev_lstm_test.shape)\n",
    "print(\"\\nht_lstm (現隠れ状態) shape:\", ht_lstm.shape)\n",
    "print(\"Ct_lstm (現セル状態) shape:\", Ct_lstm.shape)\n",
    "print(\"\\nft (忘却ゲート):\\n\", cache_lstm_t[\"ft\"])\n",
    "print(\"it (入力ゲート):\\n\", cache_lstm_t[\"it\"])\n",
    "print(\"ot (出力ゲート):\\n\", cache_lstm_t[\"ot\"])"
   ]
  },
  {
   "cell_type": "markdown",
   "id": "e08013e3",
   "metadata": {},
   "source": [
    "**BPTT for LSTM:**\n",
    "LSTMのBPTTは、SRNのBPTTよりもさらに複雑になります。各ゲートとセル状態の更新式それぞれに対して連鎖律を適用し、過去に遡って勾配を計算する必要があります。特に、セル状態 $C_t$ の更新式 $C_t = f_t \\odot C_{t-1} + i_t \\odot \\tilde{C}_t$ が加算的であるため、勾配が比較的減衰しにくい（または爆発しにくい）経路が生まれます。これがLSTMが長期依存性を捉えやすい理由の一つです。\n",
    "NumPyでの完全なBPTT実装は非常に長く複雑になるため、ここでは省略し、PyTorchの自動微分に任せます。"
   ]
  },
  {
   "cell_type": "markdown",
   "id": "8b5b4459",
   "metadata": {},
   "source": [
    "## 5. PyTorchによるLSTMの実装と学習\n",
    "\n",
    "PyTorchでは、`nn.LSTM` モジュールを使ってLSTM層を簡単に利用できます。\n",
    "BPTTは自動微分機能 (`autograd`) によって自動的に処理されます。\n",
    "\n",
    "### 5.1 PyTorch `nn.LSTM` の使い方\n",
    "`nn.LSTM` は、基本的なインターフェースは `nn.RNN` と似ていますが、隠れ状態に加えてセル状態も扱います。\n",
    "\n",
    "*   **`nn.LSTM` の初期化:**\n",
    "    `lstm_layer = nn.LSTM(input_size, hidden_size, num_layers, batch_first=True)`\n",
    "    *   引数は`nn.RNN`とほぼ同じですが、`nonlinearity`引数はありません（LSTM内部の活性化関数は固定）。\n",
    "\n",
    "*   **順伝播:**\n",
    "    `outputs, (h_n, C_n) = lstm_layer(input_sequence, (h_initial, C_initial))`\n",
    "    *   `input_sequence`: 形状 `(batch_size, seq_length, input_size)` の入力テンソル。\n",
    "    *   `(h_initial, C_initial)` (オプション):\n",
    "        *   `h_initial`: 形状 `(num_layers, batch_size, hidden_size)` の初期隠れ状態。\n",
    "        *   `C_initial`: 形状 `(num_layers, batch_size, hidden_size)` の初期セル状態。\n",
    "        指定しない場合はゼロベクトルで初期化されます。\n",
    "    *   `outputs`: 形状 `(batch_size, seq_length, hidden_size)` の、各タイムステップにおける最後のLSTM層の**隠れ状態 ($h_t$)** の出力。\n",
    "    *   `h_n`: 形状 `(num_layers, batch_size, hidden_size)` の、シーケンス全体の最後のタイムステップにおける隠れ状態。\n",
    "    *   `C_n`: 形状 `(num_layers, batch_size, hidden_size)` の、シーケンス全体の最後のタイムステップにおけるセル状態。"
   ]
  },
  {
   "cell_type": "code",
   "execution_count": 57,
   "id": "c1092e14",
   "metadata": {},
   "outputs": [],
   "source": [
    "class SimpleLSTM(nn.Module):\n",
    "    def __init__(self, input_size, hidden_size, output_size, num_layers=1):\n",
    "        super(SimpleLSTM, self).__init__()\n",
    "        self.hidden_size = hidden_size\n",
    "        self.num_layers = num_layers\n",
    "\n",
    "        self.lstm = nn.LSTM(input_size, hidden_size, num_layers, batch_first=True)\n",
    "        self.fc = nn.Linear(hidden_size, output_size)\n",
    "        # 今回は回帰タスクを想定するので出力層の活性化はなし\n",
    "        # 分類ならnn.Softmax()やnn.Sigmoid()を使う\n",
    "\n",
    "    def forward(self, x, hc0=None): # hc0は（h0, c0）のタプル\n",
    "        # xの形状は (batch_size, seq_len, input_size)\n",
    "        # hcの形状は ((num_layers, batch_size, hidden_size), (num_layers, batch_size, hidden_size))\n",
    "\n",
    "        if hc0 is None:\n",
    "            h0 = torch.zeros(self.num_layers, x.size(0), self.hidden_size).to(x.device)\n",
    "            c0 = torch.zeros(self.num_layers, x.size(0), self.hidden_size).to(x.device)\n",
    "            hc0 = (h0, c0)\n",
    "\n",
    "        # LSTM層からの出力\n",
    "        out, (hn, cn) = self.lstm(x, hc0)\n",
    "\n",
    "        # 全結合層を各タイムステップの出力に適用\n",
    "        y_pred = self.fc(out.contiguous().view(-1, self.hidden_size))\n",
    "\n",
    "        # y_predの形状を (batch_size, seq_len, output_size) に戻す\n",
    "        y_pred = y_pred.view(x.size(0), x.size(1), -1)\n",
    "\n",
    "        return y_pred, (hn, cn)"
   ]
  },
  {
   "cell_type": "code",
   "execution_count": 58,
   "id": "ffec6148",
   "metadata": {},
   "outputs": [
    {
     "name": "stdout",
     "output_type": "stream",
     "text": [
      "PyTorch SimpleLSTM Model:\n",
      " SimpleLSTM(\n",
      "  (lstm): LSTM(1, 10, batch_first=True)\n",
      "  (fc): Linear(in_features=10, out_features=1, bias=True)\n",
      ")\n",
      "\n",
      "PyTorch LSTM Dummy Input Shape: torch.Size([5, 10, 1])\n",
      "PyTorch LSTM Dummy Output Seq Shape: torch.Size([5, 10, 1])\n",
      "PyTorch LSTM Dummy Last Hidden Shape: torch.Size([1, 5, 10])\n",
      "PyTorch LSTM Dummy Last Cell State Shape: torch.Size([1, 5, 10])\n"
     ]
    }
   ],
   "source": [
    "# テスト\n",
    "input_dim_pt_lstm = 1\n",
    "hidden_dim_pt_lstm = 10 # SRNより少し多めに\n",
    "output_dim_pt_lstm = 1\n",
    "num_lstm_layers_pt = 1\n",
    "\n",
    "model_pt_lstm = SimpleLSTM(input_dim_pt_lstm, hidden_dim_pt_lstm, output_dim_pt_lstm, num_lstm_layers_pt).to(device)\n",
    "print(\"PyTorch SimpleLSTM Model:\\n\", model_pt_lstm)\n",
    "\n",
    "# ダミー入力でテスト\n",
    "batch_size_pt_lstm = 5\n",
    "seq_len_pt_lstm = 10\n",
    "dummy_x_pt_lstm = torch.randn(batch_size_pt_lstm, seq_len_pt_lstm, input_dim_pt_lstm).to(device)\n",
    "\n",
    "pred_seq_pt_lstm, (last_h_pt_lstm, last_c_pt_lstm) = model_pt_lstm(dummy_x_pt_lstm)\n",
    "print(\"\\nPyTorch LSTM Dummy Input Shape:\", dummy_x_pt_lstm.shape)\n",
    "print(\"PyTorch LSTM Dummy Output Seq Shape:\", pred_seq_pt_lstm.shape)\n",
    "print(\"PyTorch LSTM Dummy Last Hidden Shape:\", last_h_pt_lstm.shape)\n",
    "print(\"PyTorch LSTM Dummy Last Cell State Shape:\", last_c_pt_lstm.shape)"
   ]
  },
  {
   "cell_type": "markdown",
   "id": "61f32f27",
   "metadata": {},
   "source": [
    "### 5.2 簡単なシーケンス予測タスクでのPyTorch LSTM学習\n",
    "ここでは、単純なsin波を予測するタスクでLSTMを学習させてみます。\n",
    "入力は過去の数点のsin波の値、ターゲットは次の1点のsin波の値です。"
   ]
  },
  {
   "cell_type": "code",
   "execution_count": 59,
   "id": "c00e36e0",
   "metadata": {},
   "outputs": [
    {
     "name": "stdout",
     "output_type": "stream",
     "text": [
      "Sinewave data X shape: (2000, 30, 1)\n",
      "Sinewave data y shape: (2000, 1, 1)\n"
     ]
    }
   ],
   "source": [
    "# sin波データセットの生成\n",
    "def generate_sindata(seq_length=20, num_sequences=1000, predict_steps=1):\n",
    "    X_list, y_list = [], []\n",
    "    for _ in range(num_sequences):\n",
    "        start_phase = np.random.rand() * 2 * np.pi\n",
    "        time_steps = np.linspace(start_phase, start_phase + (seq_length + predict_steps -1)*0.1, seq_length + predict_steps)\n",
    "        data = np.sin(time_steps)\n",
    "        X_list.append(data[:seq_length])\n",
    "        y_list.append(data[seq_length : seq_length + predict_steps]) # 次のnステップを予測\n",
    "        \n",
    "    X = np.array(X_list, dtype=np.float32).reshape(num_sequences, seq_length, 1) # (N, L, D_in)\n",
    "    y = np.array(y_list, dtype=np.float32).reshape(num_sequences, predict_steps, 1) # (N, L_out, D_out)\n",
    "    return X, y\n",
    "\n",
    "seq_len_sindata = 30\n",
    "num_seq_sindata = 2000\n",
    "X_sindata, y_sindata = generate_sindata(seq_length=seq_len_sindata, num_sequences=num_seq_sindata, predict_steps=1)\n",
    "\n",
    "print(\"Sinewave data X shape:\", X_sindata.shape) # (num_sequences, seq_length, 1)\n",
    "print(\"Sinewave data y shape:\", y_sindata.shape) # (num_sequences, predict_steps, 1)\n",
    "\n",
    "# PyTorch Tensorに変換\n",
    "X_sindata_pt = torch.from_numpy(X_sindata).to(device)\n",
    "y_sindata_pt = torch.from_numpy(y_sindata).to(device) # ターゲットもシーケンス長1とみなす\n",
    "\n",
    "# 簡単なデータローダー (PyTorchのDataLoaderを使うのがより一般的)\n",
    "def get_batches(X, y, batch_size):\n",
    "    n_batches = X.shape[0] // batch_size\n",
    "    for i in range(n_batches):\n",
    "        start = i * batch_size\n",
    "        end = start + batch_size\n",
    "        yield X[start:end], y[start:end]"
   ]
  },
  {
   "cell_type": "code",
   "execution_count": 60,
   "id": "f2250553",
   "metadata": {},
   "outputs": [
    {
     "name": "stdout",
     "output_type": "stream",
     "text": [
      "\n",
      "PyTorch LSTM 学習開始 (Sin波予測, 50 hidden units)...\n",
      "Epoch 0, Loss (MSE): 0.415966\n",
      "Epoch 10, Loss (MSE): 0.000002\n",
      "Epoch 20, Loss (MSE): 0.000001\n",
      "Epoch 30, Loss (MSE): 0.000001\n",
      "Epoch 40, Loss (MSE): 0.000001\n",
      "Epoch 50, Loss (MSE): 0.000001\n",
      "Epoch 60, Loss (MSE): 0.000001\n",
      "Epoch 70, Loss (MSE): 0.000001\n",
      "Epoch 80, Loss (MSE): 0.000003\n",
      "Epoch 90, Loss (MSE): 0.000004\n",
      "Epoch 100, Loss (MSE): 0.000006\n"
     ]
    }
   ],
   "source": [
    "# モデル、損失関数、Optimizer\n",
    "input_dim_sin = 1\n",
    "hidden_dim_sin = 50 # LSTMの隠れ層ユニット数\n",
    "output_dim_sin = 1 # 次の1点を予測\n",
    "num_lstm_layers_sin = 1\n",
    "\n",
    "model_sindata_lstm = SimpleLSTM(input_dim_sin, hidden_dim_sin, output_dim_sin, num_lstm_layers_sin).to(device)\n",
    "criterion_sindata = nn.MSELoss()\n",
    "optimizer_sindata = optim.Adam(model_sindata_lstm.parameters(), lr=0.0005)\n",
    "\n",
    "num_epochs_sindata = 100\n",
    "batch_size_sindata = 50\n",
    "print_every_sindata = num_epochs_sindata // 10\n",
    "costs_sindata_lstm = []\n",
    "\n",
    "print(f\"\\nPyTorch LSTM 学習開始 (Sin波予測, {hidden_dim_sin} hidden units)...\")\n",
    "for epoch in range(num_epochs_sindata + 1):\n",
    "    model_sindata_lstm.train()\n",
    "    epoch_loss = 0\n",
    "    num_batches_processed = 0\n",
    "    \n",
    "    # 訓練データはエポックごとにシャッフルした方が良い (ここでは省略)\n",
    "    for x_batch, y_batch in get_batches(X_sindata_pt, y_sindata_pt, batch_size_sindata):\n",
    "        # x_batch: (batch_size, seq_len, input_dim)\n",
    "        # y_batch: (batch_size, predict_steps, output_dim)\n",
    "        \n",
    "        # LSTMはシーケンス全体の出力を出すので、最後のタイムステップの出力のみ使う\n",
    "        outputs_seq, _ = model_sindata_lstm(x_batch) # outputs_seq: (batch, seq, output_dim)\n",
    "        \n",
    "        # ターゲットは最後のタイムステップの次の値なので、\n",
    "        # LSTMの最後のタイムステップの出力 outputs_seq[:, -1, :] を y_batch (ターゲット) と比較する\n",
    "        # y_batch は (batch_size, 1, 1) なので、squeezeする\n",
    "        loss = criterion_sindata(outputs_seq[:, -1, :], y_batch.squeeze(1)) \n",
    "        \n",
    "        optimizer_sindata.zero_grad()\n",
    "        loss.backward()\n",
    "        optimizer_sindata.step()\n",
    "        \n",
    "        epoch_loss += loss.item()\n",
    "        num_batches_processed += 1\n",
    "    \n",
    "    avg_epoch_loss = epoch_loss / num_batches_processed\n",
    "    costs_sindata_lstm.append(avg_epoch_loss)\n",
    "    \n",
    "    if epoch % print_every_sindata == 0:\n",
    "        print(f\"Epoch {epoch}, Loss (MSE): {avg_epoch_loss:.6f}\")"
   ]
  },
  {
   "cell_type": "code",
   "execution_count": 61,
   "id": "6e7069e9",
   "metadata": {},
   "outputs": [
    {
     "data": {
      "image/png": "[encoded data removed]",
      "text/plain": [
       "<Figure size 400x300 with 1 Axes>"
      ]
     },
     "metadata": {},
     "output_type": "display_data"
    },
    {
     "data": {
      "image/png": "[encoded data removed]",
      "text/plain": [
       "<Figure size 600x300 with 1 Axes>"
      ]
     },
     "metadata": {},
     "output_type": "display_data"
    }
   ],
   "source": [
    "# 学習曲線のプロット\n",
    "plt.figure(figsize=(4,3))\n",
    "plt.plot(costs_sindata_lstm)\n",
    "plt.xlabel(f\"Epochs\")\n",
    "plt.ylabel(\"Cost (MSE)\")\n",
    "plt.title(f\"PyTorch LSTM Learning Curve (Sinewave Prediction, {hidden_dim_sin} hidden units)\")\n",
    "plt.grid(True); plt.show()\n",
    "\n",
    "# 学習済みモデルで予測してプロット\n",
    "model_sindata_lstm.eval()\n",
    "with torch.no_grad():\n",
    "    # 1つのテストシーケンスを生成\n",
    "    X_test_sin, y_test_sin_true = generate_sindata(seq_length=seq_len_sindata, num_sequences=1, predict_steps=50)\n",
    "    X_test_sin_pt = torch.from_numpy(X_test_sin).to(device)\n",
    "    \n",
    "    # 最初の入力シーケンスで隠れ状態とセル状態を初期化\n",
    "    # h_curr = torch.zeros(num_lstm_layers_sin, 1, hidden_dim_sin).to(device)\n",
    "    # c_curr = torch.zeros(num_lstm_layers_sin, 1, hidden_dim_sin).to(device)\n",
    "    \n",
    "    # 最初のシーケンスを入力して最後の状態を得る\n",
    "    _, (hn, cn) = model_sindata_lstm(X_test_sin_pt) # (hn, cn) は最後のタイムステップの状態\n",
    "\n",
    "    # 逐次的に予測\n",
    "    num_predictions_future = 50\n",
    "    current_input_val = X_test_sin_pt[:, -1:, :] # 最後の既知の入力 (batch, 1, input_dim)\n",
    "    predicted_sequence = []\n",
    "\n",
    "    for _ in range(num_predictions_future):\n",
    "        pred_out, (hn, cn) = model_sindata_lstm(current_input_val, (hn, cn))\n",
    "        # pred_out は (batch, 1, output_dim)\n",
    "        predicted_val = pred_out.item() # バッチサイズ1、シーケンス長1なのでitem()で取れる\n",
    "        predicted_sequence.append(predicted_val)\n",
    "        current_input_val = torch.tensor([[[predicted_val]]], dtype=torch.float32).to(device) # 次の入力として使う\n",
    "\n",
    "# プロット\n",
    "plt.figure(figsize=(6,3))\n",
    "total_len_plot = seq_len_sindata + num_predictions_future\n",
    "plt.plot(np.arange(seq_len_sindata), X_test_sin.ravel(), 'b-', label='Input Sequence (known)')\n",
    "plt.plot(np.arange(seq_len_sindata, total_len_plot), y_test_sin_true.ravel(), 'g-', label='True Future Sequence')\n",
    "plt.plot(np.arange(seq_len_sindata, total_len_plot), predicted_sequence, 'r--', label='Predicted Future Sequence (LSTM)')\n",
    "plt.title(\"Sinewave Prediction with LSTM\")\n",
    "plt.xlabel(\"Time Step\")\n",
    "plt.ylabel(\"Value\")\n",
    "plt.legend(loc='lower left')\n",
    "plt.grid(True)\n",
    "plt.show()\n"
   ]
  }
 ],
 "metadata": {
  "kernelspec": {
   "display_name": "base",
   "language": "python",
   "name": "python3"
  },
  "language_info": {
   "codemirror_mode": {
    "name": "ipython",
    "version": 3
   },
   "file_extension": ".py",
   "mimetype": "text/x-python",
   "name": "python",
   "nbconvert_exporter": "python",
   "pygments_lexer": "ipython3",
   "version": "3.12.7"
  }
 },
 "nbformat": 4,
 "nbformat_minor": 5
}
