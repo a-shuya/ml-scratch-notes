{
 "cells": [
  {
   "cell_type": "markdown",
   "id": "0610e31e",
   "metadata": {},
   "source": [
    "# Transformer (\"Attention Is All You Need\") の実装\n",
    "\n",
    "このノートブックでは、2017年に提案され、その後の自然言語処理（NLP）分野に革命をもたらしたTransformerモデルのアーキテクチャと主要コンポーネントについて学びます。\n",
    "NumPyを使って主要な概念を実装・確認した後、PyTorchを使ってTransformerのEncoder-Decoderモデルを構築し、簡単なシーケンス変換タスクでその動作を確認します。\n",
    "\n",
    "**参考論文:**\n",
    "*   Vaswani, A., Shazeer, N., Parmar, N., Uszkoreit, J., Jones, L., Gomez, A. N., ... & Polosukhin, I. (2017). Attention is all you need. In *Advances in neural information processing systems* (Vol. 30).\n",
    "\n",
    "**このノートブックで学ぶこと:**\n",
    "1.  Transformerの背景：RNNの限界とAttentionの重要性。\n",
    "2.  主要コンポーネントの理解とNumPyによる概念実装：\n",
    "    *   Scaled Dot-Product Attention\n",
    "    *   Multi-Head Attention\n",
    "    *   Positional Encoding\n",
    "    *   Layer Normalization\n",
    "    *   Position-wise Feed-Forward Network\n",
    "3.  TransformerのEncoderブロックとDecoderブロックの構造。\n",
    "4.  PyTorchを使ったTransformer Encoder-Decoderモデルの実装。\n",
    "5.  簡単なシーケンス変換タスクでの学習と推論の基礎。\n",
    "\n",
    "**前提知識:**\n",
    "*   LSTM/GRUの基本的な理解（前のノートブック）。\n",
    "*   Encoder-Decoderアーキテクチャの基本的な概念。\n",
    "*   (推奨) Attention機構の基本的な考え方\n",
    "*   PyTorchの基本的な使い方。"
   ]
  },
  {
   "cell_type": "markdown",
   "id": "83acc67e",
   "metadata": {},
   "source": [
    "## 1. 必要なライブラリのインポート"
   ]
  },
  {
   "cell_type": "code",
   "execution_count": 57,
   "id": "e824714f",
   "metadata": {},
   "outputs": [
    {
     "name": "stdout",
     "output_type": "stream",
     "text": [
      "NumPy Version: 1.26.4\n",
      "PyTorch Version: 2.7.0+cpu\n",
      "Using device: cpu\n"
     ]
    }
   ],
   "source": [
    "import numpy as np\n",
    "import matplotlib.pyplot as plt\n",
    "import torch\n",
    "import torch.nn as nn\n",
    "import torch.nn.functional as F # LayerNormなどで使用\n",
    "import torch.optim as optim\n",
    "import math # Positional Encodingで使用\n",
    "\n",
    "print(f\"NumPy Version: {np.__version__}\")\n",
    "print(f\"PyTorch Version: {torch.__version__}\")\n",
    "device = torch.device(\"cuda\" if torch.cuda.is_available() else \"cpu\")\n",
    "print(f\"Using device: {device}\")"
   ]
  },
  {
   "cell_type": "markdown",
   "id": "45483e0e",
   "metadata": {},
   "source": [
    "## 2. Transformerの背景と主要アイデア\n",
    "\n",
    "RNN（LSTMやGRUを含む）はシーケンスデータを扱う上で強力なモデルですが、以下の課題がありました。\n",
    "*   **逐次計算の限界:** 各タイムステップの計算が前のステップの出力に依存するため、シーケンス長が長くなると並列計算が難しく、学習や推論に時間がかかる。\n",
    "*   **長期依存性の困難さ:** LSTMやGRUは勾配消失問題をある程度緩和しましたが、非常に長い距離の依存関係を捉えるのは依然として難しい場合がある。\n",
    "\n",
    "**Attention機構**は、元々RNNベースのEncoder-Decoderモデルで、デコーダーが入力シーケンスのどの部分に「注目」すべきかを学習するために導入されました。\n",
    "\n",
    "**Transformerの革新的なアイデア:**\n",
    "「Attention Is All You Need」という論文タイトルが示す通り、Transformerは**再帰的な処理 (Recurrence) や畳み込み演算 (Convolution) を完全に排除し、Attention機構のみに依存して入力と出力間の大域的な依存関係を捉える**新しいアーキテクチャを提案しました。\n",
    "\n",
    "**主な利点:**\n",
    "*   **高い並列計算性:** 系列内の各要素に対する計算が（Attention内部を除き）独立して行えるため、GPUによる並列化が非常に効果的。\n",
    "*   **長距離依存性の捉えやすさ:** Attention機構は、系列内の任意の2つの位置間の依存関係を直接的にモデル化できる（パス長が短い）。\n",
    "\n",
    "**主要コンポーネント:**\n",
    "1.  **Self-Attention (自己注意機構):** 単一のシーケンス内で、各要素が他の全ての要素とどのように関連しているかを計算する。\n",
    "2.  **Multi-Head Attention:** Self-Attentionを複数の「ヘッド」で並列に実行し、異なる表現部分空間からの情報を捉える。\n",
    "3.  **Positional Encoding:** RNNやCNNが持つ順序情報を扱う仕組みがないため、トークンの位置情報をベクトルとして明示的に入力に加える。\n",
    "4.  **Position-wise Feed-Forward Networks:** 各位置で独立に適用される全結合層。\n",
    "5.  **Residual Connections & Layer Normalization:** 深いネットワークの学習を安定させるためのテクニック。"
   ]
  },
  {
   "cell_type": "markdown",
   "id": "f76509b7",
   "metadata": {},
   "source": [
    "## 3. 主要コンポーネントのNumPyによる概念実装\n",
    "\n",
    "Transformerの核心となる要素をNumPyで実装し、その動作を理解します。"
   ]
  },
  {
   "cell_type": "markdown",
   "id": "3d0a804c",
   "metadata": {},
   "source": [
    "### 3.1 Scaled Dot-Product Attention\n",
    "\n",
    "Attentionは、クエリ($Q$)とキー($K$)の類似度を計算し、その類似度に基づいてバリュー($V$)の重み付き和を計算する操作と見なせます。\n",
    "Transformerで使われるのはScaled Dot-Product Attentionです。\n",
    "\n",
    "$\\text{Attention}(Q, K, V) = \\text{softmax}\\left(\\frac{QK^T}{\\sqrt{d_k}}\\right)V$\n",
    "\n",
    "ここで、\n",
    "*   $Q$: クエリ行列 (形状: `(seq_len_q, d_k)`)\n",
    "*   $K$: キー行列 (形状: `(seq_len_k, d_k)`)\n",
    "*   $V$: バリュー行列 (形状: `(seq_len_k, d_v)`)\n",
    "*   $d_k$: クエリとキーの次元。スケーリングファクター $\\sqrt{d_k}$ は、内積の値が大きくなりすぎないように調整し、softmax関数が極端な値を取るのを防ぎます。\n",
    "*   出力の形状は `(seq_len_q, d_v)` となります。\n",
    "\n",
    "**Self-Attentionの場合:** $Q, K, V$ は同じ入力シーケンスの埋め込みベクトルから線形変換されて作られます。  \n",
    "**Encoder-Decoder Attention (Cross-Attention)の場合:** $Q$ はデコーダーから、 $K, V$ はエンコーダーの出力から作られます。"
   ]
  },
  {
   "cell_type": "code",
   "execution_count": 58,
   "id": "2fc06bff",
   "metadata": {},
   "outputs": [],
   "source": [
    "def scaled_dot_product_attention(q, k, v, mask=None):\n",
    "    '''\n",
    "    Scaled Dot-Product Attentionの実装\n",
    "    Parameters:\n",
    "        q: クエリ (..., seq_len_q, d_k)\n",
    "        k: キー (..., seq_len_k, d_k)\n",
    "        v: バリュー (..., seq_len_v, d_v)\n",
    "        mask: マスク (..., seq_len_q, seq_len_k),\n",
    "              マスクがある場合は、対応する位置の値を-1e9に設定して無視する\n",
    "    Returns:\n",
    "        tuple: (output, attention_weights)\n",
    "            output: Attentionの出力 (..., seq_len_q, d_v)\n",
    "            attention_weights: softmax後の重み (..., seq_len_q, seq_len_k)\n",
    "    '''\n",
    "    d_k = q.shape[-1]\n",
    "\n",
    "    # qとkの転置の内積を計算\n",
    "    scores = np.matmul(q, k.swapaxes(-2, -1)) / np.sqrt(d_k)\n",
    "\n",
    "    # マスク適用（必要な場合）\n",
    "    if mask is not None:\n",
    "        # マスクがTrueの位置を-1e9に設定\n",
    "        scores = np.where(mask == 0, -1e9, scores)\n",
    "\n",
    "    # Softmaxを適用して重みを計算\n",
    "    attention_weights = np.exp(scores - np.max(scores, axis=-1, keepdims=True)) # 数値安定性のためのオフセット\n",
    "    attention_weights = attention_weights / np.sum(attention_weights, axis=-1, keepdims=True)\n",
    "\n",
    "    #アテンションウェイトとVの内積を計算\n",
    "    output = np.matmul(attention_weights, v)\n",
    "\n",
    "    return output, attention_weights"
   ]
  },
  {
   "cell_type": "code",
   "execution_count": 59,
   "id": "3989127a",
   "metadata": {},
   "outputs": [
    {
     "name": "stdout",
     "output_type": "stream",
     "text": [
      "--- Scaled Dot-Product Attention テスト ---\n",
      "Q shape: (1, 2, 4)\n",
      "K shape: (1, 3, 4)\n",
      "V shape: (1, 3, 5)\n",
      "Output shape: (1, 2, 5)\n",
      "Attention Weights shape: (1, 2, 3)\n",
      "\n",
      "Masked Attention Weights:\n",
      " [[[1.         0.         0.        ]\n",
      "  [0.57276124 0.42723876 0.        ]\n",
      "  [0.3868907  0.2856601  0.32744923]]]\n"
     ]
    }
   ],
   "source": [
    "# テスト\n",
    "print(\"--- Scaled Dot-Product Attention テスト ---\")\n",
    "# (バッチサイズ1, seq_len_q=2, d_k=4)\n",
    "q_test = np.random.rand(1, 2, 4).astype(np.float32) \n",
    "# (バッチサイズ1, seq_len_k=3, d_k=4)\n",
    "k_test = np.random.rand(1, 3, 4).astype(np.float32) \n",
    "# (バッチサイズ1, seq_len_k=3, d_v=5)\n",
    "v_test = np.random.rand(1, 3, 5).astype(np.float32) \n",
    "\n",
    "output_attn, attn_weights = scaled_dot_product_attention(q_test, k_test, v_test)\n",
    "print(\"Q shape:\", q_test.shape)\n",
    "print(\"K shape:\", k_test.shape)\n",
    "print(\"V shape:\", v_test.shape)\n",
    "print(\"Output shape:\", output_attn.shape) # 期待: (1, 2, 5)\n",
    "print(\"Attention Weights shape:\", attn_weights.shape) # 期待: (1, 2, 3)\n",
    "# print(\"Attention Weights:\\n\", attn_weights)\n",
    "\n",
    "# マスクテスト (デコーダーのLook-aheadマスクを模倣)\n",
    "# seq_len_q = 3, seq_len_k = 3\n",
    "q_mask_test = np.random.rand(1, 3, 2).astype(np.float32)\n",
    "k_mask_test = np.random.rand(1, 3, 2).astype(np.float32)\n",
    "v_mask_test = np.random.rand(1, 3, 3).astype(np.float32)\n",
    "# look_ahead_mask[i, j] = 0 if j > i else 1 (i行目はj列まで見れる)\n",
    "look_ahead_mask = np.triu(np.ones((3,3)), k=1) == 0 # 上三角成分を0 (True)、それ以外を1 (False)\n",
    "look_ahead_mask = look_ahead_mask.astype(np.float32) # PyTorchのboolマスクはTrueがマスク\n",
    "# NumPy版の np.where(mask==0, ...) に合わせるため、マスクしたい部分を0にする\n",
    "# マスク: 現在のポジションより未来のポジションは見ない\n",
    "# (seq_q, seq_k) で、k > q の部分をマスク\n",
    "mask_example = np.tril(np.ones((3,3))).astype(bool) # 下三角行列(対角含む)がTrue\n",
    "# scaled_dot_product_attention_numpy の mask は mask==0 の部分を -1e9 にするので、\n",
    "# 見せたい部分を1、隠したい部分を0にする\n",
    "mask_for_np = np.tril(np.ones((1, 3, 3))) # (batch, seq_q, seq_k)\n",
    "\n",
    "output_masked_attn, attn_weights_masked = scaled_dot_product_attention(\n",
    "    q_mask_test, k_mask_test, v_mask_test, mask=mask_for_np\n",
    ")\n",
    "print(\"\\nMasked Attention Weights:\\n\", attn_weights_masked)\n",
    "# 1行目: [w11, 0, 0]\n",
    "# 2行目: [w21, w22, 0]\n",
    "# 3行目: [w31, w32, w33] のような形になるはず (値は異なる)"
   ]
  },
  {
   "cell_type": "markdown",
   "id": "4ef7fb8e",
   "metadata": {},
   "source": [
    "### 3.2 Multi-Head Attention\n",
    "\n",
    "Multi-Head Attentionは、Scaled Dot-Product Attentionを複数回並列に（異なる重みで線形変換したQ, K, Vを使って）実行し、それぞれの結果を連結してから再度線形変換するものです。\n",
    "これにより、モデルは異なる表現部分空間（representation subspaces）からの情報に同時に注目できるようになります。\n",
    "\n",
    "$\\text{MultiHead}(Q, K, V) = \\text{Concat}(\\text{head}_1, \\dots, \\text{head}_h)W^O$\n",
    "$\\text{where head}_i = \\text{Attention}(QW_i^Q, KW_i^K, VW_i^V)$\n",
    "\n",
    "ここで、$W_i^Q, W_i^K, W_i^V$ は各ヘッド $i$ のための射影行列（学習可能なパラメータ）、$W^O$ は最終的な出力のための射影行列です。\n",
    "通常、$d_k$ (ヘッド内のキー/クエリの次元) と $d_v$ (ヘッド内のバリューの次元) は、$d_{\\text{model}} / h$ となります ($h$ はヘッド数)。\n",
    "\n",
    "*   **NumPyでの概念実装:**\n",
    "    ここでは、Multi-Head Attentionの主要な流れを示します。各ヘッドの射影とAttention計算、そして結果の結合と最終射影。"
   ]
  },
  {
   "cell_type": "code",
   "execution_count": 60,
   "id": "5a7ae47a",
   "metadata": {},
   "outputs": [],
   "source": [
    "def multi_head_attention(q, k, v, num_heads, d_model, d_v_override=None, mask=None):\n",
    "    '''\n",
    "    Multi-Head Attentionの実装\n",
    "    簡単のため，d_k = d_v = d_model / num_heads とする\n",
    "    学習可能な射影行列 W^Q, W^K, W^V はダミーで生成\n",
    "    Parameters:\n",
    "        q, k, v: 元の入力 (..., seq_len, d_model)\n",
    "        num_heads: ヘッドの数\n",
    "        d_model: 入力および出力の次元\n",
    "        d_v_override: 指定する場合，各ヘッドのvalueの次元 (通常 d_mode/num_heads)\n",
    "    '''\n",
    "\n",
    "    if d_model % num_heads != 0:\n",
    "        raise ValueError(\"d_model must be divisible by num_heads\")\n",
    "    \n",
    "    d_k = d_model // num_heads\n",
    "    d_v = d_v_override if d_v_override else d_model // num_heads\n",
    "\n",
    "    batch_size = q.shape[0] if q.ndim > 2 else 1\n",
    "    seq_len_q = q.shape[-2]\n",
    "    seq_len_k = k.shape[-2]\n",
    "\n",
    "    # ダミーの射影行列（実際は学習可能なパラメータ）\n",
    "    # 各ヘッドごとに異なる射影行列を使うが，ここではまとめて処理し，後で分割する\n",
    "    # W_q_all: (d_mode, d_model) -> (d_model, num_heads*d_k) と考える\n",
    "    # W_k_all: (d_mode, d_model)\n",
    "    # W_v_all: (d_mode, d_model) -> (d_model, num_heads*d_v) と考える\n",
    "    # W_o: (num_heads*d_v, d_model)\n",
    "\n",
    "    # 今回は各ヘッドが独立した射影を持つと仮定しループで処理\n",
    "    heads_outputs = []\n",
    "\n",
    "    # 実際には、Q,K,Vを一度に射影し、num_heads次元に分割する方が効率的\n",
    "    # Q_projected_all = Q_orig @ W_q_all -> (batch, seq_q, num_heads*d_k)\n",
    "    # -> reshape to (batch, seq_q, num_heads, d_k) -> transpose to (batch, num_heads, seq_q, d_k) \n",
    "\n",
    "    # 以下は概念的なループ\n",
    "    for h_idx in range(num_heads):\n",
    "        # 各ヘッド用のダミー射影行列\n",
    "        W_q_h = np.random.rand(d_model, d_k).astype(np.float32) * 0.1\n",
    "        W_k_h = np.random.rand(d_model, d_k).astype(np.float32) * 0.1\n",
    "        W_v_h = np.random.rand(d_model, d_v).astype(np.float32) * 0.1\n",
    "\n",
    "        q_h = np.matmul(q, W_q_h)\n",
    "        k_h = np.matmul(k, W_k_h)\n",
    "        v_h = np.matmul(v, W_v_h)\n",
    "\n",
    "        # 各ヘッドでScaled Dot-Product Attentionを計算\n",
    "        head_output, _ = scaled_dot_product_attention(q_h, k_h, v_h, mask=mask)\n",
    "        heads_outputs.append(head_output)\n",
    "\n",
    "    # 各ヘッドの出力を連結\n",
    "    concat_heads = np.concatenate(heads_outputs, axis=-1)\n",
    "\n",
    "    # 最終的な線形射影W^O\n",
    "    W_o = np.random.rand(num_heads * d_v, d_model).astype(np.float32) * 0.1\n",
    "    multi_head_output = np.matmul(concat_heads, W_o)\n",
    "\n",
    "    return multi_head_output"
   ]
  },
  {
   "cell_type": "code",
   "execution_count": 61,
   "id": "ff142250",
   "metadata": {},
   "outputs": [
    {
     "name": "stdout",
     "output_type": "stream",
     "text": [
      "\n",
      "--- Multi-Head Attention テスト ---\n",
      "Multi-Head Output shape: (1, 2, 16)\n"
     ]
    }
   ],
   "source": [
    "# テスト\n",
    "print(\"\\n--- Multi-Head Attention テスト ---\")\n",
    "d_model_test = 16\n",
    "num_heads_test = 4 # d_k = d_v = 16/4 = 4\n",
    "q_mh_test = np.random.rand(1, 2, d_model_test).astype(np.float32) # (batch, seq_q, d_model)\n",
    "k_mh_test = np.random.rand(1, 3, d_model_test).astype(np.float32) # (batch, seq_k, d_model)\n",
    "v_mh_test = np.random.rand(1, 3, d_model_test).astype(np.float32) # (batch, seq_k, d_model)\n",
    "\n",
    "output_mha = multi_head_attention(q_mh_test, k_mh_test, v_mh_test, num_heads_test, d_model_test)\n",
    "print(\"Multi-Head Output shape:\", output_mha.shape) # 期待: (1, 2, d_model_test)"
   ]
  },
  {
   "cell_type": "markdown",
   "id": "3491e0f9",
   "metadata": {},
   "source": [
    "### 3.3 Positional Encoding (位置エンコーディング)\n",
    "\n",
    "TransformerはRNNやCNNのような系列の順序情報を処理する構造を持たないため、トークンの相対的または絶対的な位置情報をモデルに与える必要があります。\n",
    "Positional Encodingは、各位置に固有のベクトルを計算し、それを入力トークンの埋め込みベクトルに加算します。\n",
    "論文では、Sinusoidal Positional Encoding（サイン関数とコサイン関数に基づく固定的なエンコーディング）が提案されています。\n",
    "\n",
    "$PE_{(pos, 2i)} = \\sin(pos / 10000^{2i/d_{\\text{model}}})$  \n",
    "$PE_{(pos, 2i+1)} = \\cos(pos / 10000^{2i/d_{\\text{model}}})$\n",
    "\n",
    "ここで、\n",
    "*   `pos`: シーケンス内のトークンの位置 (0から始まるインデックス)。\n",
    "*   `i`: エンコーディングベクトルの次元のインデックス (0から $d_{\\text{model}}/2 - 1$)。\n",
    "*   $d_{\\text{model}}$: 埋め込みベクトルの次元。"
   ]
  },
  {
   "cell_type": "code",
   "execution_count": 62,
   "id": "ae72c3a7",
   "metadata": {},
   "outputs": [],
   "source": [
    "def positional_encoding(max_seq_len, d_model):\n",
    "    '''Sinusoidal Positional Encodingの実装'''\n",
    "    pos = np.arange(max_seq_len)[:, np.newaxis]  # (max_seq_len, 1)\n",
    "\n",
    "    # div_termの計算: 10000^(-2i/d_model)\n",
    "    div_term = np.exp(np.arange(0, d_model, 2) * -(np.log(10000.0) / d_model))\n",
    "\n",
    "    pe = np.zeros((max_seq_len, d_model), dtype=np.float32)\n",
    "    pe[:, 0::2] = np.sin(pos * div_term)\n",
    "    pe[:, 1::2] = np.cos(pos * div_term)\n",
    "\n",
    "    return pe"
   ]
  },
  {
   "cell_type": "code",
   "execution_count": 63,
   "id": "c6628992",
   "metadata": {},
   "outputs": [
    {
     "name": "stdout",
     "output_type": "stream",
     "text": [
      "\n",
      "--- Positional Encoding テスト ---\n",
      "Positional Encoding shape: (1000, 100)\n"
     ]
    },
    {
     "data": {
      "image/png": "[encoded data removed]",
      "text/plain": [
       "<Figure size 500x300 with 2 Axes>"
      ]
     },
     "metadata": {},
     "output_type": "display_data"
    }
   ],
   "source": [
    "print(\"\\n--- Positional Encoding テスト ---\")\n",
    "max_len_test = 1000\n",
    "d_model_pe_test = 100\n",
    "pe_output = positional_encoding(max_len_test, d_model_pe_test)\n",
    "print(\"Positional Encoding shape:\", pe_output.shape)\n",
    "# print(\"Positional Encoding (最初の数行):\\n\", pe_output[:3])\n",
    "\n",
    "# 可視化\n",
    "plt.figure(figsize=(5,3))\n",
    "plt.pcolormesh(pe_output.T, cmap='viridis') # 転置して次元方向をy軸に\n",
    "plt.xlabel(\"Position\")\n",
    "plt.xlim((0, max_len_test))\n",
    "plt.ylabel(\"Depth (Dimension)\")\n",
    "plt.colorbar()\n",
    "plt.title(\"Sinusoidal Positional Encoding\")\n",
    "plt.show()"
   ]
  },
  {
   "cell_type": "markdown",
   "id": "ae9598e3",
   "metadata": {},
   "source": [
    "### 3.4 Layer Normalization\n",
    "\n",
    "Layer Normalization (LayerNorm) は、バッチ正規化(BN)と似た正規化手法ですが、バッチ方向ではなく、各サンプル内の特徴量方向で正規化を行います。\n",
    "Transformerでは、各サブレイヤー（Multi-Head Attention, Feed-Forward Network）の後にResidual Connectionと組み合わせて適用されます: `LayerNorm(x + Sublayer(x))`。\n",
    "\n",
    "各サンプル $x$ (次元 $D$) について、その特徴量の平均 $\\mu$ と標準偏差 $\\sigma$ を計算し、\n",
    "$\\hat{x}_i = \\frac{x_i - \\mu}{\\sqrt{\\sigma^2 + \\epsilon}}$\n",
    "その後、学習可能なスケールパラメータ $\\gamma$ とシフトパラメータ $\\beta$ を用いてアフィン変換を行います。\n",
    "$y_i = \\gamma \\hat{x}_i + \\beta$\n",
    "\n",
    "BNとは異なり、LayerNormはバッチサイズに依存せず、サンプルごとに統計量を計算するため、小さなバッチサイズや系列データに対しても安定して動作します。\n",
    "\n",
    "*   **NumPyによる概念実装 (順伝播):**"
   ]
  },
  {
   "cell_type": "code",
   "execution_count": 64,
   "id": "41fe5e99",
   "metadata": {},
   "outputs": [],
   "source": [
    "def layer_norm_forward(x, gamma, beta, epsilon=1e-5):\n",
    "    '''\n",
    "    Layer Normalizationの順伝播\n",
    "    Parameters:\n",
    "        x: 入力データ (..., D) Dは正規化を行う次元\n",
    "        gamma: スケールパラメータ (D, )\n",
    "        beta: シフトパラメータ (D, )\n",
    "        epsilon: ゼロ除算防止\n",
    "    Returns:\n",
    "        out_ln: 正規化後の出力\n",
    "        cache_ln: 逆伝播で使う値\n",
    "    '''\n",
    "    # 最後の次元に沿って平均と分散を表示\n",
    "    mean_ln = np.mean(x, axis=-1, keepdims=True)\n",
    "    var_ln = np.var(x, axis=-1, keepdims=True)\n",
    "\n",
    "    x_norm = (x - mean_ln) / np.sqrt(var_ln + epsilon)\n",
    "    out_ln = gamma * x_norm + beta\n",
    "\n",
    "    cache_ln = (x, mean_ln, var_ln, gamma, beta, epsilon)\n",
    "    return out_ln, cache_ln"
   ]
  },
  {
   "cell_type": "markdown",
   "id": "4017facb",
   "metadata": {},
   "source": [
    "### 3.5 Position-wise Feed-Forward Network (FFN)\n",
    "\n",
    "各エンコーダブロックとデコーダブロック内には、Multi-Head Attentionの後に、各位置に対して独立に適用される全結合フィードフォワードネットワークが含まれます。\n",
    "これは、2つの線形変換と、その間にReLU活性化関数を挟んだものです。\n",
    "\n",
    "$\\text{FFN}(x) = \\max(0, xW_1 + b_1)W_2 + b_2$\n",
    "\n",
    "このFFNは、シーケンス内の各位置ベクトルに同じ重み $W_1, b_1, W_2, b_2$ を使って適用されますが、位置間の情報のやり取りはありません（1x1畳み込みの連続と等価と見なせます）。"
   ]
  },
  {
   "cell_type": "markdown",
   "id": "0449a790",
   "metadata": {},
   "source": [
    "## 4. Transformerのアーキテクチャ全体像 (論文 Figure 1)\n",
    "\n",
    "Transformerは、複数のEncoderブロックを積み重ねた**Encoderスタック**と、複数のDecoderブロックを積み重ねた**Decoderスタック**から構成されます。\n",
    "\n",
    "*   **Encoder:**\n",
    "    *   入力シーケンスは、まず埋め込み層（Input Embedding）と位置エンコーディング（Positional Encoding）を経て、各トークンがベクトル表現に変換されます。\n",
    "    *   このベクトルシーケンスが、N個の同一構造のEncoderブロックを順番に通ります。\n",
    "    *   各Encoderブロックは、Multi-Head Self-Attention層とPosition-wise Feed-Forward Networkの2つのサブレイヤーを持ちます。各サブレイヤーの後にはResidual ConnectionとLayer Normalizationが適用されます。\n",
    "\n",
    "*   **Decoder:**\n",
    "    *   ターゲットシーケンス（学習時は教師データ、推論時はそれまでに出力されたトークン）も同様に、埋め込みと位置エンコーディングが行われます。\n",
    "    *   N個の同一構造のDecoderブロックを順番に通ります。\n",
    "    *   各Decoderブロックは、Encoderブロックの2つのサブレイヤーに加えて、もう一つMulti-Head Attention層（**Encoder-Decoder Attention**または**Cross-Attention**）を持ちます。\n",
    "        1.  **Masked Multi-Head Self-Attention:** デコーダーが自分自身の過去の出力のみに注目できるように、未来のトークンへのアテンションをマスクします（Look-ahead Mask）。\n",
    "        2.  **Multi-Head Encoder-Decoder Attention:** デコーダーの各位置が、エンコーダーの出力シーケンス全体に注目し、関連性の高い情報を取得します。クエリはデコーダーの前のサブレイヤーの出力、キーとバリューはエンコーダーの最終出力から作られます。\n",
    "        3.  **Position-wise Feed-Forward Network.**\n",
    "    *   各サブレイヤーの後には同様にResidual ConnectionとLayer Normalizationが適用されます。\n",
    "\n",
    "*   **最終出力:**\n",
    "    Decoderスタックの最終出力を線形変換し、Softmax関数を通して次のトークンの確率分布を得ます"
   ]
  },
  {
   "cell_type": "markdown",
   "id": "67d6767e",
   "metadata": {},
   "source": [
    "## 5. PyTorchによるTransformerの主要ブロック実装\n",
    "\n",
    "ここからは、PyTorchを使ってTransformerの主要な構成要素を実装していきます。"
   ]
  },
  {
   "cell_type": "markdown",
   "id": "36c466d5",
   "metadata": {},
   "source": [
    "### 5.1 Scaled Dot-Product Attention"
   ]
  },
  {
   "cell_type": "code",
   "execution_count": 65,
   "id": "cb4fa504",
   "metadata": {},
   "outputs": [],
   "source": [
    "class ScaledDotProductAttention(nn.Module):\n",
    "    def __init__(self, temperature, dropout_rate=0.1):\n",
    "        super().__init__()\n",
    "        self.temperature = temperature # sqrt(d_k)\n",
    "        self.dropout = nn.Dropout(dropout_rate)\n",
    "        self.softmax = nn.Softmax(dim=-1) # 最後の次元(keyの次元)にsoftmaxを適用\n",
    "    \n",
    "    def forward(self, q, k, v, mask=None):\n",
    "        attn_scores = torch.matmul(q, k.transpose(-2, -1)) / self.temperature\n",
    "\n",
    "        if mask is not None:\n",
    "            attn_scores = attn_scores.masked_fill(mask == 0, float('-inf'))\n",
    "\n",
    "        attention_weights = self.softmax(attn_scores)\n",
    "        attention_weights = self.dropout(attention_weights)\n",
    "\n",
    "        output = torch.matmul(attention_weights, v)\n",
    "\n",
    "        return output, attention_weights"
   ]
  },
  {
   "cell_type": "markdown",
   "id": "4b749b27",
   "metadata": {},
   "source": [
    "### 5.2 Multi-Head Attention"
   ]
  },
  {
   "cell_type": "code",
   "execution_count": 66,
   "id": "fff5ed23",
   "metadata": {},
   "outputs": [],
   "source": [
    "class MultiHeadAttention(nn.Module):\n",
    "    def __init__(self, d_model, num_heads, dropout_rate=0.1):\n",
    "        super().__init__()\n",
    "        assert d_model % num_heads == 0\n",
    "        self.d_k_head = d_model // num_heads\n",
    "        self.d_v_head = d_model // num_heads\n",
    "        self.num_heads = num_heads\n",
    "\n",
    "        self.W_q = nn.Linear(d_model, num_heads * self.d_k_head, bias=False)\n",
    "        self.W_k = nn.Linear(d_model, num_heads * self.d_k_head, bias=False)\n",
    "        self.W_v = nn.Linear(d_model, num_heads * self.d_v_head, bias=False)\n",
    "\n",
    "        self.attention = ScaledDotProductAttention(temperature=np.sqrt(self.d_k_head),\n",
    "                                                   dropout_rate=dropout_rate)\n",
    "        self.fc_out = nn.Linear(num_heads * self.d_v_head, d_model, bias=False)\n",
    "        self.dropout = nn.Dropout(dropout_rate)\n",
    "\n",
    "    def forward(self, q, k, v, mask=None):\n",
    "        batch_size = q.size(0)\n",
    "        seq_len_q, seq_len_k, seq_len_v = q.size(1), k.size(1), v.size(1)\n",
    "\n",
    "        # 線形射影\n",
    "        q_proj = self.W_q(q)\n",
    "        k_proj = self.W_k(k)\n",
    "        v_proj = self.W_v(v)\n",
    "\n",
    "        # ヘッドごとに分割\n",
    "        q_s = q_proj.view(batch_size, seq_len_q, self.num_heads, self.d_k_head).transpose(1, 2)\n",
    "        k_s = k_proj.view(batch_size, seq_len_k, self.num_heads, self.d_k_head).transpose(1, 2)\n",
    "        v_s = v_proj.view(batch_size, seq_len_v, self.num_heads, self.d_v_head).transpose(1, 2)\n",
    "\n",
    "        # Scaled Dot-Product Attentionを各ヘッドで計算\n",
    "        if mask is not None:\n",
    "            mask = mask.unsqueeze(1)\n",
    "\n",
    "        context_vector, attention_weights = self.attention(q_s, k_s, v_s, mask)\n",
    "\n",
    "        # ヘッドを連結\n",
    "        context_vector = context_vector.transpose(1, 2).contiguous().view(batch_size, seq_len_q, -1)\n",
    "\n",
    "        # 最終的な線形射影\n",
    "        output = self.fc_out(context_vector)\n",
    "        output = self.dropout(output)\n",
    "\n",
    "        return output, attention_weights"
   ]
  },
  {
   "cell_type": "markdown",
   "id": "20731e00",
   "metadata": {},
   "source": [
    "### Positional Encoding"
   ]
  },
  {
   "cell_type": "code",
   "execution_count": null,
   "id": "95c49d00",
   "metadata": {},
   "outputs": [],
   "source": [
    "class PositionalEncoding(nn.Module):\n",
    "    def __init__(self, d_model, max_seq_len=5000, dropout_rate=0.1):\n",
    "        super().__init__()\n",
    "        self.dropout = nn.Dropout(p=dropout_rate)\n",
    "\n",
    "        pe = torch.zeros(max_seq_len, d_model)\n",
    "        position = torch.arange(0, max_seq_len, dtype=torch.float).unsqueeze(1)\n",
    "        div_term = torch.exp(torch.arange(0, d_model, 2).float() * (-math.log(10000.0)/d_model))\n",
    "\n",
    "        pe[:, 0::2] = torch.sin(position * div_term)\n",
    "        pe[:, 1::2] = torch.cos(position * div_term)\n",
    "\n",
    "        \n",
    "        "
   ]
  }
 ],
 "metadata": {
  "kernelspec": {
   "display_name": "base",
   "language": "python",
   "name": "python3"
  },
  "language_info": {
   "codemirror_mode": {
    "name": "ipython",
    "version": 3
   },
   "file_extension": ".py",
   "mimetype": "text/x-python",
   "name": "python",
   "nbconvert_exporter": "python",
   "pygments_lexer": "ipython3",
   "version": "3.12.7"
  }
 },
 "nbformat": 4,
 "nbformat_minor": 5
}
