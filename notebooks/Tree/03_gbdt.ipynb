{
 "cells": [
  {
   "cell_type": "markdown",
   "id": "fe0a0a9e",
   "metadata": {},
   "source": [
    "# 勾配ブースティング決定木 (GBDT) のスクラッチ実装 (NumPy)\n",
    "\n",
    "このノートブックでは、Jerome H. Friedman氏の論文「Greedy Function Approximation: A Gradient Boosting Machine」のアイデアに基づき、NumPyとPython標準ライブラリのみを使用して勾配ブースティング決定木（GBDT）をスクラッチから実装します。\n",
    "\n",
    "まずは回帰タスクに焦点を当て、損失関数として二乗誤差を使用します。\n",
    "\n",
    "**主なステップ:**\n",
    "1. 必要なライブラリと以前に作成した決定木クラスのインポート\n",
    "2. データセットの準備 (回帰用)\n",
    "3. GBDTのアルゴリズム概要 (回帰の場合)\n",
    "4. GradientBoostingRegressorクラスの実装\n",
    "    - 初期モデルの決定\n",
    "    - 損失関数の勾配（残差）の計算\n",
    "    - 各イテレーションでの決定木（リグレッサー）の学習\n",
    "    - 予測\n",
    "5. モデルの学習と評価 (サンプルデータとBoston Housingデータセット)"
   ]
  },
  {
   "cell_type": "markdown",
   "id": "dc76f68c",
   "metadata": {},
   "source": [
    "## 1. ライブラリのインポート"
   ]
  },
  {
   "cell_type": "code",
   "execution_count": 1,
   "id": "44aa48c4",
   "metadata": {},
   "outputs": [],
   "source": [
    "import numpy as np\n",
    "import random\n",
    "import time\n",
    "import sys, os\n",
    "\n",
    "# 作成した決定木クラス\n",
    "sys.path.append(os.path.abspath('../src/Tree'))\n",
    "from DecisionTree import DecisionTreeRegression, Node, print_tree"
   ]
  },
  {
   "cell_type": "markdown",
   "id": "e831ed79",
   "metadata": {},
   "source": [
    "## 2. データセットの準備 (回帰用)\n",
    "\n",
    "ここでは、まず簡単な回帰用のサンプルデータを作成し、その後、より一般的なBoston Housingデータセットでテストします。"
   ]
  },
  {
   "cell_type": "markdown",
   "id": "5aa66f1c",
   "metadata": {},
   "source": [
    "### 2.1 サンプルデータ (回帰用)"
   ]
  },
  {
   "cell_type": "code",
   "execution_count": null,
   "id": "bcdc27b7",
   "metadata": {},
   "outputs": [
    {
     "name": "stdout",
     "output_type": "stream",
     "text": [
      "サンプルデータ X_sample_reg (shape): (80, 1)\n",
      "サンプルラベル y_sample_reg (shape): (80,)\n"
     ]
    },
    {
     "data": {
      "image/png": "[encoded data removed]",
      "text/plain": [
       "<Figure size 500x300 with 1 Axes>"
      ]
     },
     "metadata": {},
     "output_type": "display_data"
    }
   ],
   "source": [
    "# サンプルデータ (回帰)\n",
    "# X は (サンプル数, 特徴量数) の形状\n",
    "np.random.seed(42) # 再現性のため\n",
    "X_sample_reg = np.sort(5 * np.random.rand(80, 1), axis=0)\n",
    "# y は y = sin(X) + X/2 + noise のような非線形な関係を想定\n",
    "y_sample_reg = np.sin(X_sample_reg).ravel() + X_sample_reg.ravel() * 0.5 + np.random.randn(80) * 0.3\n",
    "\n",
    "# GBDTは複数の特徴量を扱えるが、可視化のために1特徴量で開始\n",
    "# 後で多次元特徴量でテストする\n",
    "feature_types_sample_reg = ['numeric'] \n",
    "\n",
    "print(\"サンプルデータ X_sample_reg (shape):\", X_sample_reg.shape)\n",
    "print(\"サンプルラベル y_sample_reg (shape):\", y_sample_reg.shape)\n",
    "\n",
    "# 簡単なプロット\n",
    "import matplotlib.pyplot as plt\n",
    "plt.figure(figsize=(5, 3))\n",
    "plt.scatter(X_sample_reg, y_sample_reg, s=20, edgecolor=\"black\", c=\"darkorange\", label=\"data\")\n",
    "plt.xlabel(\"X\")\n",
    "plt.ylabel(\"y\")\n",
    "plt.title(\"Sample Regression Data\")\n",
    "plt.legend()\n",
    "plt.show()"
   ]
  },
  {
   "cell_type": "markdown",
   "id": "db991281",
   "metadata": {},
   "source": [
    "## 3. GBDTのアルゴリズム概要 (回帰の場合 - 二乗誤差損失)"
   ]
  },
  {
   "cell_type": "markdown",
   "id": "735a502f",
   "metadata": {},
   "source": [
    "Friedman (2001) の論文で説明されている勾配ブースティングの一般的な枠組みは以下の通りです。\n",
    "ここでは、特に損失関数 $L(y, F)$ として二乗誤差 $L(y, F) = \\frac{1}{2}(y - F)^2$ を考えます。\n",
    "\n",
    "1.  **初期モデル $F_0(x)$ の決定:**\n",
    "    損失関数を最小化する定数値で初期化します。二乗誤差の場合、これは訓練データ $y$ の平均値です。\n",
    "    $F_0(x) = \\text{argmin}_{\\gamma} \\sum_{i=1}^{N} L(y_i, \\gamma) = \\text{mean}(y)$\n",
    "\n",
    "2.  **M個の決定木（弱学習器）を逐次的に構築する (m = 1 to M):**  \n",
    "    各イテレーション $m$ で：  \n",
    "    a.  **負の勾配（pseudo-residuals）の計算:**  \n",
    "        現在のモデル $F_{m-1}(x)$ における損失関数の負の勾配を各サンプル $i$ について計算します。\n",
    "        $r_{im} = - \\left[ \\frac{\\partial L(y_i, F(x_i))}{\\partial F(x_i)} \\right]_{F(x)=F_{m-1}(x)}$\n",
    "        二乗誤差 $L(y, F) = \\frac{1}{2}(y - F)^2$ の場合、$\\frac{\\partial L}{\\partial F} = -(y - F)$ なので、負の勾配は $r_{im} = y_i - F_{m-1}(x_i)$ となり、これは現在の残差そのものです。\n",
    "\n",
    "    b.  **弱学習器（決定木）の学習:**  \n",
    "        計算された負の勾配（残差 $r_{im}$）をターゲットとして、新しい回帰用決定木 $h_m(x)$ を学習させます。\n",
    "        $h_m(x)$ は入力 $X$ を用いて $r_{im}$ を予測するように学習されます。\n",
    "        この決定木は通常、深さが浅いものが使われます (例: `max_depth` が小さい)。\n",
    "\n",
    "    c.  **モデルの更新:**  \n",
    "        固定の学習率 (learning rate, $\\nu$) を用いて、各木の寄与を調整します。\n",
    "        $F_m(x) = F_{m-1}(x) + \\nu \\cdot h_m(x)$\n",
    "\n",
    "3.  **最終モデルの構築:**\n",
    "    最終的な予測モデル $F_M(x)$ は、初期モデルと全ての弱学習器の（学習率で重み付けされた）和として得られます。\n",
    "    $F_M(x) = F_0(x) + \\sum_{m=1}^{M} \\nu \\cdot h_m(x)$\n",
    "\n",
    "**GBDT (二乗誤差損失) の主なアイデア:**\n",
    "*   各ステップで、モデルがまだ上手く説明できていない部分（残差）を学習する新しい木を追加していく。\n",
    "*   学習率 $\\nu$ を導入することで、個々の木の寄与を小さくし、過学習を抑制し、より多くの木をアンサンブルに含めることができる。"
   ]
  },
  {
   "cell_type": "markdown",
   "id": "68e7a59b",
   "metadata": {},
   "source": [
    "## 4. GradientBoostingRegressorクラスの実装"
   ]
  },
  {
   "cell_type": "markdown",
   "id": "abd0db50",
   "metadata": {},
   "source": [
    "### 4.1 概念説明"
   ]
  },
  {
   "cell_type": "markdown",
   "id": "95e10257",
   "metadata": {},
   "source": [
    "*   **`__init__` メソッド**:\n",
    "    *   GBDTのハイパーパラメータ（木の数 `n_estimators`、学習率 `learning_rate`、各木の深さ `max_depth` など）を初期化します。\n",
    "    *   学習済みの初期モデル `self.initial_prediction_` と、各イテレーションで学習された決定木を格納するリスト `self.trees_` を準備します。\n",
    "\n",
    "*   **`fit` メソッド**:\n",
    "    *   **目的**: 訓練データ `X_train` と `y_train` を用いて、GBDTモデルを学習させます。\n",
    "    *   **処理の流れ**:\n",
    "        1.  **初期予測の計算**: `y_train` の平均値を `self.initial_prediction_` とし、現在の予測 `current_predictions` をこれで初期化します。\n",
    "        2.  指定された `self.n_estimators` の数だけ以下のループを実行します:  \n",
    "            a.  **残差の計算**: `residuals = y_train - current_predictions`。これが次の木が学習するターゲットとなります。  \n",
    "            b.  **回帰用決定木の学習**: `DecisionTreeRegression` クラスのインスタンスを作成し、入力 `X_train` とターゲット `residuals` で学習させます。この際、`max_depth` などのパラメータを渡します。  \n",
    "            c.  学習済みの木を `self.trees_` リストに追加します。  \n",
    "            d.  **現在の予測の更新**: `current_predictions += self.learning_rate * new_tree.predict_single_tree(X_train)`。  \n",
    "\n",
    "*   **`predict` メソッド**:\n",
    "    *   **目的**: 学習済みのGBDTモデルを使って、新しい特徴量データ `X_test` に対する目的変数の値を予測します。\n",
    "    *   **処理の流れ**:\n",
    "        1.  予測値を初期モデル `self.initial_prediction_` (テストデータのサンプル数に合わせてブロードキャスト) で初期化します。\n",
    "        2.  `self.trees_` リスト内の各決定木に対してループを実行し、各木の予測値に学習率 `self.learning_rate` を掛けたものを、現在の予測値に加算していきます。\n",
    "        3.  最終的に得られた予測値を返します。"
   ]
  },
  {
   "cell_type": "markdown",
   "id": "878645a4",
   "metadata": {},
   "source": [
    "### 4.2 `GradientBoostingRegressor` クラスの実装"
   ]
  },
  {
   "cell_type": "code",
   "execution_count": 5,
   "id": "468aa1a8",
   "metadata": {},
   "outputs": [],
   "source": [
    "class GradientBoostingRegressor:\n",
    "    def __init__(self,\n",
    "                 n_estimators=100,\n",
    "                 learning_rate=0.1,\n",
    "                 max_depth=3,\n",
    "                 min_samples_split=2,\n",
    "                 min_samples_leaf=1,\n",
    "                 max_features=None,\n",
    "                 random_state=None):\n",
    "        self.n_estimators = n_estimators\n",
    "        self.learning_rate = learning_rate\n",
    "        self.max_depth = max_depth\n",
    "        self.min_samples_split = min_samples_split\n",
    "        self.min_samples_leaf = min_samples_leaf\n",
    "        self.max_features = max_features\n",
    "        self.random_state = random_state\n",
    "        \n",
    "        self.initial_prediction_ = None\n",
    "        self.trees_ = []\n",
    "        self.feature_types = None\n",
    "\n",
    "    def fit(self, X_train, y_train, feature_type_list):\n",
    "        if self.random_state is not None:\n",
    "            np.random.seed(self.random_state)\n",
    "\n",
    "        self.trees_ = []\n",
    "        self.feature_types = feature_type_list\n",
    "\n",
    "        # 初期モデルF0(X)の決定\n",
    "        self.initial_prediction_ = np.mean(y_train)\n",
    "        current_predictions = np.full(shape=y_train.shape, fill_value=self.initial_prediction_)\n",
    "        \n",
    "        print(f\"Fitting {self.n_estimators} trees with learning rate {self.learning_rate}...\")\n",
    "\n",
    "        for i in range(self.n_estimators):\n",
    "            # 残差の計算\n",
    "            residuals = y_train - current_predictions\n",
    "\n",
    "            # 残差をターゲットとして回帰用の決定木をを学習\n",
    "            tree = DecisionTreeRegression(\n",
    "                max_depth=self.max_depth,\n",
    "                min_samples_split=self.min_samples_split,\n",
    "                min_samples_leaf=self.min_samples_leaf,\n",
    "                max_features=self.max_features,\n",
    "            )\n",
    "\n",
    "            tree.fit(X_train, residuals, self.feature_types)\n",
    "            self.trees_.append(tree)\n",
    "\n",
    "            # モデルの更新\n",
    "            predictions_from_new_tree = tree.predict_single_tree(X_train)\n",
    "            current_predictions += self.learning_rate * predictions_from_new_tree\n",
    "\n",
    "            # 進捗の表示\n",
    "            progress_interval = self.n_estimators // 10 if self.n_estimators >= 10 else 1\n",
    "            if (i + 1) % progress_interval == 0 or i == self.n_estimators - 1:\n",
    "                print(f\"Tree {i + 1}/{self.n_estimators} fitted. Current predictions updated.\")\n",
    "        print(\"Fitting completed.\")\n",
    "\n",
    "    def predict(self, X_test):\n",
    "        if self.initial_prediction_ is None:\n",
    "            raise ValueError(\"Model has not been fitted yet. Call 'fit' before 'predict'.\")\n",
    "        \n",
    "        # 初期予測値を設定\n",
    "        current_predictions = np.full(shape=X_test.shape[0], fill_value=self.initial_prediction_)\n",
    "\n",
    "        # 各決定木からの予測を加算\n",
    "        for tree in self.trees_:\n",
    "            current_predictions += self.learning_rate * tree.predict_single_tree(X_test)\n",
    "\n",
    "        return current_predictions"
   ]
  },
  {
   "cell_type": "markdown",
   "id": "86a72a1f",
   "metadata": {},
   "source": [
    "## 5. モデルの学習と評価 (回帰)"
   ]
  },
  {
   "cell_type": "markdown",
   "id": "aed11c31",
   "metadata": {},
   "source": [
    "\n",
    "### 5.1 サンプルデータでのテスト (回帰)"
   ]
  },
  {
   "cell_type": "code",
   "execution_count": 10,
   "id": "a7c38f34",
   "metadata": {},
   "outputs": [
    {
     "name": "stdout",
     "output_type": "stream",
     "text": [
      "Fitting 100 trees with learning rate 0.1...\n",
      "Tree 10/100 fitted. Current predictions updated.\n",
      "Tree 20/100 fitted. Current predictions updated.\n",
      "Tree 30/100 fitted. Current predictions updated.\n",
      "Tree 40/100 fitted. Current predictions updated.\n",
      "Tree 50/100 fitted. Current predictions updated.\n",
      "Tree 60/100 fitted. Current predictions updated.\n",
      "Tree 70/100 fitted. Current predictions updated.\n",
      "Tree 80/100 fitted. Current predictions updated.\n",
      "Tree 90/100 fitted. Current predictions updated.\n",
      "Tree 100/100 fitted. Current predictions updated.\n",
      "Fitting completed.\n",
      "\n",
      "Sample Data (Regression) - GBDT MSE: 0.0670\n"
     ]
    },
    {
     "data": {
      "image/png": "[encoded data removed]",
      "text/plain": [
       "<Figure size 500x300 with 1 Axes>"
      ]
     },
     "metadata": {},
     "output_type": "display_data"
    }
   ],
   "source": [
    "gbr_sample = GradientBoostingRegressor(\n",
    "    n_estimators=100, \n",
    "    learning_rate=0.1, \n",
    "    max_depth=2,\n",
    "    min_samples_leaf=5,\n",
    "    random_state=42\n",
    ")\n",
    "\n",
    "# 学習\n",
    "gbr_sample.fit(X_sample_reg, y_sample_reg, feature_types_sample_reg)\n",
    "\n",
    "# 予測\n",
    "y_pred_sample_reg = gbr_sample.predict(X_sample_reg)\n",
    "\n",
    "# 簡単な評価 (MSE)\n",
    "mse_sample_reg = np.mean((y_sample_reg - y_pred_sample_reg)**2)\n",
    "print(f\"\\nSample Data (Regression) - GBDT MSE: {mse_sample_reg:.4f}\")\n",
    "\n",
    "# プロットで確認\n",
    "import matplotlib.pyplot as plt # このセルでインポート\n",
    "plt.figure(figsize=(5, 3))\n",
    "plt.scatter(X_sample_reg, y_sample_reg, s=20, edgecolor=\"black\", c=\"darkorange\", label=\"data\")\n",
    "# 予測はX_sample_regがソートされている前提でプロット\n",
    "# X_sample_reg は既にソート済み\n",
    "plt.plot(X_sample_reg, y_pred_sample_reg, color=\"cornflowerblue\", label=\"GBDT prediction\", linewidth=2)\n",
    "plt.xlabel(\"X\")\n",
    "plt.ylabel(\"y\")\n",
    "plt.title(\"GBDT on Sample Regression Data\")\n",
    "plt.legend()\n",
    "plt.show()"
   ]
  },
  {
   "cell_type": "markdown",
   "id": "098325af",
   "metadata": {},
   "source": [
    "### 5.2 California Housingデータセットでのテスト (回帰)"
   ]
  },
  {
   "cell_type": "markdown",
   "id": "5be87f85",
   "metadata": {},
   "source": [
    "より実践的な回帰データセットであるCalifornia Housingデータセットでテストします。\n",
    "(以前のBoston Housingは倫理的問題で使用非推奨のため変更)"
   ]
  },
  {
   "cell_type": "code",
   "execution_count": 8,
   "id": "c08fc7cb",
   "metadata": {},
   "outputs": [
    {
     "name": "stdout",
     "output_type": "stream",
     "text": [
      "California Housing dataset loaded.\n",
      "Data shape X: (20640, 8)\n",
      "Data shape y: (20640,)\n",
      "Housing Training data shape: (16512, 8)\n",
      "Housing Test data shape: (4128, 8)\n"
     ]
    }
   ],
   "source": [
    "from sklearn.datasets import fetch_california_housing\n",
    "from sklearn.model_selection import train_test_split\n",
    "from sklearn.metrics import mean_squared_error, r2_score\n",
    "from sklearn.preprocessing import StandardScaler\n",
    "\n",
    "# California Housingデータセットのロード\n",
    "housing = fetch_california_housing()\n",
    "X_housing = housing.data\n",
    "y_housing = housing.target\n",
    "housing_feature_names = housing.feature_names\n",
    "feature_types_housing = ['numeric'] * X_housing.shape[1]\n",
    "\n",
    "print(\"California Housing dataset loaded.\")\n",
    "print(\"Data shape X:\", X_housing.shape)\n",
    "print(\"Data shape y:\", y_housing.shape)\n",
    "\n",
    "# 特徴量の標準化\n",
    "scaler = StandardScaler()\n",
    "X_housing_scaled = scaler.fit_transform(X_housing)\n",
    "\n",
    "# 訓練データとテストデータに分割\n",
    "X_train_h, X_test_h, y_train_h, y_test_h = train_test_split(\n",
    "    X_housing_scaled, y_housing, test_size=0.2, random_state=42\n",
    ")\n",
    "\n",
    "print(\"Housing Training data shape:\", X_train_h.shape)\n",
    "print(\"Housing Test data shape:\", X_test_h.shape)"
   ]
  },
  {
   "cell_type": "code",
   "execution_count": 9,
   "id": "f9204ded",
   "metadata": {},
   "outputs": [
    {
     "name": "stdout",
     "output_type": "stream",
     "text": [
      "\n",
      "Starting Housing GBDT training...\n",
      "Fitting 100 trees with learning rate 0.1...\n",
      "Tree 10/100 fitted. Current predictions updated.\n",
      "Tree 20/100 fitted. Current predictions updated.\n",
      "Tree 30/100 fitted. Current predictions updated.\n",
      "Tree 40/100 fitted. Current predictions updated.\n",
      "Tree 50/100 fitted. Current predictions updated.\n",
      "Tree 60/100 fitted. Current predictions updated.\n",
      "Tree 70/100 fitted. Current predictions updated.\n",
      "Tree 80/100 fitted. Current predictions updated.\n",
      "Tree 90/100 fitted. Current predictions updated.\n",
      "Tree 100/100 fitted. Current predictions updated.\n",
      "Fitting completed.\n",
      "Housing GBDT training finished in 633.39 seconds.\n",
      "\n",
      "Predicting on Housing test data...\n",
      "\n",
      "Housing Test Data - GBDT MSE: 0.3189\n",
      "Housing Test Data - GBDT R²: 0.7566\n",
      "\n",
      "Housing Training Data - GBDT MSE: 0.2916\n",
      "Housing Training Data - GBDT R²: 0.7819\n"
     ]
    }
   ],
   "source": [
    "# Housingデータセット用GBDTモデル\n",
    "gbr_housing = GradientBoostingRegressor(\n",
    "    n_estimators=100,\n",
    "    learning_rate=0.1,\n",
    "    max_depth=3,\n",
    "    min_samples_leaf=10,\n",
    "    max_features='sqrt', # 特徴量のサブサンプリング\n",
    "    random_state=42\n",
    ")\n",
    "\n",
    "print(\"\\nStarting Housing GBDT training...\")\n",
    "start_time = time.time()\n",
    "\n",
    "# 学習\n",
    "gbr_housing.fit(X_train_h, y_train_h, feature_types_housing)\n",
    "\n",
    "end_time = time.time()\n",
    "training_time_h = end_time - start_time\n",
    "print(f\"Housing GBDT training finished in {training_time_h:.2f} seconds.\")\n",
    "\n",
    "# テストデータで予測\n",
    "print(\"\\nPredicting on Housing test data...\")\n",
    "y_pred_test_h = gbr_housing.predict(X_test_h)\n",
    "\n",
    "# 評価\n",
    "mse_housing_test = mean_squared_error(y_test_h, y_pred_test_h)\n",
    "r2_housing_test = r2_score(y_test_h, y_pred_test_h)\n",
    "\n",
    "print(f\"\\nHousing Test Data - GBDT MSE: {mse_housing_test:.4f}\")\n",
    "print(f\"Housing Test Data - GBDT R²: {r2_housing_test:.4f}\")\n",
    "\n",
    "# (比較) 学習データでの性能\n",
    "y_pred_train_h = gbr_housing.predict(X_train_h)\n",
    "mse_housing_train = mean_squared_error(y_train_h, y_pred_train_h)\n",
    "r2_housing_train = r2_score(y_train_h, y_pred_train_h)\n",
    "print(f\"\\nHousing Training Data - GBDT MSE: {mse_housing_train:.4f}\")\n",
    "print(f\"Housing Training Data - GBDT R²: {r2_housing_train:.4f}\")"
   ]
  },
  {
   "cell_type": "markdown",
   "id": "4bdc4d8c",
   "metadata": {},
   "source": [
    "## 6. 考察 (論文との関連など)\n",
    "\n",
    "*   **実装したアルゴリズム (回帰 - 二乗誤差損失)**:\n",
    "    *   Friedmanの勾配ブースティングの枠組みに基づき、各イテレーションで現在のモデルの残差（二乗誤差損失の負の勾配）に対して**回帰用決定木 (`DecisionTreeRegression`)** を学習させました。\n",
    "    *   学習率を導入し、各木の寄与を調整しています。\n",
    "*   **論文 (Friedman, 2001) との関連**:\n",
    "    *   今回の実装は、論文のAlgorithm 2 (LS_Boost) に非常に近いです。LS_Boostは二乗誤差損失に対する勾配ブースティングの手順そのものです。\n",
    "        *   `F₀(x) = mean(y)` (初期化)\n",
    "        *   各ステップ `m` で残差 `ỹᵢ = yᵢ - F_{m-1}(xᵢ)` を計算し、これに対して決定木 `h_m(x)` をフィットさせます。\n",
    "        *   モデルを `F_m(x) = F_{m-1}(x) + ν * h_m(x)` のように更新します（`ν` は学習率）。\n",
    "    *   論文では、より一般の損失関数に対する勾配ブースティング (Algorithm 1) や、LAD損失 (Algorithm 3)、Huber損失 (Algorithm 4)、分類用のLogLoss (Algorithm 5, 6) など、様々な損失関数への応用が詳細に議論されています。\n",
    "    *   正規化 (Regularization) として、学習率 `ν` (shrinkage) と木の数 `M` (`n_estimators`) が重要です (Section 5)。また、木の深さ (`max_depth` などで制御される葉の数 `J`) も重要なハイパーパラメータです (Section 7)。\n",
    "*   **改善点や今後の課題**:\n",
    "    *   **損失関数の一般化**: 今回は二乗誤差損失に特化しましたが、他の微分可能な損失関数（LAD、Huber、分類用のLogLossなど）にも拡張可能です。そのためには、各損失関数に対応する負の勾配を計算し、それをターゲットとして決定木を学習させる必要があります。分類の場合は、確率予測とそれに対応する損失関数の勾配を扱うことになります。\n",
    "    *   **ラインサーチ**: 学習率 `ν` を固定する代わりに、論文で提案されているように各ステップで最適なステップサイズ `ρ_m` をラインサーチで決定することで、より効率的な学習や性能向上が期待できる場合があります（実装は複雑になります）。特に、各木の葉ノードの値を、その葉ノードに含まれるサンプルの勾配に基づいて最適化する方法が一般的です。\n",
    "    *   **早期停止 (Early Stopping)**: 検証セットを用意し、検証セットの誤差が悪化し始めたら学習を停止する早期停止を導入することで、最適な `n_estimators` を見つけることができます。\n",
    "    *   **サブサンプリング (Stochastic Gradient Boosting)**: 各木を学習する際に、訓練データの一部をランダムに（非復元）サンプリングして使用する手法です。これにより、計算コストを削減し、バリアンスを減らして過学習を抑制する効果が期待できます。\n",
    "    *   **分類タスクへの対応**: 分類タスク（例：二値分類、多クラス分類）に対応するには、適切な損失関数（例：LogLoss、指数損失）とその勾配を定義し、確率を出力するようにモデルを修正する必要があります。多クラス分類では、クラスごとにモデル（または木のセット）を構築することが一般的です。"
   ]
  }
 ],
 "metadata": {
  "kernelspec": {
   "display_name": "base",
   "language": "python",
   "name": "python3"
  },
  "language_info": {
   "codemirror_mode": {
    "name": "ipython",
    "version": 3
   },
   "file_extension": ".py",
   "mimetype": "text/x-python",
   "name": "python",
   "nbconvert_exporter": "python",
   "pygments_lexer": "ipython3",
   "version": "3.12.7"
  }
 },
 "nbformat": 4,
 "nbformat_minor": 5
}
