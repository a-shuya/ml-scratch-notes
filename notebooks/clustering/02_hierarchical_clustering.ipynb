{
 "cells": [
  {
   "cell_type": "markdown",
   "id": "01503b3d",
   "metadata": {},
   "source": [
    "# 02: 階層的クラスタリング (Hierarchical Clustering)\n",
    "\n",
    "このノートブックでは、K-meansとは異なるアプローチをとるクラスタリング手法である「階層的クラスタリング」について学びます。\n",
    "この手法は、データ間の類似度に基づいて、データを段階的にグループ化していき、最終的に樹形図（デンドログラム）で表現される階層的なクラスタ構造を構築します。\n",
    "\n",
    "K-meansのように事前にクラスタ数 $K$ を指定する必要がなく、デンドログラムを分析することで、データに適したクラスタ数を事後的に判断できるのが大きな特徴です。\n",
    "\n",
    "このノートブックでは、ボトムアップにクラスタを併合していく**凝集型**と、トップダウンにクラスタを分割していく**分割型**の2つのアプローチを学び、特に広く使われている凝集型クラスタリングをNumPyでスクラッチ実装します。\n",
    "\n",
    "**参考論文:**\n",
    "*   (Ward's method) Ward, J. H. (1963). Hierarchical Grouping to Optimize an Objective Function. *Journal of the American Statistical Association*, 58(301), 236-244.\n",
    "\n",
    "**このノートブックで学ぶこと:**\n",
    "1.  階層的クラスタリングの基本概念と、2つのアプローチ（凝集型・分割型）。\n",
    "2.  凝集型クラスタリングのアルゴリズム。\n",
    "3.  クラスタ間の距離（非類似度）を測る様々な手法（リンケージ法）：単連結、完全連結、群平均、ウォード法。\n",
    "4.  ウォード法（Ward's method）の目的：クラスタ併合による分散の増加を最小化する。\n",
    "5.  NumPyを用いた凝集型クラスタリング（ウォード法）のスクラッチ実装。\n",
    "6.  結果を可視化するためのデンドログラムの作成と解釈。\n",
    "\n",
    "**前提知識:**\n",
    "*   ユークリッド距離の計算。\n",
    "*   統計学の基礎知識（分散）。\n",
    "*   NumPyによるベクトル・行列演算。\n",
    "*   MatplotlibとSciPyによる可視化。"
   ]
  },
  {
   "cell_type": "markdown",
   "id": "04230b48",
   "metadata": {},
   "source": [
    "## 1. 必要なライブラリのインポート\n",
    "\n",
    "今回は、デンドログラムの描画のために`scipy.cluster.hierarchy`を利用します。アルゴリズムの核心部分はNumPyで実装します。"
   ]
  },
  {
   "cell_type": "code",
   "execution_count": 22,
   "id": "f916ff73",
   "metadata": {},
   "outputs": [],
   "source": [
    "import numpy as np\n",
    "import matplotlib.pyplot as plt\n",
    "from sklearn.datasets import make_blobs\n",
    "from scipy.cluster.hierarchy import dendrogram, linkage"
   ]
  },
  {
   "cell_type": "markdown",
   "id": "cd4f24b4",
   "metadata": {},
   "source": [
    "## 2. 階層的クラスタリングの理論\n",
    "\n",
    "階層的クラスタリングは、データポイント間の類似度に基づき、入れ子構造（階層構造）のクラスタを構築します。主に2つのアプローチがあります。"
   ]
  },
  {
   "cell_type": "markdown",
   "id": "0941ae94",
   "metadata": {},
   "source": [
    "### 2.1 凝集型 (Agglomerative) アプローチ\n",
    "\n",
    "凝集型クラスタリングは「ボトムアップ」のアプローチです。\n",
    "\n",
    "1.  **初期化**: 全てのデータポイントを、それぞれが独立した1つのクラスタとみなします（$N$個のクラスタからスタート）。\n",
    "2.  **反復**:\n",
    "    a.  全てのクラスタのペア間の**距離（非類似度）**を計算します。\n",
    "    b.  最も距離が近い（最も似ている）2つのクラスタを**併合**して、1つの新しいクラスタを作ります。\n",
    "    c.  クラスタの数が1になるまで、ステップ a, b を繰り返します。\n",
    "\n",
    "この併合の過程を記録することで、階層的な構造が得られます。"
   ]
  },
  {
   "cell_type": "markdown",
   "id": "53e27b25",
   "metadata": {},
   "source": [
    "### 2.2 分割型 (Divisive) アプローチ\n",
    "\n",
    "分割型クラスタリングは「トップダウン」のアプローチです。\n",
    "\n",
    "1.  **初期化**: 全てのデータポイントを、1つの巨大なクラスタとみなします。\n",
    "2.  **反復**:\n",
    "    a.  現在の各クラスタについて、どのように2つに分割すれば最も良い分割になるかを評価します。\n",
    "    b.  最も適切に分割できるクラスタを選び、2つに分割します。\n",
    "    c.  全てのデータポイントがそれぞれ独立したクラスタになるまで、ステップ a, b を繰り返します。\n",
    "\n",
    "分割型は計算コストが非常に高いため、一般的には**凝集型**のアプローチが広く用いられます。このノートブックでも、凝集型に焦点を当てて解説と実装を行います。"
   ]
  },
  {
   "cell_type": "markdown",
   "id": "921510a2",
   "metadata": {},
   "source": [
    "## 3. クラスタ間の距離：リンケージ法\n",
    "\n",
    "凝集型クラスタリングの核心は、「どのクラスタペアを併合するか」を決定するための**クラスタ間の距離**の定義です。この定義方法を**リンケージ法 (Linkage Method)** と呼びます。\n",
    "\n",
    "クラスタ $A$ とクラスタ $B$ があるとき、その距離 $d(A, B)$ を計算する代表的な手法は以下の通りです。\n",
    "\n",
    "*   **単連結法 (Single Linkage)**: 2つのクラスタ内のデータポイント間の全ての組み合わせの中で、**最も短い距離**をクラスタ間距離とします。\n",
    "    $$ d(A, B) = \\min_{\\boldsymbol{x} \\in A, \\boldsymbol{y} \\in B} ||\\boldsymbol{x} - \\boldsymbol{y}|| $$\n",
    "*   **完全連結法 (Complete Linkage)**: 2つのクラスタ内のデータポイント間の全ての組み合わせの中で、**最も長い距離**をクラスタ間距離とします。\n",
    "    $$ d(A, B) = \\max_{\\boldsymbol{x} \\in A, \\boldsymbol{y} \\in B} ||\\boldsymbol{x} - \\boldsymbol{y}|| $$\n",
    "*   **群平均法 (Average Linkage, UPGMA)**: 2つのクラスタ内のデータポイント間の全ての組み合わせの**距離の平均**をクラスタ間距離とします。\n",
    "    $$ d(A, B) = \\frac{1}{|A||B|} \\sum_{\\boldsymbol{x} \\in A} \\sum_{\\boldsymbol{y} \\in B} ||\\boldsymbol{x} - \\boldsymbol{y}|| $$\n",
    "*   **ウォード法 (Ward's Method)**: 2つのクラスタを併合した際に、**クラスタ内平方和（WCSS）がどれだけ増加するか**をクラスタ間距離とします。この増加量が最小となるペアを併合します。\n",
    "    $$ d(A, B) = \\text{WCSS}(A \\cup B) - (\\text{WCSS}(A) + \\text{WCSS}(B)) $$\n",
    "    ここで、$\\text{WCSS}(C) = \\sum_{\\boldsymbol{x}_i \\in C} ||\\boldsymbol{x}_i - \\boldsymbol{\\mu}_C||^2$ であり、$\\boldsymbol{\\mu}_C$ はクラスタ $C$ の重心です。\n",
    "\n",
    "ウォード法は、K-meansと同様の目的関数（WCSSの最小化）を、階層的・貪欲法的に達成しようとするアプローチであり、コンパクトな球状のクラスタを生成する傾向があります。今回は、このウォード法を実装します。"
   ]
  },
  {
   "cell_type": "markdown",
   "id": "0ff9a8f8",
   "metadata": {},
   "source": [
    "## 4. 凝集型階層的クラスタリングの実装"
   ]
  },
  {
   "cell_type": "markdown",
   "id": "4548fff9",
   "metadata": {},
   "source": [
    "### 4.1 データの準備"
   ]
  },
  {
   "cell_type": "code",
   "execution_count": 23,
   "id": "55e53ad1",
   "metadata": {},
   "outputs": [
    {
     "data": {
      "image/png": "[encoded data removed]",
      "text/plain": [
       "<Figure size 600x500 with 1 Axes>"
      ]
     },
     "metadata": {},
     "output_type": "display_data"
    }
   ],
   "source": [
    "# 人工データの生成\n",
    "X, y_true = make_blobs(n_samples=15, centers=3, cluster_std=1.0, random_state=42)\n",
    "\n",
    "# データをプロット\n",
    "plt.figure(figsize=(6, 5))\n",
    "plt.scatter(X[:, 0], X[:, 1], s=50)\n",
    "for i, (x, y) in enumerate(X):\n",
    "    plt.text(x, y, str(i), fontsize=12)\n",
    "plt.title(\"Generated Data with Point Indices\")\n",
    "plt.xlabel(\"Feature 1\")\n",
    "plt.ylabel(\"Feature 2\")\n",
    "plt.show()"
   ]
  },
  {
   "cell_type": "markdown",
   "id": "0f33e789",
   "metadata": {},
   "source": [
    "### 4.2 ウォード法の実装\n",
    "\n",
    "ウォード法における2つのクラスタ $C_i, C_j$ を併合した際のWCSSの増加量は、以下の式で効率的に計算できます。\n",
    "\n",
    "$$\n",
    "\\Delta \\text{WCSS}(C_i, C_j) = \\frac{n_i n_j}{n_i + n_j} ||\\boldsymbol{\\mu}_i - \\boldsymbol{\\mu}_j||^2\n",
    "$$\n",
    "\n",
    "ここで、$n_i, n_j$ は各クラスタのデータポイント数、$\\boldsymbol{\\mu}_i, \\boldsymbol{\\mu}_j$ は各クラスタの重心です。この値を全てのクラスタペアについて計算し、最小となるペアを併合していきます。"
   ]
  },
  {
   "cell_type": "code",
   "execution_count": 24,
   "id": "9dc6c9c4",
   "metadata": {},
   "outputs": [],
   "source": [
    "def ward_distance(cluster1, cluster2):\n",
    "    '''ウォード法に基づき，2つのクラスタを併合した際のWCSSの増加量を計算'''\n",
    "    n1 = cluster1['n_points']\n",
    "    n2 = cluster2['n_points']\n",
    "    mu1 = cluster1['centroid']\n",
    "    mu2 = cluster2['centroid']\n",
    "\n",
    "    # WCSSの増加量を計算（SciPyと同じ形式にするため平方根を取る）\n",
    "    distance = np.sqrt((n1*n2) / (n1+n2) * np.sum((mu1 - mu2) ** 2))\n",
    "    return distance\n",
    "\n",
    "def agglomerative_clustering(x, n_clusters=None):\n",
    "    '''ウォード法を用いた凝集型クラスタリング'''\n",
    "    n_points = len(x)\n",
    "    \n",
    "    # 初期化：各データポイントを個別のクラスタとして扱う\n",
    "    current_clusters = []\n",
    "    for i in range(n_points):\n",
    "        cluster = {\n",
    "            'centroid': x[i], \n",
    "            'n_points': 1, \n",
    "            'indices': [i],\n",
    "            'id': i  # 初期IDは0からn_points-1\n",
    "        }\n",
    "        current_clusters.append(cluster)\n",
    "\n",
    "    # 併合の履歴を記録するリスト\n",
    "    linkage_matrix = []\n",
    "    next_cluster_id = n_points  # 新しいクラスタのIDは n_points から開始\n",
    "\n",
    "    # クラスタが1つになるまでループ\n",
    "    while len(current_clusters) > 1:\n",
    "        min_dist = float('inf')\n",
    "        merge_pair = (-1, -1)\n",
    "\n",
    "        # すべてのクラスタペア間の距離を計算\n",
    "        for i in range(len(current_clusters)):\n",
    "            for j in range(i+1, len(current_clusters)):\n",
    "                dist = ward_distance(current_clusters[i], current_clusters[j])\n",
    "\n",
    "                if dist < min_dist:\n",
    "                    min_dist = dist\n",
    "                    merge_pair = (i, j)\n",
    "\n",
    "        # 最小距離のクラスタを併合\n",
    "        i, j = merge_pair\n",
    "        cluster1 = current_clusters[i]\n",
    "        cluster2 = current_clusters[j]\n",
    "        \n",
    "        # 新しいクラスタの情報を計算\n",
    "        n1, n2 = cluster1['n_points'], cluster2['n_points']\n",
    "        new_n_points = n1 + n2\n",
    "        new_centroid = (n1 * cluster1['centroid'] + n2 * cluster2['centroid']) / new_n_points\n",
    "        new_indices = cluster1['indices'] + cluster2['indices']\n",
    "        \n",
    "        # 併合履歴を記録（SciPyの形式に合わせる）\n",
    "        linkage_row = [\n",
    "            float(cluster1['id']), \n",
    "            float(cluster2['id']), \n",
    "            min_dist, \n",
    "            float(new_n_points)\n",
    "        ]\n",
    "        linkage_matrix.append(linkage_row)\n",
    "\n",
    "        # 新しいクラスタを作成\n",
    "        new_cluster = {\n",
    "            'centroid': new_centroid, \n",
    "            'n_points': new_n_points, \n",
    "            'indices': new_indices,\n",
    "            'id': next_cluster_id\n",
    "        }\n",
    "        next_cluster_id += 1\n",
    "\n",
    "        # 古いクラスタを削除し、新しいクラスタを追加\n",
    "        # インデックスの大きい方から削除して、インデックスのずれを防ぐ\n",
    "        current_clusters.pop(max(i, j))\n",
    "        current_clusters.pop(min(i, j))\n",
    "        current_clusters.append(new_cluster)\n",
    "\n",
    "    return np.array(linkage_matrix)"
   ]
  },
  {
   "cell_type": "code",
   "execution_count": 25,
   "id": "ca03f8c4",
   "metadata": {},
   "outputs": [
    {
     "name": "stdout",
     "output_type": "stream",
     "text": [
      "Scratch Implementation Linkage Matrix (first 5 rows):\n",
      "[[10.         12.          0.36109891  2.        ]\n",
      " [ 5.         13.          0.60231999  2.        ]\n",
      " [ 3.          8.          0.61167895  2.        ]\n",
      " [ 4.          6.          0.68987576  2.        ]\n",
      " [ 1.         14.          0.71298142  2.        ]]\n"
     ]
    }
   ],
   "source": [
    "# スクラッチ実装を実行\n",
    "Z_scratch = agglomerative_clustering(X)\n",
    "\n",
    "print(\"Scratch Implementation Linkage Matrix (first 5 rows):\")\n",
    "print(Z_scratch[:5])"
   ]
  },
  {
   "cell_type": "markdown",
   "id": "f51478a1",
   "metadata": {},
   "source": [
    "## 5. デンドログラムによる可視化\n",
    "\n",
    "階層的クラスタリングの結果は、**デンドログラム（樹形図）**で可視化するのが一般的です。デンドログラムは、クラスタがどの順序で、どの「距離」で併合されたかを示します。\n",
    "\n",
    "`scipy.cluster.hierarchy.dendrogram` を使って、先ほどスクラッチ実装で得られたリンケージ行列を可視化してみましょう。比較のため、SciPyに組み込まれているウォード法の結果も表示します。"
   ]
  },
  {
   "cell_type": "code",
   "execution_count": 27,
   "id": "1e2c00b9",
   "metadata": {},
   "outputs": [
    {
     "data": {
      "image/png": "[encoded data removed]",
      "text/plain": [
       "<Figure size 800x500 with 2 Axes>"
      ]
     },
     "metadata": {},
     "output_type": "display_data"
    }
   ],
   "source": [
    "# SciPyのウォード法でリンケージ行列を計算（比較用）\n",
    "Z_scipy = linkage(X, method='ward')\n",
    "\n",
    "# デンドログラムの描画\n",
    "fig, axes = plt.subplots(1, 2, figsize=(8, 5))\n",
    "\n",
    "# スクラッチ実装の結果をプロット\n",
    "axes[0].set_title('Dendrogram (Scratch Implementation)')\n",
    "axes[0].set_xlabel('Data Point Index')\n",
    "axes[0].set_ylabel('Distance (Increase in WCSS)')\n",
    "dendrogram(Z_scratch, ax=axes[0])\n",
    "\n",
    "# SciPyの結果をプロット\n",
    "axes[1].set_title('Dendrogram (SciPy Implementation)')\n",
    "axes[1].set_xlabel('Data Point Index')\n",
    "axes[1].set_ylabel('Distance (Increase in WCSS)')\n",
    "dendrogram(Z_scipy, ax=axes[1])\n",
    "\n",
    "plt.show()"
   ]
  },
  {
   "cell_type": "markdown",
   "id": "3f4c8757",
   "metadata": {},
   "source": [
    "**デンドログラムの解釈:**\n",
    "*   **横軸**: 個々のデータポイントまたはクラスタを示します。\n",
    "*   **縦軸**: クラスタ間の距離（この場合はWCSSの増加量）を示します。縦線の高さが、その併合が行われたときの距離です。\n",
    "*   **クラスタ数の決定**: デンドログラムを水平に「切る」ことで、任意の数のクラスタを得ることができます。例えば、縦軸の距離が長いところで切ると、そこが自然なクラスタの境界であると解釈できます。上の図では、距離10あたりで切ると3つのクラスタが得られ、これが妥当な分割であると推測できます。\n",
    "\n",
    "スクラッチ実装とSciPyの実装が同じデンドログラムを生成しており、アルゴリズムが正しく実装されていることが確認できました。"
   ]
  },
  {
   "cell_type": "markdown",
   "id": "b8b0add4",
   "metadata": {},
   "source": [
    "## 6. まとめと考察\n",
    "\n",
    "このノートブックでは、階層的クラスタリング、特に凝集型アプローチとその代表的な手法であるウォード法について学び、スクラッチ実装を行いました。\n",
    "\n",
    "*   **階層的クラスタリング**は、データの階層的な構造を明らかにすることができる強力な教師なし学習手法です。\n",
    "*   **凝集型クラスタリング**は、ボトムアップに最も似ているクラスタを次々と併合していくアプローチです。\n",
    "*   どのクラスタを併合するかの基準である**リンケージ法**には、単連結、完全連結、ウォード法など様々な種類があり、それぞれ生成されるクラスタの形状が異なります。\n",
    "*   **ウォード法**は、クラスタ併合による**分散の増加を最小化**することを目的としており、コンパクトでバランスの取れたクラスタを形成する傾向があります。\n",
    "*   結果は**デンドログラム**で可視化され、これを見ることで適切なクラスタ数を判断する手がかりが得られます。\n",
    "\n",
    "K-meansが事前にクラスタ数$K$を必要とするのに対し、階層的クラスタリングはその必要がなく、データの構造をより深く洞察できるという利点があります。一方で、計算量がデータ数の2乗以上に比例するため、大規模なデータセットには適用が難しいという欠点もあります。\n",
    "\n",
    "タスクの目的やデータセットの規模に応じて、K-meansと階層的クラスタリングを適切に使い分けることが重要です。"
   ]
  }
 ],
 "metadata": {
  "kernelspec": {
   "display_name": "base",
   "language": "python",
   "name": "python3"
  },
  "language_info": {
   "codemirror_mode": {
    "name": "ipython",
    "version": 3
   },
   "file_extension": ".py",
   "mimetype": "text/x-python",
   "name": "python",
   "nbconvert_exporter": "python",
   "pygments_lexer": "ipython3",
   "version": "3.12.7"
  }
 },
 "nbformat": 4,
 "nbformat_minor": 5
}
