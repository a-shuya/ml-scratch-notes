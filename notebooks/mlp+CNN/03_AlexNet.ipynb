{
 "cells": [
  {
   "cell_type": "markdown",
   "id": "7c6cccf3",
   "metadata": {
    "id": "7c6cccf3"
   },
   "source": [
    "# AlexNet (Deep Convolutional Neural Network) の主要コンポーネントと実装\n",
    "\n",
    "このノートブックでは、2012年のImageNet LSVRCで大きな成功を収めたAlexNetアーキテクチャの主要な構成要素と、そのPyTorchによる実装について学びます。\n",
    "AlexNetは、より深いネットワーク、ReLU活性化関数、Dropout、Local Response Normalization (LRN)、複数GPUによる学習といった新しいアイデアを導入し、その後の深層学習研究に大きな影響を与えました。\n",
    "\n",
    "**参考論文:**\n",
    "*   Krizhevsky, A., Sutskever, I., & Hinton, G. E. (2012). ImageNet classification with deep convolutional neural networks. In *Advances in neural information processing systems* (Vol. 25).\n",
    "\n",
    "**このノートブックで学ぶこと:**\n",
    "1.  AlexNetのアーキテクチャの概要\n",
    "2.  主要な新しいコンポーネントの理解とNumPyによる概念実装:\n",
    "    *   ReLU活性化関数 (再確認)\n",
    "    *   Local Response Normalization (LRN)\n",
    "    *   Dropout\n",
    "    *   Overlapping Pooling\n",
    "3.  PyTorchを使ったAlexNetモデルの実装\n",
    "4.  CIFAR-10データセットでの学習と評価（簡易版）\n",
    "\n",
    "**前提知識:**\n",
    "*   LeNet-5のノートブックで学んだCNNの基礎（畳み込み、プーリング、全結合層）\n",
    "*   PyTorchの基本的な使い方（モデル定義、データローダー、学習ループ）"
   ]
  },
  {
   "cell_type": "markdown",
   "id": "e494da1f",
   "metadata": {
    "id": "e494da1f"
   },
   "source": [
    " ## 1. 必要なライブラリのインポート"
   ]
  },
  {
   "cell_type": "code",
   "execution_count": 22,
   "id": "cf55f940",
   "metadata": {
    "colab": {
     "base_uri": "https://localhost:8080/"
    },
    "executionInfo": {
     "elapsed": 9,
     "status": "ok",
     "timestamp": 1748938713563,
     "user": {
      "displayName": "赤川秀哉",
      "userId": "15971507334070170989"
     },
     "user_tz": -540
    },
    "id": "cf55f940",
    "outputId": "9213d7fc-e63c-4611-d5a3-8661084688c2"
   },
   "outputs": [
    {
     "name": "stdout",
     "output_type": "stream",
     "text": [
      "PyTorch Version: 2.6.0+cu124\n",
      "Torchvision Version: 0.21.0+cu124\n",
      "Using device: cuda\n"
     ]
    }
   ],
   "source": [
    "import numpy as np\n",
    "import matplotlib.pyplot as plt\n",
    "import torch\n",
    "import torch.nn as nn\n",
    "import torch.optim as optim\n",
    "import torchvision\n",
    "import torchvision.transforms as transforms\n",
    "from torch.utils.data import DataLoader\n",
    "import time\n",
    "\n",
    "print(f\"PyTorch Version: {torch.__version__}\")\n",
    "print(f\"Torchvision Version: {torchvision.__version__}\")\n",
    "\n",
    "device = torch.device(\"cuda\" if torch.cuda.is_available() else \"cpu\")\n",
    "print(f\"Using device: {device}\")"
   ]
  },
  {
   "cell_type": "markdown",
   "id": "99f57bb4",
   "metadata": {
    "id": "99f57bb4"
   },
   "source": [
    "## 2. AlexNetの主要な新しいコンポーネントとNumPyによる概念実装\n",
    "\n",
    "AlexNetは、LeNet-5をベースにしながらも、いくつかの重要な新しい要素を導入しました。"
   ]
  },
  {
   "cell_type": "markdown",
   "id": "efad69b0",
   "metadata": {
    "id": "efad69b0"
   },
   "source": [
    "### 2.1 ReLU活性化関数 (Rectified Linear Unit) - 再確認\n",
    "\n",
    "*   **概念:**\n",
    "    $\\text{ReLU}(x) = \\max(0, x)$\n",
    "    AlexNetでは、従来のSigmoidやTanhといった飽和する活性化関数ではなく、非飽和のReLUが全面的に採用されました。これにより、勾配消失問題が緩和され、深いネットワークの学習が大幅に高速化されました。\n",
    "*   **微分:** $\\text{ReLU}'(x) = 1 \\text{ if } x > 0 \\text{ else } 0$\n",
    "\n",
    "(NumPyによる実装はMLPまたはLeNet-5のノートブックで既出のため、ここでは再掲を省略し、PyTorchでは `nn.ReLU()` を使用します)"
   ]
  },
  {
   "cell_type": "markdown",
   "id": "54239fde",
   "metadata": {
    "id": "54239fde"
   },
   "source": [
    "### 2.2 Local Response Normalization (LRN)\n",
    "\n",
    "*   **概念:**\n",
    "    LRNは、生物の神経系で見られる側方抑制（lateral inhibition）に着想を得た正規化手法です。同じ空間位置にあるが異なるカーネル（チャネル）によって計算されたニューロンの応答間で競合を生じさせ、大きな応答をさらに強調し、小さな応答を抑制する効果があります。\n",
    "    論文では、ReLUの後に適用され、汎化性能の向上に寄与したとされています。\n",
    "    \n",
    "    $i$番目のカーネルによる位置$(x,y)$での活性化値 $a^i_{x,y}$ に対する正規化後の値 $b^i_{x,y}$ は以下のように計算されます。\n",
    "    \n",
    "    $b^i_{x,y} = \\frac{a^i_{x,y}}{\\left(k + \\frac{\\alpha}{n} \\sum_{j=\\max(0, i-n/2)}^{\\min(N-1, i+n/2)} (a^j_{x,y})^2\\right)^\\beta}$\n",
    "    \n",
    "    ここで、\n",
    "    *   $N$: 同じ空間位置にあるカーネル（チャネル）の総数。\n",
    "    *   $n$: 正規化ウィンドウのサイズ（隣接するいくつのチャネルを見るか）。\n",
    "    *   $k, \\alpha, \\beta$: ハイパーパラメータ。論文では $k=2, n=5, \\alpha=10^{-4}, \\beta=0.75$。\n",
    "    \n",
    "    **注意:** LRNは現代のCNNアーキテクチャでは、Batch Normalizationなどのより効果的な正規化手法に取って代わられることが多いです。しかし、AlexNetの重要な構成要素の一つとして理解しておく価値があります。"
   ]
  },
  {
   "cell_type": "code",
   "execution_count": 23,
   "id": "2af94a83",
   "metadata": {
    "executionInfo": {
     "elapsed": 15,
     "status": "ok",
     "timestamp": 1748938713579,
     "user": {
      "displayName": "赤川秀哉",
      "userId": "15971507334070170989"
     },
     "user_tz": -540
    },
    "id": "2af94a83"
   },
   "outputs": [],
   "source": [
    "def local_response_normalization(feature_maps, n=5, k=2, alpha=1e-4, beta=0.75):\n",
    "    '''\n",
    "    Local Response Normalization (LRN) の実装\n",
    "    parameters:\n",
    "        feature_maps: 入力の特徴マップ (バッチサイズ， チャンネル数，高さ，幅)\n",
    "        n: 正規ウィンドウのサイズ\n",
    "        k, alpha, beta: LRNのパラメータ\n",
    "    returns:\n",
    "        正規化された特徴マップ\n",
    "    '''\n",
    "    if feature_maps.ndim != 4:\n",
    "        raise ValueError(\"Input feature_maps must be a 4D tensor (batch_size, channels, height, width)\")\n",
    "\n",
    "    batch_size, num_channels, height, width = feature_maps.shape\n",
    "    normalized_maps = np.zeros_like(feature_maps)\n",
    "\n",
    "    # 各チャネル，各ピクセル位置で計算\n",
    "    for b_idx in range(batch_size):\n",
    "        for y_idx in range(height):\n",
    "            for x_idx in range(width):\n",
    "                for c_idx in range(num_channels):\n",
    "                    # 正規化ウィンドウの範囲を決定\n",
    "                    sum_start = max(0, c_idx - n // 2)\n",
    "                    sum_end = min(num_channels - 1, c_idx + n // 2)\n",
    "\n",
    "                    # 隣接チャネルの応答の二乗和\n",
    "                    sum_sq_response = 0.0\n",
    "                    for j_idx in range(sum_start, sum_end + 1):\n",
    "                        sum_sq_response += feature_maps[b_idx, j_idx, y_idx, x_idx] ** 2\n",
    "\n",
    "                    denominator = (k + (alpha / n) * sum_sq_response) ** beta\n",
    "                    normalized_maps[b_idx, c_idx, y_idx, x_idx] = feature_maps[b_idx, c_idx, y_idx, x_idx] / denominator\n",
    "    return normalized_maps"
   ]
  },
  {
   "cell_type": "code",
   "execution_count": 24,
   "id": "63cc8f8f",
   "metadata": {
    "colab": {
     "base_uri": "https://localhost:8080/",
     "height": 531
    },
    "executionInfo": {
     "elapsed": 84,
     "status": "ok",
     "timestamp": 1748938713662,
     "user": {
      "displayName": "赤川秀哉",
      "userId": "15971507334070170989"
     },
     "user_tz": -540
    },
    "id": "63cc8f8f",
    "outputId": "1b69584f-7e2a-4149-8073-2816259ee0f4"
   },
   "outputs": [
    {
     "name": "stdout",
     "output_type": "stream",
     "text": [
      "--- LRNテスト ---\n"
     ]
    },
    {
     "data": {
      "application/vnd.google.colaboratory.intrinsic+json": {
       "type": "string"
      },
      "text/plain": [
       "'LRN入力:\\n'"
      ]
     },
     "metadata": {},
     "output_type": "display_data"
    },
    {
     "data": {
      "text/plain": [
       "array([[[[4.6411304, 0.3323043],\n",
       "         [4.830922 , 2.6976955]],\n",
       "\n",
       "        [[4.4704013, 1.8251495],\n",
       "         [1.6478771, 3.2665422]],\n",
       "\n",
       "        [[2.4565368, 0.9948551],\n",
       "         [0.2036429, 1.8551968]]]], dtype=float32)"
      ]
     },
     "metadata": {},
     "output_type": "display_data"
    },
    {
     "data": {
      "application/vnd.google.colaboratory.intrinsic+json": {
       "type": "string"
      },
      "text/plain": [
       "'\\nLRN出力 (NumPy):\\n'"
      ]
     },
     "metadata": {},
     "output_type": "display_data"
    },
    {
     "data": {
      "text/plain": [
       "array([[[[2.7586486 , 0.19758275],\n",
       "         [2.8719213 , 1.6038021 ]],\n",
       "\n",
       "        [[2.6571686 , 1.0852044 ],\n",
       "         [0.97964185, 1.9419861 ]],\n",
       "\n",
       "        [[1.4601446 , 0.5915247 ],\n",
       "         [0.1210631 , 1.1029297 ]]]], dtype=float32)"
      ]
     },
     "metadata": {},
     "output_type": "display_data"
    },
    {
     "data": {
      "application/vnd.google.colaboratory.intrinsic+json": {
       "type": "string"
      },
      "text/plain": [
       "'\\nLRN出力 (PyTorch):\\n'"
      ]
     },
     "metadata": {},
     "output_type": "display_data"
    },
    {
     "data": {
      "text/plain": [
       "array([[[[2.7586486 , 0.19758275],\n",
       "         [2.8719213 , 1.6038021 ]],\n",
       "\n",
       "        [[2.6571686 , 1.0852044 ],\n",
       "         [0.97964185, 1.9419861 ]],\n",
       "\n",
       "        [[1.4601446 , 0.5915247 ],\n",
       "         [0.1210631 , 1.1029297 ]]]], dtype=float32)"
      ]
     },
     "metadata": {},
     "output_type": "display_data"
    }
   ],
   "source": [
    "# テスト\n",
    "print(\"--- LRNテスト ---\")\n",
    "# ダミー入力 (バッチサイズ1, 3チャネル, 2x2画像)\n",
    "dummy_lrn_input = np.random.rand(1, 3, 2, 2).astype(np.float32) * 5\n",
    "display(\"LRN入力:\\n\", dummy_lrn_input)\n",
    "\n",
    "lrn_output_numpy = local_response_normalization(dummy_lrn_input)\n",
    "display(\"\\nLRN出力 (NumPy):\\n\", lrn_output_numpy)\n",
    "\n",
    "# PyTorchにも nn.LocalResponseNorm があるので比較可能\n",
    "lrn_torch_layer = nn.LocalResponseNorm(size=5, alpha=1e-4, beta=0.75, k=2)\n",
    "lrn_output_torch = lrn_torch_layer(torch.from_numpy(dummy_lrn_input))\n",
    "display(\"\\nLRN出力 (PyTorch):\\n\", lrn_output_torch.detach().numpy())"
   ]
  },
  {
   "cell_type": "markdown",
   "id": "c209c150",
   "metadata": {
    "id": "c209c150"
   },
   "source": [
    "### 2.3 Dropout\n",
    "\n",
    "*   **概念:**\n",
    "    Dropoutは、訓練時にニューラルネットワークの過学習を抑制するための非常に効果的な正則化手法です。\n",
    "    *   **訓練時:** 各訓練バッチにおいて、隠れ層の各ニューロンを一定の確率 $p$ (通常0.5など) でランダムに「ドロップアウト」（無効化）します。つまり、そのニューロンの出力は0になり、順伝播・逆伝播の計算にも関与しません。これにより、毎回異なる部分的なネットワークが学習されることになり、ニューロン間の複雑な共適応（co-adaptation）が抑制され、より頑健な特徴が学習されることが期待されます。\n",
    "    *   **推論（テスト）時:** 全てのニューロンを使用しますが、訓練時にニューロンをドロップアウトしたことによる出力スケールの変化を補正するために、各ニューロンの出力を確率 $(1-p)$ でスケーリングします（Inverted Dropoutと呼ばれる手法では、訓練時に $(1-p)$ で割っておくことで、テスト時は何もしなくてよくなります）。または、多数のドロップアウトされたネットワークの予測を平均化する操作を近似します。\n",
    "\n",
    "*   **NumPyによる概念実装 (順伝播時の適用):**\n",
    "    （逆伝播もドロップアウトされたニューロンの勾配は0になります）"
   ]
  },
  {
   "cell_type": "code",
   "execution_count": 25,
   "id": "726db96c",
   "metadata": {
    "executionInfo": {
     "elapsed": 21,
     "status": "ok",
     "timestamp": 1748938713663,
     "user": {
      "displayName": "赤川秀哉",
      "userId": "15971507334070170989"
     },
     "user_tz": -540
    },
    "id": "726db96c"
   },
   "outputs": [],
   "source": [
    "def dropout_forward(x, p_dropout, is_training=True):\n",
    "    '''\n",
    "    Dropoutの順伝播（Inverted Dropoutではない）\n",
    "    parameters:\n",
    "        x: 入力テンソル\n",
    "        p_dropout: ドロップアウト率\n",
    "        is_training: 訓練時か推論時か\n",
    "    returns:\n",
    "        tupple: (output, mask) または (output, None)\n",
    "                output: ドロップアウト後の出力テンソル\n",
    "                mask: 訓練時に使用したドロップアウトマスク\n",
    "    '''\n",
    "    if not (0 <= p_dropout < 1):\n",
    "        raise ValueError(\"p_dropout must be in the range [0, 1)\")\n",
    "\n",
    "    if is_training:\n",
    "        # 訓練時：（1-p_dropout）の確率でニューロンを保持\n",
    "        # マスクを生成（ベルヌーイ分布からサンプリング）\n",
    "        # Xと同じ形状で，各要素が （1-p_dropout）である確率で1, それ以外は0\n",
    "        mask = (np.random.rand(*x.shape) > p_dropout).astype(np.float32)\n",
    "        output = x * mask\n",
    "        return output, mask\n",
    "\n",
    "    else:\n",
    "        # 推論時：ドロップアウトは適用しないが、スケーリングを行う\n",
    "        output = x * (1 - p_dropout)\n",
    "        return output, None"
   ]
  },
  {
   "cell_type": "code",
   "execution_count": 26,
   "id": "ecba6c7d",
   "metadata": {
    "colab": {
     "base_uri": "https://localhost:8080/"
    },
    "executionInfo": {
     "elapsed": 20,
     "status": "ok",
     "timestamp": 1748938713663,
     "user": {
      "displayName": "赤川秀哉",
      "userId": "15971507334070170989"
     },
     "user_tz": -540
    },
    "id": "ecba6c7d",
    "outputId": "97a744c5-c1ae-4442-b85e-b38352d5113d"
   },
   "outputs": [
    {
     "name": "stdout",
     "output_type": "stream",
     "text": [
      "\n",
      "--- Dropoutテスト ---\n",
      "Dropout入力:\n",
      " [[ 1.  2.  3.  4.  5.]\n",
      " [ 6.  7.  8.  9. 10.]]\n",
      "\n",
      "Dropout出力 (訓練時, p=0.5):\n",
      " [[1. 0. 3. 0. 5.]\n",
      " [6. 7. 0. 9. 0.]]\n",
      "使用されたマスク:\n",
      " [[1. 0. 1. 0. 1.]\n",
      " [1. 1. 0. 1. 0.]]\n",
      "\n",
      "Dropout出力 (推論時, p=0.5, スケーリング係数=0.5):\n",
      " [[0.5 1.  1.5 2.  2.5]\n",
      " [3.  3.5 4.  4.5 5. ]]\n"
     ]
    }
   ],
   "source": [
    "# テスト\n",
    "print(\"\\n--- Dropoutテスト ---\")\n",
    "dummy_dropout_input = np.array([[1,2,3,4,5], [6,7,8,9,10]], dtype=np.float32)\n",
    "p_drop = 0.5\n",
    "print(\"Dropout入力:\\n\", dummy_dropout_input)\n",
    "\n",
    "# 訓練時\n",
    "output_train, mask_train = dropout_forward(dummy_dropout_input, p_drop, is_training=True)\n",
    "print(f\"\\nDropout出力 (訓練時, p={p_drop}):\\n\", output_train)\n",
    "print(\"使用されたマスク:\\n\", mask_train)\n",
    "\n",
    "# 推論時\n",
    "output_test, _ = dropout_forward(dummy_dropout_input, p_drop, is_training=False)\n",
    "print(f\"\\nDropout出力 (推論時, p={p_drop}, スケーリング係数={1.0-p_drop}):\\n\", output_test)\n",
    "\n",
    "# Inverted Dropout の場合:\n",
    "# 訓練時: output = (X * mask) / (1.0 - p_dropout)\n",
    "# 推論時: output = X (何もしない)\n",
    "# PyTorchの nn.Dropout はデフォルトで Inverted Dropout のように振る舞います (推論時は何もしない)。"
   ]
  },
  {
   "cell_type": "markdown",
   "id": "2389f45a",
   "metadata": {
    "id": "2389f45a"
   },
   "source": [
    "### 2.4 Overlapping Pooling\n",
    "\n",
    "*   **概念:**\n",
    "    従来のプーリング（例: LeNet-5のS2, S4）では、プーリングウィンドウが重ならないようにストライドをウィンドウサイズと同じに設定することが一般的でした（non-overlapping pooling）。\n",
    "    AlexNetでは、ストライドをウィンドウサイズよりも小さく設定する**Overlapping Pooling**が使用されました（例: ウィンドウサイズ3x3、ストライド2）。\n",
    "    これにより、より多くの情報が次の層に伝播し、過学習をわずかに抑制し、性能向上に繋がったと報告されています。\n",
    "\n",
    "*   **実装:**\n",
    "    以前LeNet-5のノートブックで実装した`max_pool2d`関数は、`pool_size`と`stride`を個別に指定できるため、Overlapping Poolingも表現できます。\n",
    "    (NumPy版 `max_pool2d` の実装はLeNet-5ノートブック参照、またはPyTorchでは `nn.MaxPool2d(kernel_size, stride)` で簡単に実現できます)"
   ]
  },
  {
   "cell_type": "markdown",
   "id": "1c696370",
   "metadata": {
    "id": "1c696370"
   },
   "source": [
    "## 3. AlexNet アーキテクチャの概要\n",
    "\n",
    "AlexNetのアーキテクチャは、LeNet-5よりも深く、広くなっています。論文 (Figure 2) に基づく主な構成は以下の通りです。\n",
    "（論文では2つのGPUで並列に処理する構造が描かれていますが、ここでは単一GPUで処理する場合の論理的な構造を示します）\n",
    "\n",
    "1.  **入力:** 224x224x3 ピクセルのRGB画像 (論文では入力パッチサイズ227x227と記載されることもあるが、最初の畳み込みの計算から逆算すると224x224が整合するケースや、227x227でパディング調整するケースなど文献により差異あり。ここでは一般的な224x224を想定)。\n",
    "\n",
    "2.  **第1畳み込み層 (Conv1):**\n",
    "    *   カーネル数: 96\n",
    "    *   カーネルサイズ: 11x11\n",
    "    *   ストライド: 4\n",
    "    *   パディング: (計算上、出力が55x55になるように調整。例えば padding=2)\n",
    "    *   出力: 96枚の 55x55 特徴マップ。\n",
    "    *   活性化: ReLU\n",
    "    *   **LRN層がこの後に続く**\n",
    "    *   **Overlapping Max Pooling層がこの後に続く** (3x3ウィンドウ、ストライド2) → 出力 27x27\n",
    "\n",
    "3.  **第2畳み込み層 (Conv2):**\n",
    "    *   カーネル数: 256\n",
    "    *   カーネルサイズ: 5x5\n",
    "    *   ストライド: 1\n",
    "    *   パディング: 2 ('same'に近い)\n",
    "    *   入力: 第1プーリング層の出力 (96チャネル、27x27)\n",
    "    *   出力: 256枚の 27x27 特徴マップ。\n",
    "    *   活性化: ReLU\n",
    "    *   **LRN層がこの後に続く**\n",
    "    *   **Overlapping Max Pooling層がこの後に続く** (3x3ウィンドウ、ストライド2) → 出力 13x13\n",
    "\n",
    "4.  **第3畳み込み層 (Conv3):**\n",
    "    *   カーネル数: 384\n",
    "    *   カーネルサイズ: 3x3\n",
    "    *   ストライド: 1\n",
    "    *   パディング: 1 ('same')\n",
    "    *   入力: 第2プーリング層の出力 (256チャネル、13x13)\n",
    "    *   出力: 384枚の 13x13 特徴マップ。\n",
    "    *   活性化: ReLU\n",
    "\n",
    "5.  **第4畳み込み層 (Conv4):**\n",
    "    *   カーネル数: 384\n",
    "    *   カーネルサイズ: 3x3\n",
    "    *   ストライド: 1\n",
    "    *   パディング: 1 ('same')\n",
    "    *   入力: 第3畳み込み層の出力 (384チャネル、13x13)\n",
    "    *   出力: 384枚の 13x13 特徴マップ。\n",
    "    *   活性化: ReLU\n",
    "\n",
    "6.  **第5畳み込み層 (Conv5):**\n",
    "    *   カーネル数: 256\n",
    "    *   カーネルサイズ: 3x3\n",
    "    *   ストライド: 1\n",
    "    *   パディング: 1 ('same')\n",
    "    *   入力: 第4畳み込み層の出力 (384チャネル、13x13)\n",
    "    *   出力: 256枚の 13x13 特徴マップ。\n",
    "    *   活性化: ReLU\n",
    "    *   **Overlapping Max Pooling層がこの後に続く** (3x3ウィンドウ、ストライド2) → 出力 6x6\n",
    "\n",
    "7.  **フラット化:** 第5プーリング層の出力 (256チャネル、6x6) をフラット化 → $256 \\times 6 \\times 6 = 9216$ユニット。\n",
    "\n",
    "8.  **第1全結合層 (FC1 / FC6):**\n",
    "    *   入力ユニット数: 9216\n",
    "    *   出力ユニット数: 4096\n",
    "    *   活性化: ReLU\n",
    "    *   **Dropout適用** ($p=0.5$)\n",
    "\n",
    "9.  **第2全結合層 (FC2 / FC7):**\n",
    "    *   入力ユニット数: 4096\n",
    "    *   出力ユニット数: 4096\n",
    "    *   活性化: ReLU\n",
    "    *   **Dropout適用** ($p=0.5$)\n",
    "\n",
    "10. **出力層 (FC3 / FC8):**\n",
    "    *   入力ユニット数: 4096\n",
    "    *   出力ユニット数: 1000 (ImageNetのクラス数)\n",
    "    *   活性化: Softmax (分類のため)\n",
    "\n",
    "**複数GPUでの学習:**\n",
    "論文では、2つのGPUにモデルを分割して学習を行っています。例えば、畳み込み層のカーネルを半分ずつ各GPUに割り当て、特定の層でのみGPU間で通信を行います。これにより、より大きなモデルを学習可能にしました。"
   ]
  },
  {
   "cell_type": "markdown",
   "id": "9836c545",
   "metadata": {
    "id": "9836c545"
   },
   "source": [
    "## 4. PyTorchによるAlexNetの実装とCIFAR-10での学習・評価 (簡易版)\n",
    "\n",
    "ImageNetデータセットは非常に大きく、学習に多くの計算資源と時間が必要です。\n",
    "ここでは、AlexNetのアーキテクチャを参考にしつつ、より小さなCIFAR-10データセット（32x32のカラー画像、10クラス）用に調整した簡易版AlexNetをPyTorchで実装し、学習と評価を行います。\n",
    "\n",
    "**CIFAR-10用への主な変更点:**\n",
    "*   入力サイズ: 32x32x3\n",
    "*   出力クラス数: 10\n",
    "*   層のチャネル数や全結合層のユニット数は、元のAlexNetよりも削減して計算負荷を軽減します。\n",
    "*   LRNはPyTorchの `nn.LocalResponseNorm` を使用します。\n",
    "*   Dropoutは `nn.Dropout` を使用します。"
   ]
  },
  {
   "cell_type": "code",
   "execution_count": 27,
   "id": "815f5d12",
   "metadata": {
    "colab": {
     "base_uri": "https://localhost:8080/"
    },
    "executionInfo": {
     "elapsed": 1920,
     "status": "ok",
     "timestamp": 1748938715580,
     "user": {
      "displayName": "赤川秀哉",
      "userId": "15971507334070170989"
     },
     "user_tz": -540
    },
    "id": "815f5d12",
    "outputId": "c17943f2-1c51-45b9-c93e-14cb4b1a945c"
   },
   "outputs": [
    {
     "name": "stdout",
     "output_type": "stream",
     "text": [
      "CIFAR-10 訓練データセットのサンプル数: 50000\n",
      "CIFAR-10 テストデータセットのサンプル数: 10000\n",
      "\n",
      "CIFAR-10 1バッチの画像の形状: torch.Size([128, 3, 32, 32])\n"
     ]
    }
   ],
   "source": [
    "# CIFAR-10 データセットの準備\n",
    "transform_cifar = transforms.Compose([\n",
    "    transforms.ToTensor(),\n",
    "    transforms.Normalize((0.5, 0.5, 0.5), (0.5, 0.5, 0.5)) # RGB各チャネルの平均と標準偏差を0.5に\n",
    "])\n",
    "\n",
    "train_dataset_cifar = torchvision.datasets.CIFAR10(root='./data', train=True,\n",
    "                                                   download=True, transform=transform_cifar)\n",
    "test_dataset_cifar = torchvision.datasets.CIFAR10(root='./data', train=False,\n",
    "                                                  download=True, transform=transform_cifar)\n",
    "\n",
    "# CIFAR-10は画像サイズが小さいのでバッチサイズを少し大きめに\n",
    "batch_size_cifar = 128\n",
    "train_loader_cifar = DataLoader(train_dataset_cifar, batch_size=batch_size_cifar, shuffle=True, num_workers=2)\n",
    "test_loader_cifar = DataLoader(test_dataset_cifar, batch_size=batch_size_cifar, shuffle=False, num_workers=2)\n",
    "\n",
    "classes_cifar = ('plane', 'car', 'bird', 'cat', 'deer',\n",
    "                 'dog', 'frog', 'horse', 'ship', 'truck')\n",
    "\n",
    "print(f\"CIFAR-10 訓練データセットのサンプル数: {len(train_dataset_cifar)}\")\n",
    "print(f\"CIFAR-10 テストデータセットのサンプル数: {len(test_dataset_cifar)}\")\n",
    "dataiter_cifar = iter(train_loader_cifar)\n",
    "images_cifar, labels_cifar = next(dataiter_cifar)\n",
    "print(\"\\nCIFAR-10 1バッチの画像の形状:\", images_cifar.shape) # (batch_size, 3, 32, 32)"
   ]
  },
  {
   "cell_type": "code",
   "execution_count": 28,
   "id": "5e6a3a4f",
   "metadata": {
    "executionInfo": {
     "elapsed": 25,
     "status": "ok",
     "timestamp": 1748938715628,
     "user": {
      "displayName": "赤川秀哉",
      "userId": "15971507334070170989"
     },
     "user_tz": -540
    },
    "id": "5e6a3a4f"
   },
   "outputs": [],
   "source": [
    "class AlexNetCIFAR(nn.Module):\n",
    "    def __init__(self, num_classes=10):\n",
    "        super(AlexNetCIFAR, self).__init__()\n",
    "        # CIFAR-10 (32x32x3) 用に調整\n",
    "        self.features = nn.Sequential(\n",
    "            # Conv1: (32-5+2*0)/1 + 1 = 28 ? 論文では (224 -> 55 stride 4)\n",
    "            # CIFAR-10用に調整: kernel=5, stride=1, padding=2 -> (32-5+2*2)/1+1 = 32.\n",
    "            # または kernel=3, stride=1, padding=1 -> 32\n",
    "            # ここでは一般的な構成に少し近づける\n",
    "            nn.Conv2d(3, 64, kernel_size=3, stride=1, padding=1), # (32x32x3) -> (32x32x64)\n",
    "            nn.ReLU(inplace=True),\n",
    "            # LRN (論文ではk=2, n=5, alpha=1e-4, beta=0.75)\n",
    "            # nn.LocalResponseNorm(size=5, alpha=1e-4, beta=0.75, k=2), # PyTorchのLRNはsizeがn\n",
    "            nn.MaxPool2d(kernel_size=2, stride=2), # (32x32x64) -> (16x16x64)\n",
    "\n",
    "            nn.Conv2d(64, 192, kernel_size=3, padding=1), # (16x16x64) -> (16x16x192)\n",
    "            nn.ReLU(inplace=True),\n",
    "            # nn.LocalResponseNorm(size=5, alpha=1e-4, beta=0.75, k=2),\n",
    "            nn.MaxPool2d(kernel_size=2, stride=2), # (16x16x192) -> (8x8x192)\n",
    "\n",
    "            nn.Conv2d(192, 384, kernel_size=3, padding=1), # (8x8x192) -> (8x8x384)\n",
    "            nn.ReLU(inplace=True),\n",
    "\n",
    "            nn.Conv2d(384, 256, kernel_size=3, padding=1), # (8x8x384) -> (8x8x256)\n",
    "            nn.ReLU(inplace=True),\n",
    "\n",
    "            nn.Conv2d(256, 256, kernel_size=3, padding=1), # (8x8x256) -> (8x8x256)\n",
    "            nn.ReLU(inplace=True),\n",
    "            nn.MaxPool2d(kernel_size=2, stride=2), # (8x8x256) -> (4x4x256)\n",
    "        )\n",
    "        # プーリング層の後、全結合層の前にAdaptiveAvgPool2dを入れると入力サイズに柔軟性が出る\n",
    "        # self.avgpool = nn.AdaptiveAvgPool2d((6, 6)) # AlexNet原論文のFC入力前のサイズに合わせる場合\n",
    "\n",
    "        self.classifier = nn.Sequential(\n",
    "            nn.Dropout(p=0.5),\n",
    "            nn.Linear(256 * 4 * 4, 1024), # 256チャネル、4x4の特徴マップ\n",
    "            nn.ReLU(inplace=True),\n",
    "            nn.Dropout(p=0.5),\n",
    "            nn.Linear(1024, 512),\n",
    "            nn.ReLU(inplace=True),\n",
    "            nn.Linear(512, num_classes),\n",
    "        )\n",
    "\n",
    "    def forward(self, x):\n",
    "        x = self.features(x)\n",
    "        x = torch.flatten(x, 1) # Flatten\n",
    "        x = self.classifier(x)\n",
    "        return x"
   ]
  },
  {
   "cell_type": "code",
   "execution_count": 29,
   "id": "72185a8e",
   "metadata": {
    "colab": {
     "base_uri": "https://localhost:8080/"
    },
    "executionInfo": {
     "elapsed": 112,
     "status": "ok",
     "timestamp": 1748938715741,
     "user": {
      "displayName": "赤川秀哉",
      "userId": "15971507334070170989"
     },
     "user_tz": -540
    },
    "id": "72185a8e",
    "outputId": "ed4c86bc-8af2-4a16-87c3-64c7f4c719ce"
   },
   "outputs": [
    {
     "name": "stdout",
     "output_type": "stream",
     "text": [
      "\n",
      "AlexNet-style Model for CIFAR-10:\n",
      " AlexNetCIFAR(\n",
      "  (features): Sequential(\n",
      "    (0): Conv2d(3, 64, kernel_size=(3, 3), stride=(1, 1), padding=(1, 1))\n",
      "    (1): ReLU(inplace=True)\n",
      "    (2): MaxPool2d(kernel_size=2, stride=2, padding=0, dilation=1, ceil_mode=False)\n",
      "    (3): Conv2d(64, 192, kernel_size=(3, 3), stride=(1, 1), padding=(1, 1))\n",
      "    (4): ReLU(inplace=True)\n",
      "    (5): MaxPool2d(kernel_size=2, stride=2, padding=0, dilation=1, ceil_mode=False)\n",
      "    (6): Conv2d(192, 384, kernel_size=(3, 3), stride=(1, 1), padding=(1, 1))\n",
      "    (7): ReLU(inplace=True)\n",
      "    (8): Conv2d(384, 256, kernel_size=(3, 3), stride=(1, 1), padding=(1, 1))\n",
      "    (9): ReLU(inplace=True)\n",
      "    (10): Conv2d(256, 256, kernel_size=(3, 3), stride=(1, 1), padding=(1, 1))\n",
      "    (11): ReLU(inplace=True)\n",
      "    (12): MaxPool2d(kernel_size=2, stride=2, padding=0, dilation=1, ceil_mode=False)\n",
      "  )\n",
      "  (classifier): Sequential(\n",
      "    (0): Dropout(p=0.5, inplace=False)\n",
      "    (1): Linear(in_features=4096, out_features=1024, bias=True)\n",
      "    (2): ReLU(inplace=True)\n",
      "    (3): Dropout(p=0.5, inplace=False)\n",
      "    (4): Linear(in_features=1024, out_features=512, bias=True)\n",
      "    (5): ReLU(inplace=True)\n",
      "    (6): Linear(in_features=512, out_features=10, bias=True)\n",
      "  )\n",
      ")\n",
      "\n",
      "CIFAR Dummy Input Shape: torch.Size([128, 3, 32, 32])\n",
      "CIFAR Dummy Output Shape (Logits): torch.Size([128, 10])\n"
     ]
    }
   ],
   "source": [
    "model_alexnet_cifar = AlexNetCIFAR(num_classes=10).to(device)\n",
    "print(\"\\nAlexNet-style Model for CIFAR-10:\\n\", model_alexnet_cifar)\n",
    "\n",
    "# ダミー入力でフォワードパスのテスト\n",
    "dummy_input_cifar = torch.randn(batch_size_cifar, 3, 32, 32).to(device)\n",
    "output_dummy_cifar = model_alexnet_cifar(dummy_input_cifar)\n",
    "print(\"\\nCIFAR Dummy Input Shape:\", dummy_input_cifar.shape)\n",
    "print(\"CIFAR Dummy Output Shape (Logits):\", output_dummy_cifar.shape)"
   ]
  },
  {
   "cell_type": "code",
   "execution_count": 30,
   "id": "c9a11807",
   "metadata": {
    "executionInfo": {
     "elapsed": 5,
     "status": "ok",
     "timestamp": 1748938715748,
     "user": {
      "displayName": "赤川秀哉",
      "userId": "15971507334070170989"
     },
     "user_tz": -540
    },
    "id": "c9a11807"
   },
   "outputs": [],
   "source": [
    "# 損失関数とOptimizer\n",
    "criterion_alexnet = nn.CrossEntropyLoss()\n",
    "optimizer_alexnet = optim.Adam(model_alexnet_cifar.parameters(), lr=0.001)\n",
    "# optimizer_alexnet = optim.SGD(model_alexnet_cifar.parameters(), lr=0.01, momentum=0.9, weight_decay=5e-4) # SGD+Momentum+WeightDecayも一般的"
   ]
  },
  {
   "cell_type": "code",
   "execution_count": 31,
   "id": "774174ee",
   "metadata": {
    "colab": {
     "base_uri": "https://localhost:8080/"
    },
    "executionInfo": {
     "elapsed": 394269,
     "status": "ok",
     "timestamp": 1748939110019,
     "user": {
      "displayName": "赤川秀哉",
      "userId": "15971507334070170989"
     },
     "user_tz": -540
    },
    "id": "774174ee",
    "outputId": "c192ff45-6194-46e0-e485-4a3fd50e8d50"
   },
   "outputs": [
    {
     "name": "stdout",
     "output_type": "stream",
     "text": [
      "\n",
      "AlexNet-style 学習開始 (CIFAR-10データ、20 epochs)...\n",
      "Epoch [1/20], Step [200/391], Loss: 1.5329\n",
      "Epoch [1/20]Train Loss: 1.6567, Train Acc: 37.66% - Test Loss: 1.3023, Test Acc: 52.18%\n",
      "Epoch [2/20], Step [200/391], Loss: 1.3354\n",
      "Epoch [2/20]Train Loss: 1.2119, Train Acc: 56.06% - Test Loss: 1.0483, Test Acc: 62.45%\n",
      "Epoch [3/20], Step [200/391], Loss: 1.0316\n",
      "Epoch [3/20]Train Loss: 0.9977, Train Acc: 64.89% - Test Loss: 0.9343, Test Acc: 66.93%\n",
      "Epoch [4/20], Step [200/391], Loss: 0.9149\n",
      "Epoch [4/20]Train Loss: 0.8419, Train Acc: 70.62% - Test Loss: 0.7866, Test Acc: 72.69%\n",
      "Epoch [5/20], Step [200/391], Loss: 0.6610\n",
      "Epoch [5/20]Train Loss: 0.7320, Train Acc: 74.40% - Test Loss: 0.7373, Test Acc: 74.86%\n",
      "Epoch [6/20], Step [200/391], Loss: 0.6664\n",
      "Epoch [6/20]Train Loss: 0.6481, Train Acc: 77.37% - Test Loss: 0.7493, Test Acc: 74.84%\n",
      "Epoch [7/20], Step [200/391], Loss: 0.5828\n",
      "Epoch [7/20]Train Loss: 0.5745, Train Acc: 80.01% - Test Loss: 0.6758, Test Acc: 76.87%\n",
      "Epoch [8/20], Step [200/391], Loss: 0.5812\n",
      "Epoch [8/20]Train Loss: 0.5214, Train Acc: 81.85% - Test Loss: 0.6895, Test Acc: 77.20%\n",
      "Epoch [9/20], Step [200/391], Loss: 0.4735\n",
      "Epoch [9/20]Train Loss: 0.4696, Train Acc: 83.57% - Test Loss: 0.6710, Test Acc: 78.17%\n",
      "Epoch [10/20], Step [200/391], Loss: 0.4890\n",
      "Epoch [10/20]Train Loss: 0.4230, Train Acc: 85.15% - Test Loss: 0.6642, Test Acc: 78.12%\n",
      "Epoch [11/20], Step [200/391], Loss: 0.4302\n",
      "Epoch [11/20]Train Loss: 0.3877, Train Acc: 86.56% - Test Loss: 0.6676, Test Acc: 78.28%\n",
      "Epoch [12/20], Step [200/391], Loss: 0.3304\n",
      "Epoch [12/20]Train Loss: 0.3524, Train Acc: 87.46% - Test Loss: 0.6938, Test Acc: 78.77%\n",
      "Epoch [13/20], Step [200/391], Loss: 0.2331\n",
      "Epoch [13/20]Train Loss: 0.3240, Train Acc: 88.46% - Test Loss: 0.6746, Test Acc: 79.22%\n",
      "Epoch [14/20], Step [200/391], Loss: 0.3440\n",
      "Epoch [14/20]Train Loss: 0.2970, Train Acc: 89.68% - Test Loss: 0.6784, Test Acc: 78.94%\n",
      "Epoch [15/20], Step [200/391], Loss: 0.2410\n",
      "Epoch [15/20]Train Loss: 0.2714, Train Acc: 90.51% - Test Loss: 0.7253, Test Acc: 79.02%\n",
      "Epoch [16/20], Step [200/391], Loss: 0.2150\n",
      "Epoch [16/20]Train Loss: 0.2520, Train Acc: 91.31% - Test Loss: 0.7015, Test Acc: 79.72%\n",
      "Epoch [17/20], Step [200/391], Loss: 0.3304\n",
      "Epoch [17/20]Train Loss: 0.2333, Train Acc: 91.84% - Test Loss: 0.7402, Test Acc: 79.22%\n",
      "Epoch [18/20], Step [200/391], Loss: 0.2296\n",
      "Epoch [18/20]Train Loss: 0.2234, Train Acc: 92.31% - Test Loss: 0.7553, Test Acc: 79.36%\n",
      "Epoch [19/20], Step [200/391], Loss: 0.3182\n",
      "Epoch [19/20]Train Loss: 0.2083, Train Acc: 92.86% - Test Loss: 0.7978, Test Acc: 78.86%\n",
      "Epoch [20/20], Step [200/391], Loss: 0.1536\n",
      "Epoch [20/20]Train Loss: 0.1950, Train Acc: 93.29% - Test Loss: 0.8053, Test Acc: 79.31%\n",
      "学習完了！\n"
     ]
    }
   ],
   "source": [
    "num_epochs_alexnet = 20 # エポック数\n",
    "train_losses = []\n",
    "train_accuracies = []\n",
    "test_losses = []\n",
    "test_accuracies = []\n",
    "\n",
    "print(f\"\\nAlexNet-style 学習開始 (CIFAR-10データ、{num_epochs_alexnet} epochs)...\")\n",
    "\n",
    "for epoch in range(num_epochs_alexnet):\n",
    "    model_alexnet_cifar.train() # モデルを訓練モードに設定\n",
    "    running_loss = 0.0\n",
    "    correct_train = 0\n",
    "    total_train = 0\n",
    "\n",
    "    for i, (images, labels) in enumerate(train_loader_cifar):\n",
    "        images = images.to(device)\n",
    "        labels = labels.to(device)\n",
    "\n",
    "        # 順伝播\n",
    "        outputs = model_alexnet_cifar(images)\n",
    "        loss = criterion_alexnet(outputs, labels)\n",
    "\n",
    "        # 逆伝播と最適化\n",
    "        optimizer_alexnet.zero_grad()\n",
    "        loss.backward()\n",
    "        optimizer_alexnet.step()\n",
    "\n",
    "        running_loss += loss.item()\n",
    "        _, predicted = torch.max(outputs.data, 1)\n",
    "        total_train += labels.size(0)\n",
    "        correct_train += (predicted == labels).sum().item()\n",
    "\n",
    "        if (i+1) % 200 == 0:\n",
    "            print(f\"Epoch [{epoch+1}/{num_epochs_alexnet}], Step [{i+1}/{len(train_loader_cifar)}], Loss: {loss.item():.4f}\")\n",
    "\n",
    "    epoch_loss_train = running_loss / len(train_loader_cifar)\n",
    "    epoch_acc_train = 100 * correct_train / total_train\n",
    "    train_losses.append(epoch_loss_train)\n",
    "    train_accuracies.append(epoch_acc_train)\n",
    "\n",
    "    # -- 各エポック終了時にテストデータで評価 --\n",
    "    model_alexnet_cifar.eval() # モデルを評価モードに設定\n",
    "    correct_test = 0\n",
    "    total_test = 0\n",
    "    running_test_loss = 0.0\n",
    "\n",
    "    with torch.no_grad(): # 勾配計算を無効化\n",
    "        for images_test, labels_test in test_loader_cifar:\n",
    "            images_test = images_test.to(device)\n",
    "            labels_test = labels_test.to(device)\n",
    "\n",
    "            outputs_test = model_alexnet_cifar(images_test)\n",
    "            loss_test = criterion_alexnet(outputs_test, labels_test)\n",
    "            running_test_loss += loss_test.item()\n",
    "\n",
    "            _, predicted_test = torch.max(outputs_test.data, 1)\n",
    "            total_test += labels_test.size(0)\n",
    "            correct_test += (predicted_test == labels_test).sum().item()\n",
    "\n",
    "    epoch_loss_test = running_test_loss / len(test_loader_cifar)\n",
    "    epoch_acc_test = 100 * correct_test / total_test\n",
    "    test_losses.append(epoch_loss_test)\n",
    "    test_accuracies.append(epoch_acc_test)\n",
    "\n",
    "    print(f\"Epoch [{epoch+1}/{num_epochs_alexnet}]\"\n",
    "          f\"Train Loss: {epoch_loss_train:.4f}, Train Acc: {epoch_acc_train:.2f}% - \"\n",
    "          f\"Test Loss: {epoch_loss_test:.4f}, Test Acc: {epoch_acc_test:.2f}%\")\n",
    "\n",
    "print(\"学習完了！\")"
   ]
  },
  {
   "cell_type": "code",
   "execution_count": 33,
   "id": "c69a4067",
   "metadata": {
    "colab": {
     "base_uri": "https://localhost:8080/",
     "height": 344
    },
    "executionInfo": {
     "elapsed": 2974,
     "status": "ok",
     "timestamp": 1748939146471,
     "user": {
      "displayName": "赤川秀哉",
      "userId": "15971507334070170989"
     },
     "user_tz": -540
    },
    "id": "c69a4067",
    "outputId": "ceb126c4-578c-470d-b18d-a582fb1d1568"
   },
   "outputs": [
    {
     "data": {
      "image/png": "[encoded data removed]",
      "text/plain": [
       "<Figure size 700x300 with 2 Axes>"
      ]
     },
     "metadata": {},
     "output_type": "display_data"
    },
    {
     "name": "stdout",
     "output_type": "stream",
     "text": [
      "\n",
      "最終テスト精度: 79.31%\n"
     ]
    }
   ],
   "source": [
    "# 学習曲線 (損失) のプロット\n",
    "plt.figure(figsize=(7, 3))\n",
    "plt.subplot(1, 2, 1)\n",
    "plt.plot(range(1, num_epochs_alexnet + 1), train_losses, label='Training Loss')\n",
    "plt.plot(range(1, num_epochs_alexnet + 1), test_losses, label='Test Loss')\n",
    "plt.xlabel('Epochs')\n",
    "plt.ylabel('Loss (Cross Entropy)')\n",
    "plt.title('LeNet-5 Training and Test Loss Curve')\n",
    "plt.legend()\n",
    "\n",
    "# 学習曲線 (精度) のプロット\n",
    "plt.subplot(1, 2, 2)\n",
    "plt.plot(range(1, num_epochs_alexnet + 1), train_accuracies, label='Training Accuracy')\n",
    "plt.plot(range(1, num_epochs_alexnet + 1), test_accuracies, label='Test Accuracy')\n",
    "plt.xlabel('Epochs')\n",
    "plt.ylabel('Accuracy (%)')\n",
    "plt.title('LeNet-5 Training and Test Accuracy Curve')\n",
    "plt.legend()\n",
    "\n",
    "plt.tight_layout()\n",
    "plt.show()\n",
    "\n",
    "print(f\"\\n最終テスト精度: {test_accuracies[-1]:.2f}%\")\n",
    "\n",
    "# テストデータセットでの最終的な詳細な評価\n",
    "model_alexnet_cifar.eval()\n",
    "all_preds = []\n",
    "all_labels = []\n",
    "with torch.no_grad():\n",
    "    for images, labels in test_loader_cifar:\n",
    "        images = images.to(device)\n",
    "        labels = labels.to(device)\n",
    "        outputs = model_alexnet_cifar(images)\n",
    "        _, predicted = torch.max(outputs.data, 1)\n",
    "        all_preds.extend(predicted.cpu().numpy())\n",
    "        all_labels.extend(labels.cpu().numpy())"
   ]
  },
  {
   "cell_type": "markdown",
   "id": "69963db9",
   "metadata": {
    "id": "69963db9"
   },
   "source": [
    "## 5. 考察\n",
    "\n",
    "*   **AlexNetの革新性:**\n",
    "    *   **深いネットワーク:** LeNet-5よりも多くの畳み込み層と全結合層を持ち、表現能力が向上しました。\n",
    "    *   **ReLU活性化関数:** 学習の高速化に大きく貢献しました。\n",
    "    *   **Dropout:** 全結合層での過学習を効果的に抑制しました。\n",
    "    *   **Data Augmentation:** (今回の実装では直接扱っていませんが) 訓練データを水増しすることで、汎化性能を向上させました。\n",
    "    *   **LRN:** 当時は性能向上に寄与するとされましたが、現代ではBatch Normalizationが主流です。\n",
    "    *   **複数GPUでの学習:** 大規模なモデルを効率的に学習するための先駆けとなりました。\n",
    "    *   **Overlapping Pooling:** 過学習を抑制し、性能をわずかに向上させたと報告されています。\n",
    "\n",
    "*   **PyTorchによる実装の利点:**\n",
    "    *   `nn.Conv2d`, `nn.ReLU`, `nn.MaxPool2d`, `nn.Linear`, `nn.Dropout`, `nn.LocalResponseNorm` といった高レベルなモジュールを使うことで、複雑なAlexNetのアーキテクチャも比較的容易に定義できました。\n",
    "    *   データセットの準備、バッチ化、学習ループ、勾配計算、パラメータ更新といった定型的な処理は、PyTorchの機能によって大幅に簡略化されました。\n",
    "    *   GPUを利用することで、CIFAR-10のような比較的小さなデータセットでも、それなりのエポック数の学習を現実的な時間で行うことができます。\n",
    "\n",
    "*   **今回のCIFAR-10での簡易実装について:**\n",
    "    *   アーキテクチャはCIFAR-10の画像サイズに合わせて調整し、層のチャネル数なども元のAlexNetより小さくしています。そのため、ImageNetでのAlexNetの性能を直接比較することはできません。\n",
    "    *   適切なハイパーパラメータチューニング（学習率、Optimizer、エポック数、Dropout率など）や、より洗練されたData Augmentationを行うことで、CIFAR-10での精度はさらに向上する可能性があります。\n",
    "    *   このノートブックの目的は、AlexNetで導入された主要なアイデアを理解し、PyTorchでCNNを構築・学習する一連の流れを体験することです。\n",
    "\n",
    "AlexNetは、深層学習が画像認識の分野で大きなブレークスルーを達成するきっかけとなった非常に重要なモデルです。その構成要素や設計思想は、後の多くのCNNアーキテクチャに影響を与えています。"
   ]
  }
 ],
 "metadata": {
  "accelerator": "GPU",
  "colab": {
   "gpuType": "T4",
   "provenance": []
  },
  "kernelspec": {
   "display_name": "Python 3",
   "name": "python3"
  },
  "language_info": {
   "codemirror_mode": {
    "name": "ipython",
    "version": 3
   },
   "file_extension": ".py",
   "mimetype": "text/x-python",
   "name": "python",
   "nbconvert_exporter": "python",
   "pygments_lexer": "ipython3",
   "version": "3.12.7"
  }
 },
 "nbformat": 4,
 "nbformat_minor": 5
}
